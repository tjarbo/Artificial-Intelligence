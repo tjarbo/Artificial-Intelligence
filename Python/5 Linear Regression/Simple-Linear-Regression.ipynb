{
 "cells": [
  {
   "cell_type": "code",
   "execution_count": 1,
   "metadata": {},
   "outputs": [
    {
     "data": {
      "text/html": [
       "<link href='http://fonts.googleapis.com/css?family=Alegreya+Sans:100,300,400,500,700,800,900,100italic,300italic,400italic,500italic,700italic,800italic,900italic' rel='stylesheet' type='text/css'>\n",
       "<link href='http://fonts.googleapis.com/css?family=Arvo:400,700,400italic' rel='stylesheet' type='text/css'>\n",
       "<link href='http://fonts.googleapis.com/css?family=PT+Mono' rel='stylesheet' type='text/css'>\n",
       "<link href='http://fonts.googleapis.com/css?family=Shadows+Into+Light' rel='stylesheet' type='text/css'>\n",
       "<link href='http://fonts.googleapis.com/css?family=Philosopher:400,700,400italic,700italic' rel='stylesheet' type='text/css'>\n",
       "\n",
       "<style>\n",
       "\n",
       "@font-face {\n",
       "    font-family: \"Computer Modern\";\n",
       "    src: url('http://mirrors.ctan.org/fonts/cm-unicode/fonts/otf/cmunss.otf');\n",
       "}\n",
       "\n",
       ".container { width: 100% }\n",
       "\n",
       "/* Formatting for header cells */\n",
       ".text_cell_render h1 {\n",
       "    font-family: 'Philosopher', sans-serif;\n",
       "    font-weight: 400;\n",
       "    font-size: 2.2em;\n",
       "    line-height: 100%;\n",
       "    color: rgb(0, 80, 120);\n",
       "    margin-bottom: 0.1em;\n",
       "    margin-top: 0.1em;\n",
       "    display: block;\n",
       "}\t\n",
       ".text_cell_render h2 {\n",
       "    font-family: 'Philosopher', serif;\n",
       "    font-weight: 400;\n",
       "    font-size: 1.9em;\n",
       "    line-height: 100%;\n",
       "    color: rgb(200,100,0);\n",
       "    margin-bottom: 0.1em;\n",
       "    margin-top: 0.1em;\n",
       "    display: block;\n",
       "}\t\n",
       "\n",
       ".text_cell_render h3 {\n",
       "    font-family: 'Philosopher', serif;\n",
       "    margin-top:12px;\n",
       "    margin-bottom: 3px;\n",
       "    font-style: italic;\n",
       "    color: rgb(94,127,192);\n",
       "}\n",
       "\n",
       ".text_cell_render h4 {\n",
       "    font-family: 'Philosopher', serif;\n",
       "}\n",
       "\n",
       ".text_cell_render h5 {\n",
       "    font-family: 'Alegreya Sans', sans-serif;\n",
       "    font-weight: 300;\n",
       "    font-size: 16pt;\n",
       "    color: grey;\n",
       "    font-style: italic;\n",
       "    margin-bottom: .1em;\n",
       "    margin-top: 0.1em;\n",
       "    display: block;\n",
       "}\n",
       "\n",
       ".text_cell_render h6 {\n",
       "    font-family: 'PT Mono', sans-serif;\n",
       "    font-weight: 300;\n",
       "    font-size: 10pt;\n",
       "    color: grey;\n",
       "    margin-bottom: 1px;\n",
       "    margin-top: 1px;\n",
       "}\n",
       "\n",
       ".text_cell_render em {\n",
       "    font-family: 'Philosopher', sans-serif;\n",
       "    color:        blue;\n",
       "    background-color: rgb(255,220,180);\n",
       "    font-size:    110%;\n",
       "    margin-left:   2px;\n",
       "    margin-right:  2px;\n",
       "    font-weight:   100;\n",
       "}\n",
       "\n",
       ".text_cell_render b {\n",
       "    color:            rgb(255,195,195);\n",
       "    background-color: rgb(0,0,0);\n",
       "    font-size:    110%;\n",
       "    margin-left:   2px;\n",
       "    margin-right:  2px;\n",
       "    font-weight:   650;\n",
       "}\n",
       "\n",
       ".text_cell_render u {\n",
       "    color:            blue;\n",
       "    font-size:    110%;\n",
       "    margin-left:   2px;\n",
       "    margin-right:  2px;\n",
       "    font-weight:   650;\n",
       "}\n",
       "\n",
       ".text_cell_render tt {\n",
       "    font-size:    120%;\n",
       "    margin-left:   2px;\n",
       "    margin-right:  2px;\n",
       "    font-weight:   150;\n",
       "}\n",
       "\n",
       ".Codemirror {\n",
       "    font-family: \"PT Mono\";\n",
       "    font-size: 100%;\n",
       "}\n",
       "\n",
       "</style>\n",
       "\n"
      ],
      "text/plain": [
       "<IPython.core.display.HTML object>"
      ]
     },
     "execution_count": 1,
     "metadata": {},
     "output_type": "execute_result"
    }
   ],
   "source": [
    "from IPython.core.display import HTML\n",
    "with open (\"../style.css\", \"r\") as file:\n",
    "    css = file.read()\n",
    "HTML(css)"
   ]
  },
  {
   "cell_type": "markdown",
   "metadata": {},
   "source": [
    "# Simple Linear Regression"
   ]
  },
  {
   "cell_type": "markdown",
   "metadata": {},
   "source": [
    "We need to read our data from a <tt>csv</tt> file.  The module `csv` offers a number of functions for reading and writing a <tt>csv</tt> file."
   ]
  },
  {
   "cell_type": "code",
   "execution_count": 2,
   "metadata": {},
   "outputs": [],
   "source": [
    "import csv"
   ]
  },
  {
   "cell_type": "markdown",
   "metadata": {},
   "source": [
    "The data we want to read is contained in the <tt>csv</tt> file `cars.csv`, which is located in the subdirectory `Python`.  In this file, the first column has the *miles per gallon*, while the *engine displacement* is given in the third column.  On MacOs and Linux systems we can peek at this file via the next cell. "
   ]
  },
  {
   "cell_type": "code",
   "execution_count": 3,
   "metadata": {},
   "outputs": [
    {
     "name": "stdout",
     "output_type": "stream",
     "text": [
      "mpg,cyl,displacement,hp,weight,acc,year,name\r\n",
      "18.0,8,307.0,130.0,3504.0,12.0,70,chevrolet chevelle malibu\r\n",
      "15.0,8,350.0,165.0,3693.0,11.5,70,buick skylark 320\r\n",
      "18.0,8,318.0,150.0,3436.0,11.0,70,plymouth satellite\r\n",
      "16.0,8,304.0,150.0,3433.0,12.0,70,amc rebel sst\r\n",
      "17.0,8,302.0,140.0,3449.0,10.5,70,ford torino\r\n",
      "15.0,8,429.0,198.0,4341.0,10.0,70,ford galaxie 500\r\n",
      "14.0,8,454.0,220.0,4354.0,9.0,70,chevrolet impala\r\n",
      "14.0,8,440.0,215.0,4312.0,8.5,70,plymouth fury iii\r\n",
      "14.0,8,455.0,225.0,4425.0,10.0,70,pontiac catalina\r\n",
      "15.0,8,390.0,190.0,3850.0,8.5,70,amc ambassador dpl\r\n",
      "15.0,8,383.0,170.0,3563.0,10.0,70,dodge challenger se\r\n",
      "14.0,8,340.0,160.0,3609.0,8.0,70,plymouth 'cuda 340\r\n",
      "15.0,8,400.0,150.0,3761.0,9.5,70,chevrolet monte carlo\r\n",
      "14.0,8,455.0,225.0,3086.0,10.0,70,buick estate wagon \r\n",
      "24.0,4,113.0,95.00,2372.0,15.0,70,toyota corona mark ii\r\n",
      "22.0,6,198.0,95.00,2833.0,15.5,70,plymouth duster\r\n",
      "18.0,6,199.0,97.00,2774.0,15.5,70,amc hornet\r\n",
      "21.0,6,200.0,85.00,2587.0,16.0,70,ford maverick\r\n",
      "27.0,4,97.00,88.00,2130.0,14.5,70,datsun pl510\r\n",
      "26.0,4,97.00,46.00,1835.0,20.5,70,volkswagen 1131 deluxe sedan\r\n",
      "25.0,4,110.0,87.00,2672.0,17.5,70,peugeot 504\r\n",
      "24.0,4,107.0,90.00,2430.0,14.5,70,audi 100 ls\r\n",
      "25.0,4,104.0,95.00,2375.0,17.5,70,saab 99e\r\n",
      "26.0,4,121.0,113.0,2234.0,12.5,70,bmw 2002\r\n",
      "21.0,6,199.0,90.00,2648.0,15.0,70,amc gremlin\r\n",
      "10.0,8,360.0,215.0,4615.0,14.0,70,ford f250\r\n",
      "10.0,8,307.0,200.0,4376.0,15.0,70,chevy c20\r\n",
      "11.0,8,318.0,210.0,4382.0,13.5,70,dodge d200\r\n",
      "9.0,8,304.0,193.0,4732.0,18.5,70,hi 1200d\r\n",
      "27.0,4,97.00,88.00,2130.0,14.5,71,datsun pl510\r\n",
      "28.0,4,140.0,90.00,2264.0,15.5,71,chevrolet vega 2300\r\n",
      "25.0,4,113.0,95.00,2228.0,14.0,71,toyota corona\r\n",
      "19.0,6,232.0,100.0,2634.0,13.0,71,amc gremlin\r\n",
      "16.0,6,225.0,105.0,3439.0,15.5,71,plymouth satellite custom\r\n",
      "17.0,6,250.0,100.0,3329.0,15.5,71,chevrolet chevelle malibu\r\n",
      "19.0,6,250.0,88.00,3302.0,15.5,71,ford torino 500\r\n",
      "18.0,6,232.0,100.0,3288.0,15.5,71,amc matador\r\n",
      "14.0,8,350.0,165.0,4209.0,12.0,71,chevrolet impala\r\n",
      "14.0,8,400.0,175.0,4464.0,11.5,71,pontiac catalina brougham\r\n",
      "14.0,8,351.0,153.0,4154.0,13.5,71,ford galaxie 500\r\n",
      "14.0,8,318.0,150.0,4096.0,13.0,71,plymouth fury iii\r\n",
      "12.0,8,383.0,180.0,4955.0,11.5,71,dodge monaco \r\n",
      "13.0,8,400.0,170.0,4746.0,12.0,71,ford country squire \r\n",
      "13.0,8,400.0,175.0,5140.0,12.0,71,pontiac safari \r\n",
      "18.0,6,258.0,110.0,2962.0,13.5,71,amc hornet sportabout \r\n",
      "22.0,4,140.0,72.00,2408.0,19.0,71,chevrolet vega \r\n",
      "19.0,6,250.0,100.0,3282.0,15.0,71,pontiac firebird\r\n",
      "18.0,6,250.0,88.00,3139.0,14.5,71,ford mustang\r\n",
      "23.0,4,122.0,86.00,2220.0,14.0,71,mercury capri 2000\r\n",
      "28.0,4,116.0,90.00,2123.0,14.0,71,opel 1900\r\n",
      "30.0,4,79.00,70.00,2074.0,19.5,71,peugeot 304\r\n",
      "30.0,4,88.00,76.00,2065.0,14.5,71,fiat 124b\r\n",
      "31.0,4,71.00,65.00,1773.0,19.0,71,toyota corolla 1200\r\n",
      "35.0,4,72.00,69.00,1613.0,18.0,71,datsun 1200\r\n",
      "27.0,4,97.00,60.00,1834.0,19.0,71,volkswagen model 111\r\n",
      "26.0,4,91.00,70.00,1955.0,20.5,71,plymouth cricket\r\n",
      "24.0,4,113.0,95.00,2278.0,15.5,72,toyota corona hardtop\r\n",
      "25.0,4,97.50,80.00,2126.0,17.0,72,dodge colt hardtop\r\n",
      "23.0,4,97.00,54.00,2254.0,23.5,72,volkswagen type 3\r\n",
      "20.0,4,140.0,90.00,2408.0,19.5,72,chevrolet vega\r\n",
      "21.0,4,122.0,86.00,2226.0,16.5,72,ford pinto runabout\r\n",
      "13.0,8,350.0,165.0,4274.0,12.0,72,chevrolet impala\r\n",
      "14.0,8,400.0,175.0,4385.0,12.0,72,pontiac catalina\r\n",
      "15.0,8,318.0,150.0,4135.0,13.5,72,plymouth fury iii\r\n",
      "14.0,8,351.0,153.0,4129.0,13.0,72,ford galaxie 500\r\n",
      "17.0,8,304.0,150.0,3672.0,11.5,72,amc ambassador sst\r\n",
      "11.0,8,429.0,208.0,4633.0,11.0,72,mercury marquis\r\n",
      "13.0,8,350.0,155.0,4502.0,13.5,72,buick lesabre custom\r\n",
      "12.0,8,350.0,160.0,4456.0,13.5,72,oldsmobile delta 88 royale\r\n",
      "13.0,8,400.0,190.0,4422.0,12.5,72,chrysler newport royal\r\n",
      "19.0,3,70.00,97.00,2330.0,13.5,72,mazda rx2 coupe\r\n",
      "15.0,8,304.0,150.0,3892.0,12.5,72,amc matador \r\n",
      "13.0,8,307.0,130.0,4098.0,14.0,72,chevrolet chevelle concours \r\n",
      "13.0,8,302.0,140.0,4294.0,16.0,72,ford gran torino \r\n",
      "14.0,8,318.0,150.0,4077.0,14.0,72,plymouth satellite custom \r\n",
      "18.0,4,121.0,112.0,2933.0,14.5,72,volvo 145e \r\n",
      "22.0,4,121.0,76.00,2511.0,18.0,72,volkswagen 411 \r\n",
      "21.0,4,120.0,87.00,2979.0,19.5,72,peugeot 504 \r\n",
      "26.0,4,96.00,69.00,2189.0,18.0,72,renault 12 \r\n",
      "22.0,4,122.0,86.00,2395.0,16.0,72,ford pinto \r\n",
      "28.0,4,97.00,92.00,2288.0,17.0,72,datsun 510 \r\n",
      "23.0,4,120.0,97.00,2506.0,14.5,72,toyouta corona mark ii \r\n",
      "28.0,4,98.00,80.00,2164.0,15.0,72,dodge colt \r\n",
      "27.0,4,97.00,88.00,2100.0,16.5,72,toyota corolla 1600 \r\n",
      "13.0,8,350.0,175.0,4100.0,13.0,73,buick century 350\r\n",
      "14.0,8,304.0,150.0,3672.0,11.5,73,amc matador\r\n",
      "13.0,8,350.0,145.0,3988.0,13.0,73,chevrolet malibu\r\n",
      "14.0,8,302.0,137.0,4042.0,14.5,73,ford gran torino\r\n",
      "15.0,8,318.0,150.0,3777.0,12.5,73,dodge coronet custom\r\n",
      "12.0,8,429.0,198.0,4952.0,11.5,73,mercury marquis brougham\r\n",
      "13.0,8,400.0,150.0,4464.0,12.0,73,chevrolet caprice classic\r\n",
      "13.0,8,351.0,158.0,4363.0,13.0,73,ford ltd\r\n",
      "14.0,8,318.0,150.0,4237.0,14.5,73,plymouth fury gran sedan\r\n",
      "13.0,8,440.0,215.0,4735.0,11.0,73,chrysler new yorker brougham\r\n",
      "12.0,8,455.0,225.0,4951.0,11.0,73,buick electra 225 custom\r\n",
      "13.0,8,360.0,175.0,3821.0,11.0,73,amc ambassador brougham\r\n",
      "18.0,6,225.0,105.0,3121.0,16.5,73,plymouth valiant\r",
      "\r\n",
      "16.0,6,250.0,100.0,3278.0,18.0,73,chevrolet nova custom\r\n",
      "18.0,6,232.0,100.0,2945.0,16.0,73,amc hornet\r\n",
      "18.0,6,250.0,88.00,3021.0,16.5,73,ford maverick\r\n",
      "23.0,6,198.0,95.00,2904.0,16.0,73,plymouth duster\r\n",
      "26.0,4,97.00,46.00,1950.0,21.0,73,volkswagen super beetle\r\n",
      "11.0,8,400.0,150.0,4997.0,14.0,73,chevrolet impala\r\n",
      "12.0,8,400.0,167.0,4906.0,12.5,73,ford country\r\n",
      "13.0,8,360.0,170.0,4654.0,13.0,73,plymouth custom suburb\r\n",
      "12.0,8,350.0,180.0,4499.0,12.5,73,oldsmobile vista cruiser\r\n",
      "18.0,6,232.0,100.0,2789.0,15.0,73,amc gremlin\r\n",
      "20.0,4,97.00,88.00,2279.0,19.0,73,toyota carina\r\n",
      "21.0,4,140.0,72.00,2401.0,19.5,73,chevrolet vega\r\n",
      "22.0,4,108.0,94.00,2379.0,16.5,73,datsun 610\r\n",
      "18.0,3,70.00,90.00,2124.0,13.5,73,maxda rx3\r\n",
      "19.0,4,122.0,85.00,2310.0,18.5,73,ford pinto\r\n",
      "21.0,6,155.0,107.0,2472.0,14.0,73,mercury capri v6\r\n",
      "26.0,4,98.00,90.00,2265.0,15.5,73,fiat 124 sport coupe\r\n",
      "15.0,8,350.0,145.0,4082.0,13.0,73,chevrolet monte carlo s\r\n",
      "16.0,8,400.0,230.0,4278.0,9.50,73,pontiac grand prix\r\n",
      "29.0,4,68.00,49.00,1867.0,19.5,73,fiat 128\r\n",
      "24.0,4,116.0,75.00,2158.0,15.5,73,opel manta\r\n",
      "20.0,4,114.0,91.00,2582.0,14.0,73,audi 100ls\r\n",
      "19.0,4,121.0,112.0,2868.0,15.5,73,volvo 144ea\r\n",
      "15.0,8,318.0,150.0,3399.0,11.0,73,dodge dart custom\r\n",
      "24.0,4,121.0,110.0,2660.0,14.0,73,saab 99le\r\n",
      "20.0,6,156.0,122.0,2807.0,13.5,73,toyota mark ii\r\n",
      "11.0,8,350.0,180.0,3664.0,11.0,73,oldsmobile omega\r\n",
      "20.0,6,198.0,95.00,3102.0,16.5,74,plymouth duster\r\n",
      "19.0,6,232.0,100.0,2901.0,16.0,74,amc hornet\r\n",
      "15.0,6,250.0,100.0,3336.0,17.0,74,chevrolet nova\r\n",
      "31.0,4,79.00,67.00,1950.0,19.0,74,datsun b210\r\n",
      "26.0,4,122.0,80.00,2451.0,16.5,74,ford pinto\r\n",
      "32.0,4,71.00,65.00,1836.0,21.0,74,toyota corolla 1200\r\n",
      "25.0,4,140.0,75.00,2542.0,17.0,74,chevrolet vega\r\n",
      "16.0,6,250.0,100.0,3781.0,17.0,74,chevrolet chevelle malibu classic\r\n",
      "16.0,6,258.0,110.0,3632.0,18.0,74,amc matador\r\n",
      "18.0,6,225.0,105.0,3613.0,16.5,74,plymouth satellite sebring\r\n",
      "16.0,8,302.0,140.0,4141.0,14.0,74,ford gran torino\r\n",
      "13.0,8,350.0,150.0,4699.0,14.5,74,buick century luxus \r\n",
      "14.0,8,318.0,150.0,4457.0,13.5,74,dodge coronet custom \r\n",
      "14.0,8,302.0,140.0,4638.0,16.0,74,ford gran torino \r\n",
      "14.0,8,304.0,150.0,4257.0,15.5,74,amc matador \r\n",
      "29.0,4,98.00,83.00,2219.0,16.5,74,audi fox\r\n",
      "26.0,4,79.00,67.00,1963.0,15.5,74,volkswagen dasher\r\n",
      "26.0,4,97.00,78.00,2300.0,14.5,74,opel manta\r\n",
      "31.0,4,76.00,52.00,1649.0,16.5,74,toyota corona\r\n",
      "32.0,4,83.00,61.00,2003.0,19.0,74,datsun 710\r\n",
      "28.0,4,90.00,75.00,2125.0,14.5,74,dodge colt\r\n",
      "24.0,4,90.00,75.00,2108.0,15.5,74,fiat 128\r\n",
      "26.0,4,116.0,75.00,2246.0,14.0,74,fiat 124 tc\r\n",
      "24.0,4,120.0,97.00,2489.0,15.0,74,honda civic\r\n",
      "26.0,4,108.0,93.00,2391.0,15.5,74,subaru\r\n",
      "31.0,4,79.00,67.00,2000.0,16.0,74,fiat x1.9\r\n",
      "19.0,6,225.0,95.00,3264.0,16.0,75,plymouth valiant custom\r\n",
      "18.0,6,250.0,105.0,3459.0,16.0,75,chevrolet nova\r\n",
      "15.0,6,250.0,72.00,3432.0,21.0,75,mercury monarch\r\n",
      "15.0,6,250.0,72.00,3158.0,19.5,75,ford maverick\r\n",
      "16.0,8,400.0,170.0,4668.0,11.5,75,pontiac catalina\r\n",
      "15.0,8,350.0,145.0,4440.0,14.0,75,chevrolet bel air\r\n",
      "16.0,8,318.0,150.0,4498.0,14.5,75,plymouth grand fury\r\n",
      "14.0,8,351.0,148.0,4657.0,13.5,75,ford ltd\r\n",
      "17.0,6,231.0,110.0,3907.0,21.0,75,buick century\r\n",
      "16.0,6,250.0,105.0,3897.0,18.5,75,chevroelt chevelle malibu\r\n",
      "15.0,6,258.0,110.0,3730.0,19.0,75,amc matador\r\n",
      "18.0,6,225.0,95.00,3785.0,19.0,75,plymouth fury\r\n",
      "21.0,6,231.0,110.0,3039.0,15.0,75,buick skyhawk\r\n",
      "20.0,8,262.0,110.0,3221.0,13.5,75,chevrolet monza 2+2\r\n",
      "13.0,8,302.0,129.0,3169.0,12.0,75,ford mustang ii\r\n",
      "29.0,4,97.00,75.00,2171.0,16.0,75,toyota corolla\r\n",
      "23.0,4,140.0,83.00,2639.0,17.0,75,ford pinto\r\n",
      "20.0,6,232.0,100.0,2914.0,16.0,75,amc gremlin\r\n",
      "23.0,4,140.0,78.00,2592.0,18.5,75,pontiac astro\r\n",
      "24.0,4,134.0,96.00,2702.0,13.5,75,toyota corona\r\n",
      "25.0,4,90.00,71.00,2223.0,16.5,75,volkswagen dasher\r\n",
      "24.0,4,119.0,97.00,2545.0,17.0,75,datsun 710\r\n",
      "18.0,6,171.0,97.00,2984.0,14.5,75,ford pinto\r\n",
      "29.0,4,90.00,70.00,1937.0,14.0,75,volkswagen rabbit\r\n",
      "19.0,6,232.0,90.00,3211.0,17.0,75,amc pacer\r\n",
      "23.0,4,115.0,95.00,2694.0,15.0,75,audi 100ls\r\n",
      "23.0,4,120.0,88.00,2957.0,17.0,75,peugeot 504\r\n",
      "22.0,4,121.0,98.00,2945.0,14.5,75,volvo 244dl\r\n",
      "25.0,4,121.0,115.0,2671.0,13.5,75,saab 99le\r\n",
      "33.0,4,91.00,53.00,1795.0,17.5,75,honda civic cvcc\r\n",
      "28.0,4,107.0,86.00,2464.0,15.5,76,fiat 131\r\n",
      "25.0,4,116.0,81.00,2220.0,16.9,76,opel 1900\r\n",
      "25.0,4,140.0,92.00,2572.0,14.9,76,capri ii\r\n",
      "26.0,4,98.00,79.00,2255.0,17.7,76,dodge colt\r\n",
      "27.0,4,101.0,83.00,2202.0,15.3,76,renault 12tl\r\n",
      "17.5,8,305.0,140.0,4215.0,13.0,76,chevrolet chevelle malibu classic\r\n",
      "16.0,8,318.0,150.0,4190.0,13.0,76,dodge coronet brougham\r\n",
      "15.5,8,304.0,120.0,3962.0,13.9,76,amc matador\r\n",
      "14.5,8,351.0,152.0,4215.0,12.8,76,ford gran torino\r\n",
      "22.0,6,225.0,100.0,3233.0,15.4,76,plymouth valiant\r\n",
      "22.0,6,250.0,105.0,3353.0,14.5,76,chevrolet nova\r\n",
      "24.0,6,200.0,81.00,3012.0,17.6,76,ford maverick\r\n",
      "22.5,6,232.0,90.00,3085.0,17.6,76,amc hornet\r\n",
      "29.0,4,85.00,52.00,2035.0,22.2,76,chevrolet chevette\r\n",
      "24.5,4,98.00,60.00,2164.0,22.1,76,chevrolet woody\r\n",
      "29.0,4,90.00,70.00,1937.0,14.2,76,vw rabbit\r\n",
      "33.0,4,91.00,53.00,1795.0,17.4,76,honda civic\r\n",
      "20.0,6,225.0,100.0,3651.0,17.7,76,dodge aspen se\r\n",
      "18.0,6,250.0,78.00,3574.0,21.0,76,ford granada ghia\r\n",
      "18.5,6,250.0,110.0,3645.0,16.2,76,pontiac ventura sj\r\n",
      "17.5,6,258.0,95.00,3193.0,17.8,76,amc pacer d/l\r\n",
      "29.5,4,97.00,71.00,1825.0,12.2,76,volkswagen rabbit\r\n",
      "32.0,4,85.00,70.00,1990.0,17.0,76,datsun b-210\r\n",
      "28.0,4,97.00,75.00,2155.0,16.4,76,toyota corolla\r\n",
      "26.5,4,140.0,72.00,2565.0,13.6,76,ford pinto\r\n",
      "20.0,4,130.0,102.0,3150.0,15.7,76,volvo 245\r\n",
      "13.0,8,318.0,150.0,3940.0,13.2,76,plymouth volare premier v8\r\n",
      "19.0,4,120.0,88.00,3270.0,21.9,76,peugeot 504\r\n",
      "19.0,6,156.0,108.0,2930.0,15.5,76,toyota mark ii\r\n",
      "16.5,6,168.0,120.0,3820.0,16.7,76,mercedes-benz 280s\r\n",
      "16.5,8,350.0,180.0,4380.0,12.1,76,cadillac seville\r\n",
      "13.0,8,350.0,145.0,4055.0,12.0,76,chevy c10\r\n",
      "13.0,8,302.0,130.0,3870.0,15.0,76,ford f108\r\n",
      "13.0,8,318.0,150.0,3755.0,14.0,76,dodge d100\r\n",
      "31.5,4,98.00,68.00,2045.0,18.5,77,honda accord cvcc\r\n",
      "30.0,4,111.0,80.00,2155.0,14.8,77,buick opel isuzu deluxe\r\n",
      "36.0,4,79.00,58.00,1825.0,18.6,77,renault 5 gtl\r\n",
      "25.5,4,122.0,96.00,2300.0,15.5,77,plymouth arrow gs\r\n",
      "33.5,4,85.00,70.00,1945.0,16.8,77,datsun f-10 hatchback\r\n",
      "17.5,8,305.0,145.0,3880.0,12.5,77,chevrolet caprice classic\r\n",
      "17.0,8,260.0,110.0,4060.0,19.0,77,oldsmobile cutlass supreme\r\n",
      "15.5,8,318.0,145.0,4140.0,13.7,77,dodge monaco brougham\r\n",
      "15.0,8,302.0,130.0,4295.0,14.9,77,mercury cougar brougham\r\n",
      "17.5,6,250.0,110.0,3520.0,16.4,77,chevrolet concours\r\n",
      "20.5,6,231.0,105.0,3425.0,16.9,77,buick skylark\r\n",
      "19.0,6,225.0,100.0,3630.0,17.7,77,plymouth volare custom\r\n",
      "18.5,6,250.0,98.00,3525.0,19.0,77,ford granada\r\n",
      "16.0,8,400.0,180.0,4220.0,11.1,77,pontiac grand prix lj\r\n",
      "15.5,8,350.0,170.0,4165.0,11.4,77,chevrolet monte carlo landau\r\n",
      "15.5,8,400.0,190.0,4325.0,12.2,77,chrysler cordoba\r\n",
      "16.0,8,351.0,149.0,4335.0,14.5,77,ford thunderbird\r\n",
      "29.0,4,97.00,78.00,1940.0,14.5,77,volkswagen rabbit custom\r\n",
      "24.5,4,151.0,88.00,2740.0,16.0,77,pontiac sunbird coupe\r\n",
      "26.0,4,97.00,75.00,2265.0,18.2,77,toyota corolla liftback\r\n",
      "25.5,4,140.0,89.00,2755.0,15.8,77,ford mustang ii 2+2\r\n",
      "30.5,4,98.00,63.00,2051.0,17.0,77,chevrolet chevette\r\n",
      "33.5,4,98.00,83.00,2075.0,15.9,77,dodge colt m/m\r\n",
      "30.0,4,97.00,67.00,1985.0,16.4,77,subaru dl\r\n",
      "30.5,4,97.00,78.00,2190.0,14.1,77,volkswagen dasher\r\n",
      "22.0,6,146.0,97.00,2815.0,14.5,77,datsun 810\r\n",
      "21.5,4,121.0,110.0,2600.0,12.8,77,bmw 320i\r\n",
      "21.5,3,80.00,110.0,2720.0,13.5,77,mazda rx-4\r\n",
      "43.1,4,90.00,48.00,1985.0,21.5,78,volkswagen rabbit custom diesel\r\n",
      "36.1,4,98.00,66.00,1800.0,14.4,78,ford fiesta\r\n",
      "32.8,4,78.00,52.00,1985.0,19.4,78,mazda glc deluxe\r\n",
      "39.4,4,85.00,70.00,2070.0,18.6,78,datsun b210 gx\r\n",
      "36.1,4,91.00,60.00,1800.0,16.4,78,honda civic cvcc\r\n",
      "19.9,8,260.0,110.0,3365.0,15.5,78,oldsmobile cutlass salon brougham\r\n",
      "19.4,8,318.0,140.0,3735.0,13.2,78,dodge diplomat\r\n",
      "20.2,8,302.0,139.0,3570.0,12.8,78,mercury monarch ghia\r\n",
      "19.2,6,231.0,105.0,3535.0,19.2,78,pontiac phoenix lj\r\n",
      "20.5,6,200.0,95.00,3155.0,18.2,78,chevrolet malibu\r\n",
      "20.2,6,200.0,85.00,2965.0,15.8,78,ford fairmont (auto)\r\n",
      "25.1,4,140.0,88.00,2720.0,15.4,78,ford fairmont (man)\r\n",
      "20.5,6,225.0,100.0,3430.0,17.2,78,plymouth volare\r\n",
      "19.4,6,232.0,90.00,3210.0,17.2,78,amc concord\r\n",
      "20.6,6,231.0,105.0,3380.0,15.8,78,buick century special\r\n",
      "20.8,6,200.0,85.00,3070.0,16.7,78,mercury zephyr\r\n",
      "18.6,6,225.0,110.0,3620.0,18.7,78,dodge aspen\r\n",
      "18.1,6,258.0,120.0,3410.0,15.1,78,amc concord d/l\r\n",
      "19.2,8,305.0,145.0,3425.0,13.2,78,chevrolet monte carlo landau\r\n",
      "17.7,6,231.0,165.0,3445.0,13.4,78,buick regal sport coupe (turbo)\r\n",
      "18.1,8,302.0,139.0,3205.0,11.2,78,ford futura\r\n",
      "17.5,8,318.0,140.0,4080.0,13.7,78,dodge magnum xe\r\n",
      "30.0,4,98.00,68.00,2155.0,16.5,78,chevrolet chevette\r\n",
      "27.5,4,134.0,95.00,2560.0,14.2,78,toyota corona\r\n",
      "27.2,4,119.0,97.00,2300.0,14.7,78,datsun 510\r\n",
      "30.9,4,105.0,75.00,2230.0,14.5,78,dodge omni\r\n",
      "21.1,4,134.0,95.00,2515.0,14.8,78,toyota celica gt liftback\r\n",
      "23.2,4,156.0,105.0,2745.0,16.7,78,plymouth sapporo\r\n",
      "23.8,4,151.0,85.00,2855.0,17.6,78,oldsmobile starfire sx\r\n",
      "23.9,4,119.0,97.00,2405.0,14.9,78,datsun 200-sx\r\n",
      "20.3,5,131.0,103.0,2830.0,15.9,78,audi 5000\r\n",
      "17.0,6,163.0,125.0,3140.0,13.6,78,volvo 264gl\r\n",
      "21.6,4,121.0,115.0,2795.0,15.7,78,saab 99gle\r\n",
      "16.2,6,163.0,133.0,3410.0,15.8,78,peugeot 604sl\r\n",
      "31.5,4,89.00,71.00,1990.0,14.9,78,volkswagen scirocco\r\n",
      "29.5,4,98.00,68.00,2135.0,16.6,78,honda accord lx\r\n",
      "21.5,6,231.0,115.0,3245.0,15.4,79,pontiac lemans v6\r\n",
      "19.8,6,200.0,85.00,2990.0,18.2,79,mercury zephyr 6\r\n",
      "22.3,4,140.0,88.00,2890.0,17.3,79,ford fairmont 4\r\n",
      "20.2,6,232.0,90.00,3265.0,18.2,79,amc concord dl 6\r\n",
      "20.6,6,225.0,110.0,3360.0,16.6,79,dodge aspen 6\r\n",
      "17.0,8,305.0,130.0,3840.0,15.4,79,chevrolet caprice classic\r\n",
      "17.6,8,302.0,129.0,3725.0,13.4,79,ford ltd landau\r\n",
      "16.5,8,351.0,138.0,3955.0,13.2,79,mercury grand marquis\r\n",
      "18.2,8,318.0,135.0,3830.0,15.2,79,dodge st. regis\r\n",
      "16.9,8,350.0,155.0,4360.0,14.9,79,buick estate wagon \r\n",
      "15.5,8,351.0,142.0,4054.0,14.3,79,ford country squire \r\n",
      "19.2,8,267.0,125.0,3605.0,15.0,79,chevrolet malibu classic \r\n",
      "18.5,8,360.0,150.0,3940.0,13.0,79,chrysler lebaron town @ country \r\n",
      "31.9,4,89.00,71.00,1925.0,14.0,79,vw rabbit custom\r\n",
      "34.1,4,86.00,65.00,1975.0,15.2,79,maxda glc deluxe\r\n",
      "35.7,4,98.00,80.00,1915.0,14.4,79,dodge colt hatchback custom\r\n",
      "27.4,4,121.0,80.00,2670.0,15.0,79,amc spirit dl\r\n",
      "25.4,5,183.0,77.00,3530.0,20.1,79,mercedes benz 300d\r\n",
      "23.0,8,350.0,125.0,3900.0,17.4,79,cadillac eldorado\r\n",
      "27.2,4,141.0,71.00,3190.0,24.8,79,peugeot 504\r\n",
      "23.9,8,260.0,90.00,3420.0,22.2,79,oldsmobile cutlass salon brougham\r\n",
      "34.2,4,105.0,70.00,2200.0,13.2,79,plymouth horizon\r\n",
      "34.5,4,105.0,70.00,2150.0,14.9,79,plymouth horizon tc3\r\n",
      "31.8,4,85.00,65.00,2020.0,19.2,79,datsun 210\r\n",
      "37.3,4,91.00,69.00,2130.0,14.7,79,fiat strada custom\r\n",
      "28.4,4,151.0,90.00,2670.0,16.0,79,buick skylark limited\r\n",
      "28.8,6,173.0,115.0,2595.0,11.3,79,chevrolet citation\r\n",
      "26.8,6,173.0,115.0,2700.0,12.9,79,oldsmobile omega brougham\r\n",
      "33.5,4,151.0,90.00,2556.0,13.2,79,pontiac phoenix\r\n",
      "41.5,4,98.00,76.00,2144.0,14.7,80,vw rabbit\r\n",
      "38.1,4,89.00,60.00,1968.0,18.8,80,toyota corolla tercel\r\n",
      "32.1,4,98.00,70.00,2120.0,15.5,80,chevrolet chevette\r\n",
      "37.2,4,86.00,65.00,2019.0,16.4,80,datsun 310\r\n",
      "28.0,4,151.0,90.00,2678.0,16.5,80,chevrolet citation\r\n",
      "26.4,4,140.0,88.00,2870.0,18.1,80,ford fairmont\r\n",
      "24.3,4,151.0,90.00,3003.0,20.1,80,amc concord\r\n",
      "19.1,6,225.0,90.00,3381.0,18.7,80,dodge aspen\r\n",
      "34.3,4,97.00,78.00,2188.0,15.8,80,audi 4000\r\n",
      "29.8,4,134.0,90.00,2711.0,15.5,80,toyota corona liftback\r\n",
      "31.3,4,120.0,75.00,2542.0,17.5,80,mazda 626\r\n",
      "37.0,4,119.0,92.00,2434.0,15.0,80,datsun 510 hatchback\r\n",
      "32.2,4,108.0,75.00,2265.0,15.2,80,toyota corolla\r\n",
      "46.6,4,86.00,65.00,2110.0,17.9,80,mazda glc\r\n",
      "27.9,4,156.0,105.0,2800.0,14.4,80,dodge colt\r\n",
      "40.8,4,85.00,65.00,2110.0,19.2,80,datsun 210\r\n",
      "44.3,4,90.00,48.00,2085.0,21.7,80,vw rabbit c (diesel)\r\n",
      "43.4,4,90.00,48.00,2335.0,23.7,80,vw dasher (diesel)\r\n",
      "36.4,5,121.0,67.00,2950.0,19.9,80,audi 5000s (diesel)\r\n",
      "30.0,4,146.0,67.00,3250.0,21.8,80,mercedes-benz 240d\r\n",
      "44.6,4,91.00,67.00,1850.0,13.8,80,honda civic 1500 gl\r\n",
      "33.8,4,97.00,67.00,2145.0,18.0,80,subaru dl\r\n",
      "29.8,4,89.00,62.00,1845.0,15.3,80,vokswagen rabbit\r\n",
      "32.7,6,168.0,132.0,2910.0,11.4,80,datsun 280-zx\r\n",
      "23.7,3,70.00,100.0,2420.0,12.5,80,mazda rx-7 gs\r\n",
      "35.0,4,122.0,88.00,2500.0,15.1,80,triumph tr7 coupe\r\n",
      "32.4,4,107.0,72.00,2290.0,17.0,80,honda accord\r\n",
      "27.2,4,135.0,84.00,2490.0,15.7,81,plymouth reliant\r\n",
      "26.6,4,151.0,84.00,2635.0,16.4,81,buick skylark\r\n",
      "25.8,4,156.0,92.00,2620.0,14.4,81,dodge aries wagon \r\n",
      "23.5,6,173.0,110.0,2725.0,12.6,81,chevrolet citation\r\n",
      "30.0,4,135.0,84.00,2385.0,12.9,81,plymouth reliant\r\n",
      "39.1,4,79.00,58.00,1755.0,16.9,81,toyota starlet\r\n",
      "39.0,4,86.00,64.00,1875.0,16.4,81,plymouth champ\r\n",
      "35.1,4,81.00,60.00,1760.0,16.1,81,honda civic 1300\r\n",
      "32.3,4,97.00,67.00,2065.0,17.8,81,subaru\r\n",
      "37.0,4,85.00,65.00,1975.0,19.4,81,datsun 210 mpg\r\n",
      "37.7,4,89.00,62.00,2050.0,17.3,81,toyota tercel\r\n",
      "34.1,4,91.00,68.00,1985.0,16.0,81,mazda glc 4\r\n",
      "34.7,4,105.0,63.00,2215.0,14.9,81,plymouth horizon 4\r\n",
      "34.4,4,98.00,65.00,2045.0,16.2,81,ford escort 4w\r\n",
      "29.9,4,98.00,65.00,2380.0,20.7,81,ford escort 2h\r\n",
      "33.0,4,105.0,74.00,2190.0,14.2,81,volkswagen jetta\r\n",
      "33.7,4,107.0,75.00,2210.0,14.4,81,honda prelude\r\n",
      "32.4,4,108.0,75.00,2350.0,16.8,81,toyota corolla\r\n",
      "32.9,4,119.0,100.0,2615.0,14.8,81,datsun 200sx\r\n",
      "31.6,4,120.0,74.00,2635.0,18.3,81,mazda 626\r",
      "\r\n",
      "28.1,4,141.0,80.00,3230.0,20.4,81,peugeot 505s turbo diesel\r\n",
      "30.7,6,145.0,76.00,3160.0,19.6,81,volvo diesel\r\n",
      "25.4,6,168.0,116.0,2900.0,12.6,81,toyota cressida\r\n",
      "24.2,6,146.0,120.0,2930.0,13.8,81,datsun 810 maxima\r\n",
      "22.4,6,231.0,110.0,3415.0,15.8,81,buick century\r\n",
      "26.6,8,350.0,105.0,3725.0,19.0,81,oldsmobile cutlass ls\r\n",
      "20.2,6,200.0,88.00,3060.0,17.1,81,ford granada gl\r\n",
      "17.6,6,225.0,85.00,3465.0,16.6,81,chrysler lebaron salon\r\n",
      "28.0,4,112.0,88.00,2605.0,19.6,82,chevrolet cavalier\r\n",
      "27.0,4,112.0,88.00,2640.0,18.6,82,chevrolet cavalier wagon\r\n",
      "34.0,4,112.0,88.00,2395.0,18.0,82,chevrolet cavalier 2-door\r\n",
      "31.0,4,112.0,85.00,2575.0,16.2,82,pontiac j2000 se hatchback\r\n",
      "29.0,4,135.0,84.00,2525.0,16.0,82,dodge aries se\r\n",
      "27.0,4,151.0,90.00,2735.0,18.0,82,pontiac phoenix\r\n",
      "24.0,4,140.0,92.00,2865.0,16.4,82,ford fairmont futura\r\n",
      "36.0,4,105.0,74.00,1980.0,15.3,82,volkswagen rabbit l\r\n",
      "37.0,4,91.00,68.00,2025.0,18.2,82,mazda glc custom l\r\n",
      "31.0,4,91.00,68.00,1970.0,17.6,82,mazda glc custom\r\n",
      "38.0,4,105.0,63.00,2125.0,14.7,82,plymouth horizon miser\r\n",
      "36.0,4,98.00,70.00,2125.0,17.3,82,mercury lynx l\r\n",
      "36.0,4,120.0,88.00,2160.0,14.5,82,nissan stanza xe\r\n",
      "36.0,4,107.0,75.00,2205.0,14.5,82,honda accord\r\n",
      "34.0,4,108.0,70.00,2245.0,16.9,82,toyota corolla\r\n",
      "38.0,4,91.00,67.00,1965.0,15.0,82,honda civic\r\n",
      "32.0,4,91.00,67.00,1965.0,15.7,82,honda civic (auto)\r\n",
      "38.0,4,91.00,67.00,1995.0,16.2,82,datsun 310 gx\r\n",
      "25.0,6,181.0,110.0,2945.0,16.4,82,buick century limited\r\n",
      "38.0,6,262.0,85.00,3015.0,17.0,82,oldsmobile cutlass ciera (diesel)\r\n",
      "26.0,4,156.0,92.00,2585.0,14.5,82,chrysler lebaron medallion\r\n",
      "22.0,6,232.0,112.0,2835.0,14.7,82,ford granada l\r\n",
      "32.0,4,144.0,96.00,2665.0,13.9,82,toyota celica gt\r\n",
      "36.0,4,135.0,84.00,2370.0,13.0,82,dodge charger 2.2\r\n",
      "27.0,4,151.0,90.00,2950.0,17.3,82,chevrolet camaro\r\n",
      "27.0,4,140.0,86.00,2790.0,15.6,82,ford mustang gl\r\n",
      "44.0,4,97.00,52.00,2130.0,24.6,82,vw pickup\r\n",
      "32.0,4,135.0,84.00,2295.0,11.6,82,dodge rampage\r\n",
      "28.0,4,120.0,79.00,2625.0,18.6,82,ford ranger\r\n",
      "31.0,4,119.0,82.00,2720.0,19.4,82,chevy s-10\r\n"
     ]
    }
   ],
   "source": [
    "!cat cars.csv"
   ]
  },
  {
   "cell_type": "markdown",
   "metadata": {},
   "source": [
    "On Windows systems we have to execute the cell below instead."
   ]
  },
  {
   "cell_type": "code",
   "execution_count": null,
   "metadata": {
    "scrolled": true
   },
   "outputs": [],
   "source": [
    "!type cars.csv"
   ]
  },
  {
   "cell_type": "markdown",
   "metadata": {},
   "source": [
    "In order to read the file we use the method `DictReader` from the module [csv](https://docs.python.org/3/library/csv.html).\n",
    "The `DictReader` returns a dictionary for every row of the `csv` file.  The keys of this dictionary are the column headers of the `csv` file.\n",
    "When reading this file, we convert *miles per gallon* into *km per litre* and *cubic inches* into *litres*."
   ]
  },
  {
   "cell_type": "code",
   "execution_count": 4,
   "metadata": {
    "scrolled": true
   },
   "outputs": [
    {
     "name": "stdout",
     "output_type": "stream",
     "text": [
      "chevrolet chevelle malibu          : displacement =  5.03 litres, kpl =  7.65 km per litres\n",
      "buick skylark 320                  : displacement =  5.74 litres, kpl =  6.38 km per litres\n",
      "plymouth satellite                 : displacement =  5.21 litres, kpl =  7.65 km per litres\n",
      "amc rebel sst                      : displacement =  4.98 litres, kpl =  6.80 km per litres\n",
      "ford torino                        : displacement =  4.95 litres, kpl =  7.23 km per litres\n",
      "ford galaxie 500                   : displacement =  7.03 litres, kpl =  6.38 km per litres\n",
      "chevrolet impala                   : displacement =  7.44 litres, kpl =  5.95 km per litres\n",
      "plymouth fury iii                  : displacement =  7.21 litres, kpl =  5.95 km per litres\n",
      "pontiac catalina                   : displacement =  7.46 litres, kpl =  5.95 km per litres\n",
      "amc ambassador dpl                 : displacement =  6.39 litres, kpl =  6.38 km per litres\n",
      "dodge challenger se                : displacement =  6.28 litres, kpl =  6.38 km per litres\n",
      "plymouth 'cuda 340                 : displacement =  5.57 litres, kpl =  5.95 km per litres\n",
      "chevrolet monte carlo              : displacement =  6.55 litres, kpl =  6.38 km per litres\n",
      "buick estate wagon                 : displacement =  7.46 litres, kpl =  5.95 km per litres\n",
      "toyota corona mark ii              : displacement =  1.85 litres, kpl = 10.20 km per litres\n",
      "plymouth duster                    : displacement =  3.24 litres, kpl =  9.35 km per litres\n",
      "amc hornet                         : displacement =  3.26 litres, kpl =  7.65 km per litres\n",
      "ford maverick                      : displacement =  3.28 litres, kpl =  8.93 km per litres\n",
      "datsun pl510                       : displacement =  1.59 litres, kpl = 11.48 km per litres\n",
      "volkswagen 1131 deluxe sedan       : displacement =  1.59 litres, kpl = 11.05 km per litres\n",
      "peugeot 504                        : displacement =  1.80 litres, kpl = 10.63 km per litres\n",
      "audi 100 ls                        : displacement =  1.75 litres, kpl = 10.20 km per litres\n",
      "saab 99e                           : displacement =  1.70 litres, kpl = 10.63 km per litres\n",
      "bmw 2002                           : displacement =  1.98 litres, kpl = 11.05 km per litres\n",
      "amc gremlin                        : displacement =  3.26 litres, kpl =  8.93 km per litres\n",
      "ford f250                          : displacement =  5.90 litres, kpl =  4.25 km per litres\n",
      "chevy c20                          : displacement =  5.03 litres, kpl =  4.25 km per litres\n",
      "dodge d200                         : displacement =  5.21 litres, kpl =  4.68 km per litres\n",
      "hi 1200d                           : displacement =  4.98 litres, kpl =  3.83 km per litres\n",
      "datsun pl510                       : displacement =  1.59 litres, kpl = 11.48 km per litres\n",
      "chevrolet vega 2300                : displacement =  2.29 litres, kpl = 11.90 km per litres\n",
      "toyota corona                      : displacement =  1.85 litres, kpl = 10.63 km per litres\n",
      "amc gremlin                        : displacement =  3.80 litres, kpl =  8.08 km per litres\n",
      "plymouth satellite custom          : displacement =  3.69 litres, kpl =  6.80 km per litres\n",
      "chevrolet chevelle malibu          : displacement =  4.10 litres, kpl =  7.23 km per litres\n",
      "ford torino 500                    : displacement =  4.10 litres, kpl =  8.08 km per litres\n",
      "amc matador                        : displacement =  3.80 litres, kpl =  7.65 km per litres\n",
      "chevrolet impala                   : displacement =  5.74 litres, kpl =  5.95 km per litres\n",
      "pontiac catalina brougham          : displacement =  6.55 litres, kpl =  5.95 km per litres\n",
      "ford galaxie 500                   : displacement =  5.75 litres, kpl =  5.95 km per litres\n",
      "plymouth fury iii                  : displacement =  5.21 litres, kpl =  5.95 km per litres\n",
      "dodge monaco                       : displacement =  6.28 litres, kpl =  5.10 km per litres\n",
      "ford country squire                : displacement =  6.55 litres, kpl =  5.53 km per litres\n",
      "pontiac safari                     : displacement =  6.55 litres, kpl =  5.53 km per litres\n",
      "amc hornet sportabout              : displacement =  4.23 litres, kpl =  7.65 km per litres\n",
      "chevrolet vega                     : displacement =  2.29 litres, kpl =  9.35 km per litres\n",
      "pontiac firebird                   : displacement =  4.10 litres, kpl =  8.08 km per litres\n",
      "ford mustang                       : displacement =  4.10 litres, kpl =  7.65 km per litres\n",
      "mercury capri 2000                 : displacement =  2.00 litres, kpl =  9.78 km per litres\n",
      "opel 1900                          : displacement =  1.90 litres, kpl = 11.90 km per litres\n",
      "peugeot 304                        : displacement =  1.29 litres, kpl = 12.75 km per litres\n",
      "fiat 124b                          : displacement =  1.44 litres, kpl = 12.75 km per litres\n",
      "toyota corolla 1200                : displacement =  1.16 litres, kpl = 13.18 km per litres\n",
      "datsun 1200                        : displacement =  1.18 litres, kpl = 14.88 km per litres\n",
      "volkswagen model 111               : displacement =  1.59 litres, kpl = 11.48 km per litres\n",
      "plymouth cricket                   : displacement =  1.49 litres, kpl = 11.05 km per litres\n",
      "toyota corona hardtop              : displacement =  1.85 litres, kpl = 10.20 km per litres\n",
      "dodge colt hardtop                 : displacement =  1.60 litres, kpl = 10.63 km per litres\n",
      "volkswagen type 3                  : displacement =  1.59 litres, kpl =  9.78 km per litres\n",
      "chevrolet vega                     : displacement =  2.29 litres, kpl =  8.50 km per litres\n",
      "ford pinto runabout                : displacement =  2.00 litres, kpl =  8.93 km per litres\n",
      "chevrolet impala                   : displacement =  5.74 litres, kpl =  5.53 km per litres\n",
      "pontiac catalina                   : displacement =  6.55 litres, kpl =  5.95 km per litres\n",
      "plymouth fury iii                  : displacement =  5.21 litres, kpl =  6.38 km per litres\n",
      "ford galaxie 500                   : displacement =  5.75 litres, kpl =  5.95 km per litres\n",
      "amc ambassador sst                 : displacement =  4.98 litres, kpl =  7.23 km per litres\n",
      "mercury marquis                    : displacement =  7.03 litres, kpl =  4.68 km per litres\n",
      "buick lesabre custom               : displacement =  5.74 litres, kpl =  5.53 km per litres\n",
      "oldsmobile delta 88 royale         : displacement =  5.74 litres, kpl =  5.10 km per litres\n",
      "chrysler newport royal             : displacement =  6.55 litres, kpl =  5.53 km per litres\n",
      "mazda rx2 coupe                    : displacement =  1.15 litres, kpl =  8.08 km per litres\n",
      "amc matador                        : displacement =  4.98 litres, kpl =  6.38 km per litres\n",
      "chevrolet chevelle concours        : displacement =  5.03 litres, kpl =  5.53 km per litres\n",
      "ford gran torino                   : displacement =  4.95 litres, kpl =  5.53 km per litres\n",
      "plymouth satellite custom          : displacement =  5.21 litres, kpl =  5.95 km per litres\n",
      "volvo 145e                         : displacement =  1.98 litres, kpl =  7.65 km per litres\n",
      "volkswagen 411                     : displacement =  1.98 litres, kpl =  9.35 km per litres\n",
      "peugeot 504                        : displacement =  1.97 litres, kpl =  8.93 km per litres\n",
      "renault 12                         : displacement =  1.57 litres, kpl = 11.05 km per litres\n",
      "ford pinto                         : displacement =  2.00 litres, kpl =  9.35 km per litres\n",
      "datsun 510                         : displacement =  1.59 litres, kpl = 11.90 km per litres\n",
      "toyouta corona mark ii             : displacement =  1.97 litres, kpl =  9.78 km per litres\n",
      "dodge colt                         : displacement =  1.61 litres, kpl = 11.90 km per litres\n",
      "toyota corolla 1600                : displacement =  1.59 litres, kpl = 11.48 km per litres\n",
      "buick century 350                  : displacement =  5.74 litres, kpl =  5.53 km per litres\n",
      "amc matador                        : displacement =  4.98 litres, kpl =  5.95 km per litres\n",
      "chevrolet malibu                   : displacement =  5.74 litres, kpl =  5.53 km per litres\n",
      "ford gran torino                   : displacement =  4.95 litres, kpl =  5.95 km per litres\n",
      "dodge coronet custom               : displacement =  5.21 litres, kpl =  6.38 km per litres\n",
      "mercury marquis brougham           : displacement =  7.03 litres, kpl =  5.10 km per litres\n",
      "chevrolet caprice classic          : displacement =  6.55 litres, kpl =  5.53 km per litres\n",
      "ford ltd                           : displacement =  5.75 litres, kpl =  5.53 km per litres\n",
      "plymouth fury gran sedan           : displacement =  5.21 litres, kpl =  5.95 km per litres\n",
      "chrysler new yorker brougham       : displacement =  7.21 litres, kpl =  5.53 km per litres\n",
      "buick electra 225 custom           : displacement =  7.46 litres, kpl =  5.10 km per litres\n",
      "amc ambassador brougham            : displacement =  5.90 litres, kpl =  5.53 km per litres\n",
      "plymouth valiant                   : displacement =  3.69 litres, kpl =  7.65 km per litres\n",
      "chevrolet nova custom              : displacement =  4.10 litres, kpl =  6.80 km per litres\n",
      "amc hornet                         : displacement =  3.80 litres, kpl =  7.65 km per litres\n",
      "ford maverick                      : displacement =  4.10 litres, kpl =  7.65 km per litres\n",
      "plymouth duster                    : displacement =  3.24 litres, kpl =  9.78 km per litres\n",
      "volkswagen super beetle            : displacement =  1.59 litres, kpl = 11.05 km per litres\n",
      "chevrolet impala                   : displacement =  6.55 litres, kpl =  4.68 km per litres\n",
      "ford country                       : displacement =  6.55 litres, kpl =  5.10 km per litres\n",
      "plymouth custom suburb             : displacement =  5.90 litres, kpl =  5.53 km per litres\n",
      "oldsmobile vista cruiser           : displacement =  5.74 litres, kpl =  5.10 km per litres\n",
      "amc gremlin                        : displacement =  3.80 litres, kpl =  7.65 km per litres\n",
      "toyota carina                      : displacement =  1.59 litres, kpl =  8.50 km per litres\n",
      "chevrolet vega                     : displacement =  2.29 litres, kpl =  8.93 km per litres\n",
      "datsun 610                         : displacement =  1.77 litres, kpl =  9.35 km per litres\n",
      "maxda rx3                          : displacement =  1.15 litres, kpl =  7.65 km per litres\n",
      "ford pinto                         : displacement =  2.00 litres, kpl =  8.08 km per litres\n",
      "mercury capri v6                   : displacement =  2.54 litres, kpl =  8.93 km per litres\n",
      "fiat 124 sport coupe               : displacement =  1.61 litres, kpl = 11.05 km per litres\n",
      "chevrolet monte carlo s            : displacement =  5.74 litres, kpl =  6.38 km per litres\n",
      "pontiac grand prix                 : displacement =  6.55 litres, kpl =  6.80 km per litres\n",
      "fiat 128                           : displacement =  1.11 litres, kpl = 12.33 km per litres\n",
      "opel manta                         : displacement =  1.90 litres, kpl = 10.20 km per litres\n",
      "audi 100ls                         : displacement =  1.87 litres, kpl =  8.50 km per litres\n",
      "volvo 144ea                        : displacement =  1.98 litres, kpl =  8.08 km per litres\n",
      "dodge dart custom                  : displacement =  5.21 litres, kpl =  6.38 km per litres\n",
      "saab 99le                          : displacement =  1.98 litres, kpl = 10.20 km per litres\n",
      "toyota mark ii                     : displacement =  2.56 litres, kpl =  8.50 km per litres\n",
      "oldsmobile omega                   : displacement =  5.74 litres, kpl =  4.68 km per litres\n",
      "plymouth duster                    : displacement =  3.24 litres, kpl =  8.50 km per litres\n",
      "amc hornet                         : displacement =  3.80 litres, kpl =  8.08 km per litres\n",
      "chevrolet nova                     : displacement =  4.10 litres, kpl =  6.38 km per litres\n",
      "datsun b210                        : displacement =  1.29 litres, kpl = 13.18 km per litres\n",
      "ford pinto                         : displacement =  2.00 litres, kpl = 11.05 km per litres\n",
      "toyota corolla 1200                : displacement =  1.16 litres, kpl = 13.60 km per litres\n",
      "chevrolet vega                     : displacement =  2.29 litres, kpl = 10.63 km per litres\n",
      "chevrolet chevelle malibu classic  : displacement =  4.10 litres, kpl =  6.80 km per litres\n",
      "amc matador                        : displacement =  4.23 litres, kpl =  6.80 km per litres\n",
      "plymouth satellite sebring         : displacement =  3.69 litres, kpl =  7.65 km per litres\n",
      "ford gran torino                   : displacement =  4.95 litres, kpl =  6.80 km per litres\n",
      "buick century luxus                : displacement =  5.74 litres, kpl =  5.53 km per litres\n",
      "dodge coronet custom               : displacement =  5.21 litres, kpl =  5.95 km per litres\n",
      "ford gran torino                   : displacement =  4.95 litres, kpl =  5.95 km per litres\n",
      "amc matador                        : displacement =  4.98 litres, kpl =  5.95 km per litres\n",
      "audi fox                           : displacement =  1.61 litres, kpl = 12.33 km per litres\n",
      "volkswagen dasher                  : displacement =  1.29 litres, kpl = 11.05 km per litres\n",
      "opel manta                         : displacement =  1.59 litres, kpl = 11.05 km per litres\n",
      "toyota corona                      : displacement =  1.25 litres, kpl = 13.18 km per litres\n",
      "datsun 710                         : displacement =  1.36 litres, kpl = 13.60 km per litres\n",
      "dodge colt                         : displacement =  1.47 litres, kpl = 11.90 km per litres\n",
      "fiat 128                           : displacement =  1.47 litres, kpl = 10.20 km per litres\n",
      "fiat 124 tc                        : displacement =  1.90 litres, kpl = 11.05 km per litres\n",
      "honda civic                        : displacement =  1.97 litres, kpl = 10.20 km per litres\n",
      "subaru                             : displacement =  1.77 litres, kpl = 11.05 km per litres\n",
      "fiat x1.9                          : displacement =  1.29 litres, kpl = 13.18 km per litres\n",
      "plymouth valiant custom            : displacement =  3.69 litres, kpl =  8.08 km per litres\n",
      "chevrolet nova                     : displacement =  4.10 litres, kpl =  7.65 km per litres\n",
      "mercury monarch                    : displacement =  4.10 litres, kpl =  6.38 km per litres\n",
      "ford maverick                      : displacement =  4.10 litres, kpl =  6.38 km per litres\n",
      "pontiac catalina                   : displacement =  6.55 litres, kpl =  6.80 km per litres\n",
      "chevrolet bel air                  : displacement =  5.74 litres, kpl =  6.38 km per litres\n",
      "plymouth grand fury                : displacement =  5.21 litres, kpl =  6.80 km per litres\n",
      "ford ltd                           : displacement =  5.75 litres, kpl =  5.95 km per litres\n",
      "buick century                      : displacement =  3.79 litres, kpl =  7.23 km per litres\n",
      "chevroelt chevelle malibu          : displacement =  4.10 litres, kpl =  6.80 km per litres\n",
      "amc matador                        : displacement =  4.23 litres, kpl =  6.38 km per litres\n",
      "plymouth fury                      : displacement =  3.69 litres, kpl =  7.65 km per litres\n",
      "buick skyhawk                      : displacement =  3.79 litres, kpl =  8.93 km per litres\n",
      "chevrolet monza 2+2                : displacement =  4.29 litres, kpl =  8.50 km per litres\n",
      "ford mustang ii                    : displacement =  4.95 litres, kpl =  5.53 km per litres\n",
      "toyota corolla                     : displacement =  1.59 litres, kpl = 12.33 km per litres\n",
      "ford pinto                         : displacement =  2.29 litres, kpl =  9.78 km per litres\n",
      "amc gremlin                        : displacement =  3.80 litres, kpl =  8.50 km per litres\n",
      "pontiac astro                      : displacement =  2.29 litres, kpl =  9.78 km per litres\n",
      "toyota corona                      : displacement =  2.20 litres, kpl = 10.20 km per litres\n",
      "volkswagen dasher                  : displacement =  1.47 litres, kpl = 10.63 km per litres\n",
      "datsun 710                         : displacement =  1.95 litres, kpl = 10.20 km per litres\n",
      "ford pinto                         : displacement =  2.80 litres, kpl =  7.65 km per litres\n",
      "volkswagen rabbit                  : displacement =  1.47 litres, kpl = 12.33 km per litres\n",
      "amc pacer                          : displacement =  3.80 litres, kpl =  8.08 km per litres\n",
      "audi 100ls                         : displacement =  1.88 litres, kpl =  9.78 km per litres\n",
      "peugeot 504                        : displacement =  1.97 litres, kpl =  9.78 km per litres\n",
      "volvo 244dl                        : displacement =  1.98 litres, kpl =  9.35 km per litres\n",
      "saab 99le                          : displacement =  1.98 litres, kpl = 10.63 km per litres\n",
      "honda civic cvcc                   : displacement =  1.49 litres, kpl = 14.03 km per litres\n",
      "fiat 131                           : displacement =  1.75 litres, kpl = 11.90 km per litres\n",
      "opel 1900                          : displacement =  1.90 litres, kpl = 10.63 km per litres\n",
      "capri ii                           : displacement =  2.29 litres, kpl = 10.63 km per litres\n",
      "dodge colt                         : displacement =  1.61 litres, kpl = 11.05 km per litres\n",
      "renault 12tl                       : displacement =  1.66 litres, kpl = 11.48 km per litres\n",
      "chevrolet chevelle malibu classic  : displacement =  5.00 litres, kpl =  7.44 km per litres\n",
      "dodge coronet brougham             : displacement =  5.21 litres, kpl =  6.80 km per litres\n",
      "amc matador                        : displacement =  4.98 litres, kpl =  6.59 km per litres\n",
      "ford gran torino                   : displacement =  5.75 litres, kpl =  6.16 km per litres\n",
      "plymouth valiant                   : displacement =  3.69 litres, kpl =  9.35 km per litres\n",
      "chevrolet nova                     : displacement =  4.10 litres, kpl =  9.35 km per litres\n",
      "ford maverick                      : displacement =  3.28 litres, kpl = 10.20 km per litres\n",
      "amc hornet                         : displacement =  3.80 litres, kpl =  9.57 km per litres\n",
      "chevrolet chevette                 : displacement =  1.39 litres, kpl = 12.33 km per litres\n",
      "chevrolet woody                    : displacement =  1.61 litres, kpl = 10.42 km per litres\n",
      "vw rabbit                          : displacement =  1.47 litres, kpl = 12.33 km per litres\n",
      "honda civic                        : displacement =  1.49 litres, kpl = 14.03 km per litres\n",
      "dodge aspen se                     : displacement =  3.69 litres, kpl =  8.50 km per litres\n",
      "ford granada ghia                  : displacement =  4.10 litres, kpl =  7.65 km per litres\n",
      "pontiac ventura sj                 : displacement =  4.10 litres, kpl =  7.87 km per litres\n",
      "amc pacer d/l                      : displacement =  4.23 litres, kpl =  7.44 km per litres\n",
      "volkswagen rabbit                  : displacement =  1.59 litres, kpl = 12.54 km per litres\n",
      "datsun b-210                       : displacement =  1.39 litres, kpl = 13.60 km per litres\n",
      "toyota corolla                     : displacement =  1.59 litres, kpl = 11.90 km per litres\n",
      "ford pinto                         : displacement =  2.29 litres, kpl = 11.27 km per litres\n",
      "volvo 245                          : displacement =  2.13 litres, kpl =  8.50 km per litres\n",
      "plymouth volare premier v8         : displacement =  5.21 litres, kpl =  5.53 km per litres\n",
      "peugeot 504                        : displacement =  1.97 litres, kpl =  8.08 km per litres\n",
      "toyota mark ii                     : displacement =  2.56 litres, kpl =  8.08 km per litres\n",
      "mercedes-benz 280s                 : displacement =  2.75 litres, kpl =  7.01 km per litres\n",
      "cadillac seville                   : displacement =  5.74 litres, kpl =  7.01 km per litres\n",
      "chevy c10                          : displacement =  5.74 litres, kpl =  5.53 km per litres\n",
      "ford f108                          : displacement =  4.95 litres, kpl =  5.53 km per litres\n",
      "dodge d100                         : displacement =  5.21 litres, kpl =  5.53 km per litres\n",
      "honda accord cvcc                  : displacement =  1.61 litres, kpl = 13.39 km per litres\n",
      "buick opel isuzu deluxe            : displacement =  1.82 litres, kpl = 12.75 km per litres\n",
      "renault 5 gtl                      : displacement =  1.29 litres, kpl = 15.31 km per litres\n",
      "plymouth arrow gs                  : displacement =  2.00 litres, kpl = 10.84 km per litres\n",
      "datsun f-10 hatchback              : displacement =  1.39 litres, kpl = 14.24 km per litres\n",
      "chevrolet caprice classic          : displacement =  5.00 litres, kpl =  7.44 km per litres\n",
      "oldsmobile cutlass supreme         : displacement =  4.26 litres, kpl =  7.23 km per litres\n",
      "dodge monaco brougham              : displacement =  5.21 litres, kpl =  6.59 km per litres\n",
      "mercury cougar brougham            : displacement =  4.95 litres, kpl =  6.38 km per litres\n",
      "chevrolet concours                 : displacement =  4.10 litres, kpl =  7.44 km per litres\n",
      "buick skylark                      : displacement =  3.79 litres, kpl =  8.72 km per litres\n",
      "plymouth volare custom             : displacement =  3.69 litres, kpl =  8.08 km per litres\n",
      "ford granada                       : displacement =  4.10 litres, kpl =  7.87 km per litres\n",
      "pontiac grand prix lj              : displacement =  6.55 litres, kpl =  6.80 km per litres\n",
      "chevrolet monte carlo landau       : displacement =  5.74 litres, kpl =  6.59 km per litres\n",
      "chrysler cordoba                   : displacement =  6.55 litres, kpl =  6.59 km per litres\n",
      "ford thunderbird                   : displacement =  5.75 litres, kpl =  6.80 km per litres\n",
      "volkswagen rabbit custom           : displacement =  1.59 litres, kpl = 12.33 km per litres\n",
      "pontiac sunbird coupe              : displacement =  2.47 litres, kpl = 10.42 km per litres\n",
      "toyota corolla liftback            : displacement =  1.59 litres, kpl = 11.05 km per litres\n",
      "ford mustang ii 2+2                : displacement =  2.29 litres, kpl = 10.84 km per litres\n",
      "chevrolet chevette                 : displacement =  1.61 litres, kpl = 12.97 km per litres\n",
      "dodge colt m/m                     : displacement =  1.61 litres, kpl = 14.24 km per litres\n",
      "subaru dl                          : displacement =  1.59 litres, kpl = 12.75 km per litres\n",
      "volkswagen dasher                  : displacement =  1.59 litres, kpl = 12.97 km per litres\n",
      "datsun 810                         : displacement =  2.39 litres, kpl =  9.35 km per litres\n",
      "bmw 320i                           : displacement =  1.98 litres, kpl =  9.14 km per litres\n",
      "mazda rx-4                         : displacement =  1.31 litres, kpl =  9.14 km per litres\n",
      "volkswagen rabbit custom diesel    : displacement =  1.47 litres, kpl = 18.32 km per litres\n",
      "ford fiesta                        : displacement =  1.61 litres, kpl = 15.35 km per litres\n",
      "mazda glc deluxe                   : displacement =  1.28 litres, kpl = 13.94 km per litres\n",
      "datsun b210 gx                     : displacement =  1.39 litres, kpl = 16.75 km per litres\n",
      "honda civic cvcc                   : displacement =  1.49 litres, kpl = 15.35 km per litres\n",
      "oldsmobile cutlass salon brougham  : displacement =  4.26 litres, kpl =  8.46 km per litres\n",
      "dodge diplomat                     : displacement =  5.21 litres, kpl =  8.25 km per litres\n",
      "mercury monarch ghia               : displacement =  4.95 litres, kpl =  8.59 km per litres\n",
      "pontiac phoenix lj                 : displacement =  3.79 litres, kpl =  8.16 km per litres\n",
      "chevrolet malibu                   : displacement =  3.28 litres, kpl =  8.72 km per litres\n",
      "ford fairmont (auto)               : displacement =  3.28 litres, kpl =  8.59 km per litres\n",
      "ford fairmont (man)                : displacement =  2.29 litres, kpl = 10.67 km per litres\n",
      "plymouth volare                    : displacement =  3.69 litres, kpl =  8.72 km per litres\n",
      "amc concord                        : displacement =  3.80 litres, kpl =  8.25 km per litres\n",
      "buick century special              : displacement =  3.79 litres, kpl =  8.76 km per litres\n",
      "mercury zephyr                     : displacement =  3.28 litres, kpl =  8.84 km per litres\n",
      "dodge aspen                        : displacement =  3.69 litres, kpl =  7.91 km per litres\n",
      "amc concord d/l                    : displacement =  4.23 litres, kpl =  7.70 km per litres\n",
      "chevrolet monte carlo landau       : displacement =  5.00 litres, kpl =  8.16 km per litres\n",
      "buick regal sport coupe (turbo)    : displacement =  3.79 litres, kpl =  7.53 km per litres\n",
      "ford futura                        : displacement =  4.95 litres, kpl =  7.70 km per litres\n",
      "dodge magnum xe                    : displacement =  5.21 litres, kpl =  7.44 km per litres\n",
      "chevrolet chevette                 : displacement =  1.61 litres, kpl = 12.75 km per litres\n",
      "toyota corona                      : displacement =  2.20 litres, kpl = 11.69 km per litres\n",
      "datsun 510                         : displacement =  1.95 litres, kpl = 11.56 km per litres\n",
      "dodge omni                         : displacement =  1.72 litres, kpl = 13.14 km per litres\n",
      "toyota celica gt liftback          : displacement =  2.20 litres, kpl =  8.97 km per litres\n",
      "plymouth sapporo                   : displacement =  2.56 litres, kpl =  9.86 km per litres\n",
      "oldsmobile starfire sx             : displacement =  2.47 litres, kpl = 10.12 km per litres\n",
      "datsun 200-sx                      : displacement =  1.95 litres, kpl = 10.16 km per litres\n",
      "audi 5000                          : displacement =  2.15 litres, kpl =  8.63 km per litres\n",
      "volvo 264gl                        : displacement =  2.67 litres, kpl =  7.23 km per litres\n",
      "saab 99gle                         : displacement =  1.98 litres, kpl =  9.18 km per litres\n",
      "peugeot 604sl                      : displacement =  2.67 litres, kpl =  6.89 km per litres\n",
      "volkswagen scirocco                : displacement =  1.46 litres, kpl = 13.39 km per litres\n",
      "honda accord lx                    : displacement =  1.61 litres, kpl = 12.54 km per litres\n",
      "pontiac lemans v6                  : displacement =  3.79 litres, kpl =  9.14 km per litres\n",
      "mercury zephyr 6                   : displacement =  3.28 litres, kpl =  8.42 km per litres\n",
      "ford fairmont 4                    : displacement =  2.29 litres, kpl =  9.48 km per litres\n",
      "amc concord dl 6                   : displacement =  3.80 litres, kpl =  8.59 km per litres\n",
      "dodge aspen 6                      : displacement =  3.69 litres, kpl =  8.76 km per litres\n",
      "chevrolet caprice classic          : displacement =  5.00 litres, kpl =  7.23 km per litres\n",
      "ford ltd landau                    : displacement =  4.95 litres, kpl =  7.48 km per litres\n",
      "mercury grand marquis              : displacement =  5.75 litres, kpl =  7.01 km per litres\n",
      "dodge st. regis                    : displacement =  5.21 litres, kpl =  7.74 km per litres\n",
      "buick estate wagon                 : displacement =  5.74 litres, kpl =  7.18 km per litres\n",
      "ford country squire                : displacement =  5.75 litres, kpl =  6.59 km per litres\n",
      "chevrolet malibu classic           : displacement =  4.38 litres, kpl =  8.16 km per litres\n",
      "chrysler lebaron town @ country    : displacement =  5.90 litres, kpl =  7.87 km per litres\n",
      "vw rabbit custom                   : displacement =  1.46 litres, kpl = 13.56 km per litres\n",
      "maxda glc deluxe                   : displacement =  1.41 litres, kpl = 14.50 km per litres\n",
      "dodge colt hatchback custom        : displacement =  1.61 litres, kpl = 15.18 km per litres\n",
      "amc spirit dl                      : displacement =  1.98 litres, kpl = 11.65 km per litres\n",
      "mercedes benz 300d                 : displacement =  3.00 litres, kpl = 10.80 km per litres\n",
      "cadillac eldorado                  : displacement =  5.74 litres, kpl =  9.78 km per litres\n",
      "peugeot 504                        : displacement =  2.31 litres, kpl = 11.56 km per litres\n",
      "oldsmobile cutlass salon brougham  : displacement =  4.26 litres, kpl = 10.16 km per litres\n",
      "plymouth horizon                   : displacement =  1.72 litres, kpl = 14.54 km per litres\n",
      "plymouth horizon tc3               : displacement =  1.72 litres, kpl = 14.67 km per litres\n",
      "datsun 210                         : displacement =  1.39 litres, kpl = 13.52 km per litres\n",
      "fiat strada custom                 : displacement =  1.49 litres, kpl = 15.86 km per litres\n",
      "buick skylark limited              : displacement =  2.47 litres, kpl = 12.07 km per litres\n",
      "chevrolet citation                 : displacement =  2.83 litres, kpl = 12.24 km per litres\n",
      "oldsmobile omega brougham          : displacement =  2.83 litres, kpl = 11.39 km per litres\n",
      "pontiac phoenix                    : displacement =  2.47 litres, kpl = 14.24 km per litres\n",
      "vw rabbit                          : displacement =  1.61 litres, kpl = 17.64 km per litres\n",
      "toyota corolla tercel              : displacement =  1.46 litres, kpl = 16.20 km per litres\n",
      "chevrolet chevette                 : displacement =  1.61 litres, kpl = 13.65 km per litres\n",
      "datsun 310                         : displacement =  1.41 litres, kpl = 15.82 km per litres\n",
      "chevrolet citation                 : displacement =  2.47 litres, kpl = 11.90 km per litres\n",
      "ford fairmont                      : displacement =  2.29 litres, kpl = 11.22 km per litres\n",
      "amc concord                        : displacement =  2.47 litres, kpl = 10.33 km per litres\n",
      "dodge aspen                        : displacement =  3.69 litres, kpl =  8.12 km per litres\n",
      "audi 4000                          : displacement =  1.59 litres, kpl = 14.58 km per litres\n",
      "toyota corona liftback             : displacement =  2.20 litres, kpl = 12.67 km per litres\n",
      "mazda 626                          : displacement =  1.97 litres, kpl = 13.31 km per litres\n",
      "datsun 510 hatchback               : displacement =  1.95 litres, kpl = 15.73 km per litres\n",
      "toyota corolla                     : displacement =  1.77 litres, kpl = 13.69 km per litres\n",
      "mazda glc                          : displacement =  1.41 litres, kpl = 19.81 km per litres\n",
      "dodge colt                         : displacement =  2.56 litres, kpl = 11.86 km per litres\n",
      "datsun 210                         : displacement =  1.39 litres, kpl = 17.35 km per litres\n",
      "vw rabbit c (diesel)               : displacement =  1.47 litres, kpl = 18.83 km per litres\n",
      "vw dasher (diesel)                 : displacement =  1.47 litres, kpl = 18.45 km per litres\n",
      "audi 5000s (diesel)                : displacement =  1.98 litres, kpl = 15.48 km per litres\n",
      "mercedes-benz 240d                 : displacement =  2.39 litres, kpl = 12.75 km per litres\n",
      "honda civic 1500 gl                : displacement =  1.49 litres, kpl = 18.96 km per litres\n",
      "subaru dl                          : displacement =  1.59 litres, kpl = 14.37 km per litres\n",
      "vokswagen rabbit                   : displacement =  1.46 litres, kpl = 12.67 km per litres\n",
      "datsun 280-zx                      : displacement =  2.75 litres, kpl = 13.90 km per litres\n",
      "mazda rx-7 gs                      : displacement =  1.15 litres, kpl = 10.08 km per litres\n",
      "triumph tr7 coupe                  : displacement =  2.00 litres, kpl = 14.88 km per litres\n",
      "honda accord                       : displacement =  1.75 litres, kpl = 13.77 km per litres\n",
      "plymouth reliant                   : displacement =  2.21 litres, kpl = 11.56 km per litres\n",
      "buick skylark                      : displacement =  2.47 litres, kpl = 11.31 km per litres\n",
      "dodge aries wagon                  : displacement =  2.56 litres, kpl = 10.97 km per litres\n",
      "chevrolet citation                 : displacement =  2.83 litres, kpl =  9.99 km per litres\n",
      "plymouth reliant                   : displacement =  2.21 litres, kpl = 12.75 km per litres\n",
      "toyota starlet                     : displacement =  1.29 litres, kpl = 16.62 km per litres\n",
      "plymouth champ                     : displacement =  1.41 litres, kpl = 16.58 km per litres\n",
      "honda civic 1300                   : displacement =  1.33 litres, kpl = 14.92 km per litres\n",
      "subaru                             : displacement =  1.59 litres, kpl = 13.73 km per litres\n",
      "datsun 210 mpg                     : displacement =  1.39 litres, kpl = 15.73 km per litres\n",
      "toyota tercel                      : displacement =  1.46 litres, kpl = 16.03 km per litres\n",
      "mazda glc 4                        : displacement =  1.49 litres, kpl = 14.50 km per litres\n",
      "plymouth horizon 4                 : displacement =  1.72 litres, kpl = 14.75 km per litres\n",
      "ford escort 4w                     : displacement =  1.61 litres, kpl = 14.62 km per litres\n",
      "ford escort 2h                     : displacement =  1.61 litres, kpl = 12.71 km per litres\n",
      "volkswagen jetta                   : displacement =  1.72 litres, kpl = 14.03 km per litres\n",
      "honda prelude                      : displacement =  1.75 litres, kpl = 14.33 km per litres\n",
      "toyota corolla                     : displacement =  1.77 litres, kpl = 13.77 km per litres\n",
      "datsun 200sx                       : displacement =  1.95 litres, kpl = 13.99 km per litres\n",
      "mazda 626                          : displacement =  1.97 litres, kpl = 13.43 km per litres\n",
      "peugeot 505s turbo diesel          : displacement =  2.31 litres, kpl = 11.95 km per litres\n",
      "volvo diesel                       : displacement =  2.38 litres, kpl = 13.05 km per litres\n",
      "toyota cressida                    : displacement =  2.75 litres, kpl = 10.80 km per litres\n",
      "datsun 810 maxima                  : displacement =  2.39 litres, kpl = 10.29 km per litres\n",
      "buick century                      : displacement =  3.79 litres, kpl =  9.52 km per litres\n",
      "oldsmobile cutlass ls              : displacement =  5.74 litres, kpl = 11.31 km per litres\n",
      "ford granada gl                    : displacement =  3.28 litres, kpl =  8.59 km per litres\n",
      "chrysler lebaron salon             : displacement =  3.69 litres, kpl =  7.48 km per litres\n",
      "chevrolet cavalier                 : displacement =  1.84 litres, kpl = 11.90 km per litres\n",
      "chevrolet cavalier wagon           : displacement =  1.84 litres, kpl = 11.48 km per litres\n",
      "chevrolet cavalier 2-door          : displacement =  1.84 litres, kpl = 14.45 km per litres\n",
      "pontiac j2000 se hatchback         : displacement =  1.84 litres, kpl = 13.18 km per litres\n",
      "dodge aries se                     : displacement =  2.21 litres, kpl = 12.33 km per litres\n",
      "pontiac phoenix                    : displacement =  2.47 litres, kpl = 11.48 km per litres\n",
      "ford fairmont futura               : displacement =  2.29 litres, kpl = 10.20 km per litres\n",
      "volkswagen rabbit l                : displacement =  1.72 litres, kpl = 15.31 km per litres\n",
      "mazda glc custom l                 : displacement =  1.49 litres, kpl = 15.73 km per litres\n",
      "mazda glc custom                   : displacement =  1.49 litres, kpl = 13.18 km per litres\n",
      "plymouth horizon miser             : displacement =  1.72 litres, kpl = 16.16 km per litres\n",
      "mercury lynx l                     : displacement =  1.61 litres, kpl = 15.31 km per litres\n",
      "nissan stanza xe                   : displacement =  1.97 litres, kpl = 15.31 km per litres\n",
      "honda accord                       : displacement =  1.75 litres, kpl = 15.31 km per litres\n",
      "toyota corolla                     : displacement =  1.77 litres, kpl = 14.45 km per litres\n",
      "honda civic                        : displacement =  1.49 litres, kpl = 16.16 km per litres\n",
      "honda civic (auto)                 : displacement =  1.49 litres, kpl = 13.60 km per litres\n",
      "datsun 310 gx                      : displacement =  1.49 litres, kpl = 16.16 km per litres\n",
      "buick century limited              : displacement =  2.97 litres, kpl = 10.63 km per litres\n",
      "oldsmobile cutlass ciera (diesel)  : displacement =  4.29 litres, kpl = 16.16 km per litres\n",
      "chrysler lebaron medallion         : displacement =  2.56 litres, kpl = 11.05 km per litres\n",
      "ford granada l                     : displacement =  3.80 litres, kpl =  9.35 km per litres\n",
      "toyota celica gt                   : displacement =  2.36 litres, kpl = 13.60 km per litres\n",
      "dodge charger 2.2                  : displacement =  2.21 litres, kpl = 15.31 km per litres\n",
      "chevrolet camaro                   : displacement =  2.47 litres, kpl = 11.48 km per litres\n",
      "ford mustang gl                    : displacement =  2.29 litres, kpl = 11.48 km per litres\n",
      "vw pickup                          : displacement =  1.59 litres, kpl = 18.71 km per litres\n",
      "dodge rampage                      : displacement =  2.21 litres, kpl = 13.60 km per litres\n",
      "ford ranger                        : displacement =  1.97 litres, kpl = 11.90 km per litres\n",
      "chevy s-10                         : displacement =  1.95 litres, kpl = 13.18 km per litres\n"
     ]
    }
   ],
   "source": [
    "with open('cars.csv') as handle:\n",
    "    reader       = csv.DictReader(handle, delimiter=',')\n",
    "    kpl          = [] # kilometer per litre\n",
    "    displacement = [] # engine displacement\n",
    "    for row in reader:\n",
    "        x = float(row['displacement']) * 0.0163871\n",
    "        y = float(row['mpg']) * 1.60934 / 3.78541\n",
    "        print(f'{row[\"name\"]:35s}: displacement = {x:5.2f} litres, kpl = {y:5.2f} km per litres')\n",
    "        displacement.append(x)  \n",
    "        kpl         .append(y)"
   ]
  },
  {
   "cell_type": "markdown",
   "metadata": {},
   "source": [
    "Now `kpl` is a list of floating point numbers specifying the \n",
    "<em style=\"color:blue;\">fuel efficiency</em>, while the list `displacement` \n",
    "contains the corresponding <em style=\"color:blue;\">engine displacements</em> \n",
    "measured in litres.  We display these values for the first 5  cars."
   ]
  },
  {
   "cell_type": "code",
   "execution_count": 5,
   "metadata": {},
   "outputs": [
    {
     "data": {
      "text/plain": [
       "[7.652571319883447,\n",
       " 6.3771427665695395,\n",
       " 7.652571319883447,\n",
       " 6.802285617674175,\n",
       " 7.227428468778811]"
      ]
     },
     "execution_count": 5,
     "metadata": {},
     "output_type": "execute_result"
    }
   ],
   "source": [
    "kpl[:5]"
   ]
  },
  {
   "cell_type": "code",
   "execution_count": 6,
   "metadata": {},
   "outputs": [
    {
     "data": {
      "text/plain": [
       "[5.0308397000000005,\n",
       " 5.735485000000001,\n",
       " 5.2110978,\n",
       " 4.981678400000001,\n",
       " 4.9489042]"
      ]
     },
     "execution_count": 6,
     "metadata": {},
     "output_type": "execute_result"
    }
   ],
   "source": [
    "displacement[:5]"
   ]
  },
  {
   "cell_type": "markdown",
   "metadata": {},
   "source": [
    "The number of data pairs of the form $\\langle x, y \\rangle$ that we have read is stored in the variable `m`."
   ]
  },
  {
   "cell_type": "code",
   "execution_count": 7,
   "metadata": {},
   "outputs": [
    {
     "data": {
      "text/plain": [
       "392"
      ]
     },
     "execution_count": 7,
     "metadata": {},
     "output_type": "execute_result"
    }
   ],
   "source": [
    "m = len(displacement)\n",
    "m"
   ]
  },
  {
   "cell_type": "markdown",
   "metadata": {},
   "source": [
    "In order to be able to plot the *fuel efficiency* versus the *engine displacement* we turn the \n",
    "lists `displacement` and `mpg` into `numpy` arrays.  This is also usefull in order to compute the coefficients $\\vartheta_0$ and $\\vartheta_1$ later."
   ]
  },
  {
   "cell_type": "code",
   "execution_count": 8,
   "metadata": {},
   "outputs": [],
   "source": [
    "import numpy             as np\n",
    "import matplotlib.pyplot as plt\n",
    "import seaborn           as sns"
   ]
  },
  {
   "cell_type": "markdown",
   "metadata": {},
   "source": [
    "Since <em style=\"color:blue;\">kilometres per litre</em> is the **inverse** of the fuel consumption, the vector `Y` is defined as follows:"
   ]
  },
  {
   "cell_type": "code",
   "execution_count": 9,
   "metadata": {},
   "outputs": [],
   "source": [
    "X = np.array(displacement)"
   ]
  },
  {
   "cell_type": "code",
   "execution_count": 10,
   "metadata": {},
   "outputs": [],
   "source": [
    "Y = np.array([100 / y for y in kpl])"
   ]
  },
  {
   "cell_type": "code",
   "execution_count": 11,
   "metadata": {},
   "outputs": [
    {
     "data": {
      "text/plain": [
       "Text(0.5, 1.0, 'Fuel Consumption vs. Engine Displacement')"
      ]
     },
     "execution_count": 11,
     "metadata": {},
     "output_type": "execute_result"
    },
    {
     "data": {
      "image/png": "[encoded data removed]",
      "text/plain": [
       "<Figure size 864x720 with 1 Axes>"
      ]
     },
     "metadata": {
      "needs_background": "light"
     },
     "output_type": "display_data"
    }
   ],
   "source": [
    "plt.figure(figsize=(12, 10))\n",
    "sns.set(style='whitegrid')\n",
    "plt.scatter(X, Y, c='b', s=4) # 'b' is short for blue\n",
    "plt.xlabel('engine displacement in litres')\n",
    "plt.ylabel('litre per 100 km')\n",
    "plt.title('Fuel Consumption vs. Engine Displacement')"
   ]
  },
  {
   "cell_type": "markdown",
   "metadata": {},
   "source": [
    "We compute the average engine displacement according to the formula:\n",
    "$$ \\bar{\\mathbf{x}} = \\frac{1}{m} \\cdot \\sum\\limits_{i=1}^m x_i $$ "
   ]
  },
  {
   "cell_type": "code",
   "execution_count": 12,
   "metadata": {},
   "outputs": [
    {
     "data": {
      "text/plain": [
       "3.185848717984694"
      ]
     },
     "execution_count": 12,
     "metadata": {},
     "output_type": "execute_result"
    }
   ],
   "source": [
    "xMean = np.mean(X)\n",
    "xMean"
   ]
  },
  {
   "cell_type": "markdown",
   "metadata": {},
   "source": [
    "We compute the average fuel consumption according to the formula:\n",
    "$$ \\bar{\\mathbf{y}} = \\frac{1}{m} \\cdot \\sum\\limits_{i=1}^m y_i $$ "
   ]
  },
  {
   "cell_type": "code",
   "execution_count": 13,
   "metadata": {},
   "outputs": [
    {
     "data": {
      "text/plain": [
       "11.24855510842273"
      ]
     },
     "execution_count": 13,
     "metadata": {},
     "output_type": "execute_result"
    }
   ],
   "source": [
    "yMean = np.mean(Y)\n",
    "yMean"
   ]
  },
  {
   "cell_type": "markdown",
   "metadata": {},
   "source": [
    "The coefficient $\\vartheta_1$ is computed according to the formula:\n",
    "$$ \\vartheta_1 = \\frac{\\sum\\limits_{i=1}^m \\bigl(x_i - \\bar{\\mathbf{x}}\\bigr) \\cdot \\bigl(y_i - \\bar{\\mathbf{y}}\\bigr)}{\n",
    "                       \\sum\\limits_{i=1}^m \\bigl(x_i - \\bar{\\mathbf{x}}\\bigr)^2}  \n",
    "$$"
   ]
  },
  {
   "cell_type": "code",
   "execution_count": 14,
   "metadata": {},
   "outputs": [
    {
     "data": {
      "text/plain": [
       "1.9766520631043467"
      ]
     },
     "execution_count": 14,
     "metadata": {},
     "output_type": "execute_result"
    }
   ],
   "source": [
    "ϑ1 = np.sum((X - xMean) * (Y - yMean)) / np.sum((X - xMean) ** 2)\n",
    "ϑ1"
   ]
  },
  {
   "cell_type": "markdown",
   "metadata": {},
   "source": [
    "The coefficient $\\vartheta_0$ is computed according to the formula:\n",
    "$$ \\vartheta_0 = \\bar{\\mathbf{y}} - \\vartheta_1 \\cdot \\bar{\\mathbf{x}} $$ "
   ]
  },
  {
   "cell_type": "code",
   "execution_count": 15,
   "metadata": {},
   "outputs": [
    {
     "data": {
      "text/plain": [
       "4.951240667279946"
      ]
     },
     "execution_count": 15,
     "metadata": {},
     "output_type": "execute_result"
    }
   ],
   "source": [
    "ϑ0 = yMean - ϑ1 * xMean\n",
    "ϑ0"
   ]
  },
  {
   "cell_type": "markdown",
   "metadata": {},
   "source": [
    "Let us plot the line $y(x) = ϑ0 + ϑ1 \\cdot x$ together with our data:"
   ]
  },
  {
   "cell_type": "code",
   "execution_count": 16,
   "metadata": {},
   "outputs": [
    {
     "data": {
      "text/plain": [
       "Text(0.5, 1.0, 'Fuel Consumption versus Engine Displacement')"
      ]
     },
     "execution_count": 16,
     "metadata": {},
     "output_type": "execute_result"
    },
    {
     "data": {
      "image/png": "[encoded data removed]",
      "text/plain": [
       "<Figure size 864x720 with 1 Axes>"
      ]
     },
     "metadata": {},
     "output_type": "display_data"
    }
   ],
   "source": [
    "xMax = max(X) + 0.2\n",
    "plt.figure(figsize=(12, 10))\n",
    "sns.set(style='whitegrid')\n",
    "plt.scatter(X, Y, c='b')\n",
    "plt.plot([0, xMax], [ϑ0, ϑ0 + ϑ1 * xMax], c='r')\n",
    "plt.xlabel('engine displacement in cubic inches')\n",
    "plt.ylabel('fuel consumption in litres per 100 km')\n",
    "plt.title('Fuel Consumption versus Engine Displacement')"
   ]
  },
  {
   "cell_type": "markdown",
   "metadata": {},
   "source": [
    "We see there is quite a bit of variation and apparently the engine displacement explains only a part of the fuel consumption.  In order to compute the coefficient of determination, i.e. the statistics $R^2$, we first compute the *total sum of squares* `TSS`according to the following formula:\n",
    "$$ \\mathtt{TSS} := \\sum\\limits_{i=1}^m \\bigl(y_i - \\bar{\\mathbf{y}}\\bigr)^2 $$"
   ]
  },
  {
   "cell_type": "code",
   "execution_count": 17,
   "metadata": {},
   "outputs": [
    {
     "data": {
      "text/plain": [
       "5989.413625506393"
      ]
     },
     "execution_count": 17,
     "metadata": {},
     "output_type": "execute_result"
    }
   ],
   "source": [
    "TSS = np.sum((Y - yMean) ** 2)\n",
    "TSS"
   ]
  },
  {
   "cell_type": "markdown",
   "metadata": {},
   "source": [
    "Next, we compute the *residual sum of squares* `RSS` as follows:\n",
    "$$ \\mathtt{RSS} := \\sum\\limits_{i=1}^m \\bigl(\\vartheta_1 \\cdot x_i + \\vartheta_0 - y_i\\bigr)^2 $$\n",
    "    "
   ]
  },
  {
   "cell_type": "code",
   "execution_count": 18,
   "metadata": {},
   "outputs": [
    {
     "data": {
      "text/plain": [
       "1497.0994440627935"
      ]
     },
     "execution_count": 18,
     "metadata": {},
     "output_type": "execute_result"
    }
   ],
   "source": [
    "RSS = np.sum((ϑ1 * X + ϑ0 - Y) ** 2)\n",
    "RSS"
   ]
  },
  {
   "cell_type": "markdown",
   "metadata": {},
   "source": [
    "Now $R^2$ is calculated via the formula:\n",
    "$$ R^2 = 1 - \\frac{\\mathtt{RSS}}{\\mathtt{TSS}}$$"
   ]
  },
  {
   "cell_type": "code",
   "execution_count": 19,
   "metadata": {},
   "outputs": [
    {
     "data": {
      "text/plain": [
       "0.7500424018659728"
      ]
     },
     "execution_count": 19,
     "metadata": {},
     "output_type": "execute_result"
    }
   ],
   "source": [
    "R2 = 1 - RSS/TSS\n",
    "R2"
   ]
  },
  {
   "cell_type": "markdown",
   "metadata": {},
   "source": [
    "It seems that about $75\\%$ of the fuel consumption is explained by the engine displacement.  We can get a better model of the fuel consumption if we use more variables for explaining the fuel consumption.  For example, the weight of a car is also responsible for its fuel consumption."
   ]
  },
  {
   "cell_type": "code",
   "execution_count": null,
   "metadata": {},
   "outputs": [],
   "source": []
  }
 ],
 "metadata": {
  "kernelspec": {
   "display_name": "Python 3 (ipykernel)",
   "language": "python",
   "name": "python3"
  },
  "language_info": {
   "codemirror_mode": {
    "name": "ipython",
    "version": 3
   },
   "file_extension": ".py",
   "mimetype": "text/x-python",
   "name": "python",
   "nbconvert_exporter": "python",
   "pygments_lexer": "ipython3",
   "version": "3.9.10"
  },
  "toc": {
   "base_numbering": 1,
   "nav_menu": {},
   "number_sections": true,
   "sideBar": true,
   "skip_h1_title": false,
   "title_cell": "Table of Contents",
   "title_sidebar": "Contents",
   "toc_cell": false,
   "toc_position": {},
   "toc_section_display": true,
   "toc_window_display": false
  },
  "varInspector": {
   "cols": {
    "lenName": 16,
    "lenType": 16,
    "lenVar": 40
   },
   "kernels_config": {
    "python": {
     "delete_cmd_postfix": "",
     "delete_cmd_prefix": "del ",
     "library": "var_list.py",
     "varRefreshCmd": "print(var_dic_list())"
    },
    "r": {
     "delete_cmd_postfix": ") ",
     "delete_cmd_prefix": "rm(",
     "library": "var_list.r",
     "varRefreshCmd": "cat(var_dic_list()) "
    }
   },
   "types_to_exclude": [
    "module",
    "function",
    "builtin_function_or_method",
    "instance",
    "_Feature"
   ],
   "window_display": false
  }
 },
 "nbformat": 4,
 "nbformat_minor": 2
}
