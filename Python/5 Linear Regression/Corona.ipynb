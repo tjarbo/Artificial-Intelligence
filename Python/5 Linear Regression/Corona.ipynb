{
 "cells": [
  {
   "cell_type": "code",
   "execution_count": null,
   "metadata": {},
   "outputs": [],
   "source": [
    "from IPython.core.display import HTML\n",
    "with open (\"../style.css\", \"r\") as file:\n",
    "    css = file.read()\n",
    "HTML(css)"
   ]
  },
  {
   "cell_type": "markdown",
   "metadata": {},
   "source": [
    "# Predicting the Spread of Covid-19 with Linear Regression"
   ]
  },
  {
   "cell_type": "markdown",
   "metadata": {},
   "source": [
    "The array `num_cases` contains the number of cases on successive days in the time period from February, the 25th up to the 13th of March 2020, i.e. `num_cases[0]` is the number of Covid-19 cases on the 25th of February and `num_cases[i]`is the number of Covid-19 cases `i` days after the 25th of February.  I have taken these data form the website <a href=\"http://interaktiv.morgenpost.de/corona-virus-karte-infektionen-deutschland-weltweit/\">http://interaktiv.morgenpost.de/corona-virus-karte-infektionen-deutschland-weltweit/</a>."
   ]
  },
  {
   "cell_type": "code",
   "execution_count": null,
   "metadata": {},
   "outputs": [],
   "source": [
    "num_cases = [16, 19, 24, 53, 66, 117, 150, 188, 240, 349, 534, 684, 847, 1112, 1565, 1966, 2745, 3675]"
   ]
  },
  {
   "cell_type": "markdown",
   "metadata": {},
   "source": [
    "`m` is the number of data points."
   ]
  },
  {
   "cell_type": "code",
   "execution_count": null,
   "metadata": {},
   "outputs": [],
   "source": [
    "m = len(num_cases)\n",
    "m"
   ]
  },
  {
   "cell_type": "markdown",
   "metadata": {},
   "source": [
    "We take the number of days after the 25th of February as x-values."
   ]
  },
  {
   "cell_type": "code",
   "execution_count": null,
   "metadata": {},
   "outputs": [],
   "source": [
    "X = range(m)"
   ]
  },
  {
   "cell_type": "code",
   "execution_count": null,
   "metadata": {},
   "outputs": [],
   "source": [
    "list(X)"
   ]
  },
  {
   "cell_type": "markdown",
   "metadata": {},
   "source": [
    "To begin with, we plot the data.  To this end we have to load some libraries."
   ]
  },
  {
   "cell_type": "code",
   "execution_count": null,
   "metadata": {},
   "outputs": [],
   "source": [
    "import numpy             as np\n",
    "import matplotlib.pyplot as plt\n",
    "import seaborn           as sns"
   ]
  },
  {
   "cell_type": "code",
   "execution_count": null,
   "metadata": {},
   "outputs": [],
   "source": [
    "plt.figure(figsize=(12, 10))\n",
    "sns.set(style='darkgrid')\n",
    "plt.xticks(ticks=X)\n",
    "plt.scatter(X, num_cases, c='r') \n",
    "plt.xlabel('date in number of days since the 25th of Febuary')\n",
    "plt.ylabel('number of Covid-19 cases')\n",
    "plt.title('Number of Covid-19 cases versus date.')"
   ]
  },
  {
   "cell_type": "markdown",
   "metadata": {},
   "source": [
    "This does not look exactly linear.  Rather, it might be exponential.  Hence, we take the logarithm of the number of cases and plot these logarithms with respect to the date."
   ]
  },
  {
   "cell_type": "code",
   "execution_count": null,
   "metadata": {},
   "outputs": [],
   "source": [
    "import math"
   ]
  },
  {
   "cell_type": "code",
   "execution_count": null,
   "metadata": {},
   "outputs": [],
   "source": [
    "Y = [math.log(y) for y in num_cases]"
   ]
  },
  {
   "cell_type": "code",
   "execution_count": null,
   "metadata": {},
   "outputs": [],
   "source": [
    "plt.figure(figsize=(12, 10))\n",
    "sns.set(style='whitegrid')\n",
    "plt.xticks(ticks=X)\n",
    "plt.scatter(X, Y, c='r') \n",
    "plt.xlabel('date in number of days since the 25th of Febuary')\n",
    "plt.ylabel('log of the number of Covid-19 cases')\n",
    "plt.title('Log of the Number of Covid-19 cases versus date.')"
   ]
  },
  {
   "cell_type": "markdown",
   "metadata": {},
   "source": [
    "This looks better. There seem to be a jump at `x = 3` and `x = 5`. These correspond to the date of Friday, the 28th of February and Sunday, the 1st of March.  These dates coincide with the German *Carnival* in 2020.  This period might have enhanced the normal spreading of the disease.  Therefore, let us just take the data starting from the 1st of March."
   ]
  },
  {
   "cell_type": "markdown",
   "metadata": {},
   "source": [
    "To ease the computation, we transform our data into numpy vectors.  Note that we throw away the first 5 data."
   ]
  },
  {
   "cell_type": "code",
   "execution_count": null,
   "metadata": {},
   "outputs": [],
   "source": [
    "X = np.array(X[5:])\n",
    "Y = np.array(Y[5:])"
   ]
  },
  {
   "cell_type": "code",
   "execution_count": null,
   "metadata": {},
   "outputs": [],
   "source": [
    "X"
   ]
  },
  {
   "cell_type": "markdown",
   "metadata": {},
   "source": [
    "We compute the average value of `X` according to the formula:\n",
    "$$ \\bar{\\mathbf{x}} = \\frac{1}{m} \\cdot \\sum\\limits_{i=1}^m x_i $$ "
   ]
  },
  {
   "cell_type": "code",
   "execution_count": null,
   "metadata": {},
   "outputs": [],
   "source": [
    "xMean = np.mean(X)\n",
    "xMean"
   ]
  },
  {
   "cell_type": "markdown",
   "metadata": {},
   "source": [
    "We compute the average number of the logarithm of Covid-19 cases according to the formula:\n",
    "$$ \\bar{\\mathbf{y}} = \\frac{1}{m} \\cdot \\sum\\limits_{i=1}^m y_i $$ "
   ]
  },
  {
   "cell_type": "code",
   "execution_count": null,
   "metadata": {},
   "outputs": [],
   "source": [
    "yMean = np.mean(Y)\n",
    "yMean"
   ]
  },
  {
   "cell_type": "markdown",
   "metadata": {},
   "source": [
    "The coefficient $\\vartheta_1$ is computed according to the formula:\n",
    "$$ \\vartheta_1 = \\frac{\\sum\\limits_{i=1}^m \\bigl(x_i - \\bar{\\mathbf{x}}\\bigr) \\cdot \\bigl(y_i - \\bar{\\mathbf{y}}\\bigr)}{\n",
    "                       \\sum\\limits_{i=1}^m \\bigl(x_i - \\bar{\\mathbf{x}}\\bigr)^2}  \n",
    "$$"
   ]
  },
  {
   "cell_type": "code",
   "execution_count": null,
   "metadata": {},
   "outputs": [],
   "source": [
    "ϑ1 = np.sum((X - xMean) * (Y - yMean)) / np.sum((X - xMean) ** 2)\n",
    "ϑ1"
   ]
  },
  {
   "cell_type": "markdown",
   "metadata": {},
   "source": [
    "The coefficient $\\vartheta_0$ is computed according to the formula:\n",
    "$$ \\vartheta_0 = \\bar{\\mathbf{y}} - \\vartheta_1 \\cdot \\bar{\\mathbf{x}} $$ "
   ]
  },
  {
   "cell_type": "code",
   "execution_count": null,
   "metadata": {},
   "outputs": [],
   "source": [
    "ϑ0 = yMean - ϑ1 * xMean\n",
    "ϑ0"
   ]
  },
  {
   "cell_type": "markdown",
   "metadata": {},
   "source": [
    "Let us plot the line $y(x) = ϑ0 + ϑ1 \\cdot x$ together with our data:"
   ]
  },
  {
   "cell_type": "code",
   "execution_count": null,
   "metadata": {},
   "outputs": [],
   "source": [
    "xMax = max(X) + 0.2\n",
    "plt.figure(figsize=(12, 10))\n",
    "sns.set(style='darkgrid')\n",
    "plt.xticks(ticks=X)\n",
    "plt.scatter(X, Y, c='r')\n",
    "plt.plot([0, xMax], [ϑ0, ϑ0 + ϑ1 * xMax], c='b')\n",
    "plt.xlabel('date in number of days since the 1st of March')\n",
    "plt.ylabel('log of the number of Covid-19 cases')\n",
    "plt.title('Log of the Number of Covid-19 cases versus date.')"
   ]
  },
  {
   "cell_type": "markdown",
   "metadata": {},
   "source": [
    "The blue line is not too far of the data points.  In order to judge the quality of our model we compute both the\n",
    "<em style=\"color:blue\">total sum of squares</em> and the <em style=\"color:blue\">residual sum of squares</em>."
   ]
  },
  {
   "cell_type": "code",
   "execution_count": null,
   "metadata": {},
   "outputs": [],
   "source": [
    "TSS = np.sum((Y - yMean) ** 2)"
   ]
  },
  {
   "cell_type": "markdown",
   "metadata": {},
   "source": [
    "Next, we compute the *residual sum of squares* `RSS` as follows:\n",
    "$$ \\mathtt{RSS} := \\sum\\limits_{i=1}^m \\bigl(\\vartheta_1 \\cdot x_i + \\vartheta_0 - y_i\\bigr)^2 $$\n",
    "    "
   ]
  },
  {
   "cell_type": "code",
   "execution_count": null,
   "metadata": {},
   "outputs": [],
   "source": [
    "RSS = np.sum((ϑ1 * X + ϑ0 - Y) ** 2)"
   ]
  },
  {
   "cell_type": "markdown",
   "metadata": {},
   "source": [
    "Now $R^2$ is calculated via the formula:\n",
    "$$ R^2 = 1 - \\frac{\\mathtt{RSS}}{\\mathtt{TSS}}$$"
   ]
  },
  {
   "cell_type": "code",
   "execution_count": null,
   "metadata": {},
   "outputs": [],
   "source": [
    "R2 = 1 - RSS/TSS\n",
    "R2"
   ]
  },
  {
   "cell_type": "markdown",
   "metadata": {},
   "source": [
    "It seems that our model is a good approximation of the data."
   ]
  },
  {
   "cell_type": "markdown",
   "metadata": {},
   "source": [
    "Finally, let us make a prediction for the 16th of March. The logarithm of the number of cases $n$ on the 16th of March which is $20$ days after the 25th of February is predicted according to the formula:\n",
    "$$ \\ln(n) = \\vartheta_1 \\cdot 20 + \\vartheta_0 $$\n",
    "Hence, the number of cases $n$ for that day is predicted as\n",
    "$$ n = \\exp\\bigl(\\vartheta_1 \\cdot 20 + \\vartheta_0\\bigr). $$"
   ]
  },
  {
   "cell_type": "code",
   "execution_count": null,
   "metadata": {},
   "outputs": [],
   "source": [
    "round(math.exp(ϑ1 * 20 + ϑ0))"
   ]
  },
  {
   "cell_type": "markdown",
   "metadata": {},
   "source": [
    "Our model predicts that there are about $8,787$ cases by the end of Monday, the 16th of March.  \n",
    "(The actual number of cases was $8,919$.)\n"
   ]
  }
 ],
 "metadata": {
  "kernelspec": {
   "display_name": "Python 3",
   "language": "python",
   "name": "python3"
  },
  "language_info": {
   "codemirror_mode": {
    "name": "ipython",
    "version": 3
   },
   "file_extension": ".py",
   "mimetype": "text/x-python",
   "name": "python",
   "nbconvert_exporter": "python",
   "pygments_lexer": "ipython3",
   "version": "3.10.2"
  },
  "toc": {
   "base_numbering": 1,
   "nav_menu": {},
   "number_sections": true,
   "sideBar": true,
   "skip_h1_title": false,
   "title_cell": "Table of Contents",
   "title_sidebar": "Contents",
   "toc_cell": false,
   "toc_position": {},
   "toc_section_display": true,
   "toc_window_display": false
  },
  "varInspector": {
   "cols": {
    "lenName": 16,
    "lenType": 16,
    "lenVar": 40
   },
   "kernels_config": {
    "python": {
     "delete_cmd_postfix": "",
     "delete_cmd_prefix": "del ",
     "library": "var_list.py",
     "varRefreshCmd": "print(var_dic_list())"
    },
    "r": {
     "delete_cmd_postfix": ") ",
     "delete_cmd_prefix": "rm(",
     "library": "var_list.r",
     "varRefreshCmd": "cat(var_dic_list()) "
    }
   },
   "types_to_exclude": [
    "module",
    "function",
    "builtin_function_or_method",
    "instance",
    "_Feature"
   ],
   "window_display": false
  }
 },
 "nbformat": 4,
 "nbformat_minor": 2
}
