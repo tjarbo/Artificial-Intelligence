{
 "cells": [
  {
   "cell_type": "code",
   "execution_count": null,
   "metadata": {},
   "outputs": [],
   "source": [
    "from IPython.core.display import HTML\n",
    "with open('../style.css') as f:\n",
    "    css = f.read()\n",
    "HTML(css)"
   ]
  },
  {
   "cell_type": "markdown",
   "metadata": {},
   "source": [
    "# The Minimax Algorithm with Memoization\n",
    "\n",
    "This notebook implements the [minimax algorithm](https://en.wikipedia.org/wiki/Minimax) with [memoization](https://en.wikipedia.org/wiki/Memoization) \n",
    "and thereby implements a program that can play various *deterministic*, *zero-sum*, *turn-taking*, *two-person* games with *perfect information*.  The implementation assumes that an external notebook defines a game and that this notebook provides the following variables and functions:\n",
    "* `gPlayers` is a list of length two.  The elements of this list are the \n",
    "  names of the players.  It is assumed that the first element in this list represents \n",
    "  the computer, while the second element is the human player.  The computer\n",
    "  always starts the game.\n",
    "* `gStart` is the *start state* of the game.\n",
    "* `next_states(State, player)` is a function that takes two arguments:`\n",
    "  - `State` is a state of the game.\n",
    "  - `player` is the player whose turn it is to make a move.\n",
    "  The function call `next_states(State, player)` returns the list\n",
    "  of all states that can be reached by any move of `player`.\n",
    "* `utility(State)` takes a state and a player as its arguments.\n",
    "  If `state` is a *terminal state* (i.e. a state where the game is finished), \n",
    "  then the function returns the value that this `state` has for `gPlayer[0]`.  Otherwise, the function returns `None`.\n",
    "* `finished(State)` returns `True` if and only if `state` is a terminal state.\n",
    "* `get_move(State)` displays the given state and asks the human player for\n",
    "  her move.\n",
    "* `final_msg(State)` informs the human player about the result of the game.\n",
    "* `draw(State, canvas, value)` draws the given state on the given canvas and \n",
    "  informs the user about the `value` of this state.  The value is always \n",
    "  calculated from the perspective of the first player, which is the computer.\n",
    "   \n",
    "---"
   ]
  },
  {
   "cell_type": "markdown",
   "metadata": {},
   "source": [
    "The function `maxValue(State)` takes one argument:\n",
    "- `State` is the current state of the game.\n",
    "\n",
    "The function assumes that it is the first player's turn.  It returns the value that `State` has\n",
    "if both players play their best game.  This values is an element from the set $\\{-1, 0, 1\\}$.  \n",
    "* If the first player can force a win, then `maxValue` returns the value `1`.\n",
    "* If the first player can at best force a draw, then the return value is `0`.\n",
    "* If the second `player` can force a win, then the return value is `-1`.\n",
    "\n",
    "Mathematically, the function `maxValue` is defined recursively:\n",
    "- $\\;\\;\\texttt{finished}(s) \\rightarrow \\texttt{maxValue}(s) = \\texttt{utility}(s)$\n",
    "- $\\neg \\texttt{finished}(s) \\rightarrow \n",
    "   \\texttt{maxValue}(s) = \\max\\bigl(\\bigl\\{ \\texttt{minValue}(n) \\bigm| n \\in \\texttt{nextStates}(s, \\texttt{gPlayers}[0]) \\bigr\\}\\bigr)\n",
    "  $"
   ]
  },
  {
   "cell_type": "code",
   "execution_count": null,
   "metadata": {},
   "outputs": [],
   "source": [
    "def maxValue(State):\n",
    "    if finished(State):\n",
    "        return utility(State)\n",
    "    return max([ minValue(ns) for ns in next_states(State, gPlayers[0]) ])"
   ]
  },
  {
   "cell_type": "markdown",
   "metadata": {},
   "source": [
    "The function `minValue(State)` takes one argument:\n",
    "- `State` is the current state of the game.\n",
    "\n",
    "The function assumes that it is the second player's turn.  It returns the value that `State` has\n",
    "if both players play their best game.  This values is an element from the set $\\{-1, 0, 1\\}$.  \n",
    "* If the first player can force a win, then the return value is `1`.\n",
    "* If the first player can at best force a draw, then the return value is `0`.\n",
    "* If the second `player` can force a win, then the return value is `-1`.\n",
    "\n",
    "Mathematically, the function `minValue` is defined recursively:\n",
    "- $\\texttt{finished}(s) \\rightarrow \\texttt{minValue}(s) = \\texttt{utility}(s)$\n",
    "- $\\neg \\texttt{finished}(s) \\rightarrow \n",
    "   \\texttt{minValue}(s) = \\min\\bigl(\\bigl\\{ \\texttt{maxValue}(n) \\bigm| n \\in \\texttt{nextStates}(s, \\texttt{gPlayers}[1]) \\bigr\\}\\bigr)\n",
    "  $"
   ]
  },
  {
   "cell_type": "code",
   "execution_count": null,
   "metadata": {},
   "outputs": [],
   "source": [
    "def minValue(State):  \n",
    "    if finished(State):\n",
    "        return utility(State)\n",
    "    return min([ maxValue(ns) for ns in next_states(State, gPlayers[1]) ])"
   ]
  },
  {
   "cell_type": "markdown",
   "metadata": {},
   "source": [
    "The function `best_move` takes one argument:\n",
    "- `State` is the current state of the game.\n",
    "\n",
    "It is assumed that the first player in the list `Player` is to move. \n",
    "The function `best_move` returns a pair of the form $(v, s)$ where $s$ is a state and $v$ is the value of this state.  The state $s$ is a state that is reached from `State` if `player` makes one of her optimal moves.  In order to have some variation in the game, the function randomly chooses any of the optimal moves."
   ]
  },
  {
   "cell_type": "code",
   "execution_count": null,
   "metadata": {},
   "outputs": [],
   "source": [
    "import random\n",
    "random.seed(1)"
   ]
  },
  {
   "cell_type": "code",
   "execution_count": null,
   "metadata": {},
   "outputs": [],
   "source": [
    "def best_move(State):\n",
    "    NS        = next_states(State, gPlayers[0])\n",
    "    bestVal   = maxValue(State)\n",
    "    BestMoves = [s for s in NS if minValue(s) == bestVal]\n",
    "    BestState = random.choice(BestMoves)\n",
    "    return bestVal, BestState"
   ]
  },
  {
   "cell_type": "markdown",
   "metadata": {},
   "source": [
    "The next line is needed because we need the function `IPython.display.clear_output` to clear the output in a cell."
   ]
  },
  {
   "cell_type": "code",
   "execution_count": null,
   "metadata": {},
   "outputs": [],
   "source": [
    "import IPython.display "
   ]
  },
  {
   "cell_type": "markdown",
   "metadata": {},
   "source": [
    "The function `play_game` plays a game on the given `canvas`.  The game played is specified indirectly as follows:\n",
    "- `gStart` is a global variable defining the start state of the game.\n",
    "\n",
    "   This variable is defined in the notebook that defines the game that is played.\n",
    "   The same holds for the other functions mentioned below.\n",
    "- `next_states` is a function such that $\\texttt{next_states}(s, p)$ computes the set of all possible states that can be reached from state $s$ if player $p$ is next to move.\n",
    "- `finished` is a function such that $\\texttt{finished}(s)$ is true for a state $s$ if the game is over in state $s$.\n",
    "- `utility` is a function such that $\\texttt{utility}(s)$ returns either `-1`, `0`, or `1` in the *terminal state* $s$.  We have that\n",
    "  - $\\texttt{utility}(s)= -1$ iff the game is lost for the first player in state $s$, \n",
    "  - $\\texttt{utility}(s)=  0$ iff the game is drawn, and \n",
    "  - $\\texttt{utility}(s)=  1$ iff the game is won for the first player in state $s$."
   ]
  },
  {
   "cell_type": "code",
   "execution_count": null,
   "metadata": {},
   "outputs": [],
   "source": [
    "def play_game(canvas):\n",
    "    State = gStart\n",
    "    while True: \n",
    "        val, State = best_move(State);\n",
    "        draw(State, canvas, f'For me, the game has the value {val}.')\n",
    "        if finished(State):\n",
    "            final_msg(State)\n",
    "            return\n",
    "        IPython.display.clear_output(wait=True)\n",
    "        State = get_move(State)\n",
    "        draw(State, canvas, '')\n",
    "        if finished(State):\n",
    "            IPython.display.clear_output(wait=True)\n",
    "            final_msg(State)\n",
    "            return"
   ]
  },
  {
   "cell_type": "markdown",
   "metadata": {},
   "source": [
    "Below, the jupyter *magic command* `%%capture` silently discards the output that is produced by the notebook `Tic-Tac-Toe.ipynb`."
   ]
  },
  {
   "cell_type": "code",
   "execution_count": null,
   "metadata": {},
   "outputs": [],
   "source": [
    "%%capture\n",
    "%run Tic-Tac-Toe.ipynb"
   ]
  },
  {
   "cell_type": "markdown",
   "metadata": {},
   "source": [
    "With the game *tic-tac-toe* represented as lists, computing the value of the start state takes about 4 seconds on my Windows PC (Processor: AMD Ryzen Threadripper PRO 3955WX with 16 Cores, 4.1 GHz)."
   ]
  },
  {
   "cell_type": "code",
   "execution_count": null,
   "metadata": {},
   "outputs": [],
   "source": [
    "%%time\n",
    "val = maxValue(gStart)"
   ]
  },
  {
   "cell_type": "markdown",
   "metadata": {},
   "source": [
    "The start state has the value `0`as neither player can force a win."
   ]
  },
  {
   "cell_type": "code",
   "execution_count": null,
   "metadata": {},
   "outputs": [],
   "source": [
    "val"
   ]
  },
  {
   "cell_type": "markdown",
   "metadata": {},
   "source": [
    "Let's draw the board and play a game."
   ]
  },
  {
   "cell_type": "code",
   "execution_count": null,
   "metadata": {
    "scrolled": false
   },
   "outputs": [],
   "source": [
    "canvas = create_canvas()\n",
    "draw(gStart, canvas, f'Current value of game for \"X\": {val}')"
   ]
  },
  {
   "cell_type": "markdown",
   "metadata": {},
   "source": [
    "Now its time to play.  In the input window that will pop up later, enter your move in the format \"row,col\"  with no space between row and column."
   ]
  },
  {
   "cell_type": "code",
   "execution_count": null,
   "metadata": {
    "scrolled": false
   },
   "outputs": [],
   "source": [
    "play_game(canvas)"
   ]
  },
  {
   "cell_type": "markdown",
   "metadata": {},
   "source": [
    "## Using the BitBoard Implementation of TicTacToe"
   ]
  },
  {
   "cell_type": "markdown",
   "metadata": {},
   "source": [
    "Next, we try how much the bit-board implementation speeds up the game."
   ]
  },
  {
   "cell_type": "code",
   "execution_count": null,
   "metadata": {},
   "outputs": [],
   "source": [
    "%%capture\n",
    "%run Tic-Tac-Toe-BitBoard.ipynb"
   ]
  },
  {
   "cell_type": "markdown",
   "metadata": {},
   "source": [
    "On my computer, the bit-board implementation is about twice as fast as the list based implementation.  "
   ]
  },
  {
   "cell_type": "code",
   "execution_count": null,
   "metadata": {},
   "outputs": [],
   "source": [
    "%%time\n",
    "val = maxValue(gStart)"
   ]
  },
  {
   "cell_type": "code",
   "execution_count": null,
   "metadata": {},
   "outputs": [],
   "source": [
    "canvas = create_canvas()\n",
    "draw(gStart, canvas, f'Current value of game for \"X\": {val}')"
   ]
  },
  {
   "cell_type": "code",
   "execution_count": null,
   "metadata": {},
   "outputs": [],
   "source": [
    "play_game(canvas)"
   ]
  },
  {
   "cell_type": "markdown",
   "metadata": {},
   "source": [
    "## Memoization"
   ]
  },
  {
   "cell_type": "code",
   "execution_count": null,
   "metadata": {},
   "outputs": [],
   "source": [
    "gCache = {}\n",
    "\n",
    "def memoize(f):\n",
    "    global gCache\n",
    "    \n",
    "    def f_memoized(*args):\n",
    "        if (f, args) in gCache:\n",
    "            return gCache[(f, args)]\n",
    "        result = f(*args)\n",
    "        gCache[(f, args)] = result\n",
    "        return result\n",
    "    \n",
    "    return f_memoized"
   ]
  },
  {
   "cell_type": "code",
   "execution_count": null,
   "metadata": {},
   "outputs": [],
   "source": [
    "maxValue = memoize(maxValue)\n",
    "minValue = memoize(minValue)"
   ]
  },
  {
   "cell_type": "markdown",
   "metadata": {},
   "source": [
    "* The list based implementation of TicTacToe with *Memoization* takes 84 ms.\n",
    "* The bit-board based implementation of TicTacToe takes 38 ms."
   ]
  },
  {
   "cell_type": "code",
   "execution_count": null,
   "metadata": {},
   "outputs": [],
   "source": [
    "%%time\n",
    "val = maxValue(gStart)"
   ]
  },
  {
   "cell_type": "markdown",
   "metadata": {},
   "source": [
    "Let us check the size of the cache."
   ]
  },
  {
   "cell_type": "code",
   "execution_count": null,
   "metadata": {},
   "outputs": [],
   "source": [
    "len(gCache)"
   ]
  },
  {
   "cell_type": "code",
   "execution_count": null,
   "metadata": {},
   "outputs": [],
   "source": []
  }
 ],
 "metadata": {
  "kernelspec": {
   "display_name": "Python 3 (ipykernel)",
   "language": "python",
   "name": "python3"
  },
  "language_info": {
   "codemirror_mode": {
    "name": "ipython",
    "version": 3
   },
   "file_extension": ".py",
   "mimetype": "text/x-python",
   "name": "python",
   "nbconvert_exporter": "python",
   "pygments_lexer": "ipython3",
   "version": "3.10.0"
  },
  "toc": {
   "base_numbering": 1,
   "nav_menu": {},
   "number_sections": true,
   "sideBar": true,
   "skip_h1_title": false,
   "title_cell": "Table of Contents",
   "title_sidebar": "Contents",
   "toc_cell": false,
   "toc_position": {},
   "toc_section_display": true,
   "toc_window_display": false
  },
  "varInspector": {
   "cols": {
    "lenName": 16,
    "lenType": 16,
    "lenVar": 40
   },
   "kernels_config": {
    "python": {
     "delete_cmd_postfix": "",
     "delete_cmd_prefix": "del ",
     "library": "var_list.py",
     "varRefreshCmd": "print(var_dic_list())"
    },
    "r": {
     "delete_cmd_postfix": ") ",
     "delete_cmd_prefix": "rm(",
     "library": "var_list.r",
     "varRefreshCmd": "cat(var_dic_list()) "
    }
   },
   "types_to_exclude": [
    "module",
    "function",
    "builtin_function_or_method",
    "instance",
    "_Feature"
   ],
   "window_display": false
  }
 },
 "nbformat": 4,
 "nbformat_minor": 2
}
