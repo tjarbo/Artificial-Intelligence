{
 "cells": [
  {
   "cell_type": "code",
   "execution_count": null,
   "metadata": {},
   "outputs": [],
   "source": [
    "from IPython.core.display import HTML\n",
    "with open('../style.css') as f:\n",
    "    css = f.read()\n",
    "HTML(css)"
   ]
  },
  {
   "cell_type": "markdown",
   "metadata": {},
   "source": [
    "# Alpha-Beta Pruning with Intelligent Memoization"
   ]
  },
  {
   "cell_type": "markdown",
   "metadata": {},
   "source": [
    "In order to have some variation in our game, we use random numbers to choose between optimal moves.\n",
    "In order to have reproducible results, we use a *seed* for the random number generator."
   ]
  },
  {
   "cell_type": "code",
   "execution_count": null,
   "metadata": {},
   "outputs": [],
   "source": [
    "import random\n",
    "random.seed(0)"
   ]
  },
  {
   "cell_type": "markdown",
   "metadata": {},
   "source": [
    "The global variable `gCache` is used as a cache for the function `evaluate` defined later.  Instead of just storing the values for a given `State`, the cache stores pairs of the form \n",
    "* `('=', v)`, \n",
    "* `('≤', v)`, or\n",
    "* `('≥', v)`.\n",
    "\n",
    "The first component of these pairs is a *flag* that specifies whether the stored value `v` is exact or whether it only is a lower or upper bound.  Concretely, provided `gCache[State]` is defined and `evaluate(State)` computes the *value* of a given `State`, the following invariants are satisfied:\n",
    "* $\\texttt{gCache[State]} = (\\texttt{'='}, v) \\rightarrow \\texttt{evaluate(State)} = v$.\n",
    "* $\\texttt{gCache[State]} = (\\texttt{'≤'}, v) \\rightarrow \\texttt{evaluate(State)} \\leq v$.\n",
    "* $\\texttt{gCache[State]} = (\\texttt{'≥'}, v) \\rightarrow \\texttt{evaluate(State)} \\geq v$."
   ]
  },
  {
   "cell_type": "code",
   "execution_count": null,
   "metadata": {},
   "outputs": [],
   "source": [
    "gCache = {}"
   ]
  },
  {
   "cell_type": "markdown",
   "metadata": {},
   "source": [
    "The function `evaluate` takes four arguments:\n",
    "- `State` is the current state of the game,\n",
    "- `f`     is either the function `maxValue` or the function `minValue`.\n",
    "\n",
    "   These functions are defined later. If in `State` it is the first player's turn, then `f` is equal to `maxValue`, else `f` is equal to `minValue`.\n",
    "- `alpha` is a lower bound for the value of `State`,\n",
    "- `beta`  is an upper bound for the value of `State`,\n",
    "\n",
    "The function `evaluate` satisfies the following specification:\n",
    "- $\\alpha \\leq \\texttt{value}(s) \\leq \\beta \\;\\rightarrow\\;\\texttt{evaluate}(s, f, \\alpha, \\beta) = \\texttt{value}(s)$\n",
    "- $\\texttt{value}(s) < \\alpha \\;\\rightarrow\\; \\texttt{evaluate}(s, f, \\alpha, \\beta) \\leq \\alpha$\n",
    "- $\\beta < \\texttt{value}(s) \\;\\rightarrow\\; \\beta \\leq \\texttt{evaluate}(s, f, \\alpha, \\beta)$\n",
    "\n",
    "Here, the expression `value(s)` returns the *value* of the given state `s` if both players play their optimal game.  This value is an element from the set $\\{-1, 0, 1\\}$.  \n",
    "- If the first player can force a win, the return value is `1`.\n",
    "- If the first player can at best force a draw, the return value is `0`.\n",
    "- If the second player can force a win, the return value is `-1`.\n",
    "\n",
    "For reasons of efficiency, the function `evaluate` is *memoized* using the global variable `gCache`.\n",
    "If `gCache[State]` is defined, then the computation of `evaluate(State, alpha, beta)`\n",
    "proceeds according to the following case distinction:\n",
    "1. If the stored value $v$ is exact, we can return this value:\n",
    "\n",
    "   $$\\texttt{gCache[State]} = (\\texttt{'='}, v) \\rightarrow \\texttt{evaluate}(\\texttt{State}, \\alpha, \\beta) = v.$$\n",
    "2. If the stored value $v$ is an upper bound and this upper bound is less or equal than $\\alpha$, then we know that\n",
    "   the true value of `State` is less or equal than $\\alpha$ and hence we can also return the value $v$:\n",
    "\n",
    "   $$\\texttt{gCache[State]} = (\\texttt{'≤'}, v) \\wedge v \\leq \\alpha \\rightarrow \n",
    "     \\texttt{evaluate}(\\texttt{State}, \\alpha, \\beta) = v.$$\n",
    "3. If the stored value $v$ is an upper bound and this upper bound is bigger than $\\alpha$ but less than $\\beta$, then we know that the true value is less or equal than $v$ and hence we shrink the interval $[\\alpha, \\beta]$\n",
    "   into the interval $[\\alpha, v]$.\n",
    "\n",
    "   $$\\texttt{gCache[State]} = (\\texttt{'≤'}, v) \\wedge \\alpha < v < \\beta \\rightarrow \n",
    "     \\texttt{evaluate}(\\texttt{State}, \\alpha, \\beta) = f(\\texttt{State}, \\alpha, v).$$\n",
    "     \n",
    "   In this case, `gCache` is updated.  \n",
    "\n",
    "4. If the stored value $v$ is an upper bound and this upper bound is bigger or equal than $\\beta$, then the stored value isn't of any help.\n",
    "   \n",
    "   $$\\texttt{gCache[State]} = (\\texttt{'≤'}, v) \\wedge \\beta \\leq v \\rightarrow \n",
    "     \\texttt{evaluate}(\\texttt{State}, \\alpha, \\beta) = f(\\texttt{State}, \\alpha, \\beta).$$\n",
    "\n",
    "   In this case,  `gCache` needs to be updated.\n",
    "\n",
    "5. If the stored value $v$ is a lower bound and this lower bound is greater or equal than $\\beta$, then we \n",
    "   know that the true value is bigger or equal than $\\beta$ and hence we can return the value $v$: \n",
    "\n",
    "   $$\\texttt{gCache[State]} = (\\texttt{'≥'}, v) \\wedge \\beta \\leq v \\rightarrow \n",
    "     \\texttt{evaluate}(\\texttt{State}, \\alpha, \\beta) = v.$$\n",
    "     \n",
    "6. If the stored value $v$ is a lower bound and this lower bound is less than $\\beta$ but bigger than $\\alpha$,\n",
    "   then we know that the true value is bigger or equal than $v$ and hence we shrink the interval $[\\alpha,\\beta]$\n",
    "   into the interval $[v, \\beta]$: \n",
    "\n",
    "   $$\\texttt{gCache[State]} = (\\texttt{'≥'}, v) \\wedge \\alpha < v < \\beta \\rightarrow \n",
    "     \\texttt{evaluate}(\\texttt{State}, \\alpha, \\beta) = f(\\texttt{State}, v, \\beta).$$\n",
    "     \n",
    "   In this case, `gCache` is updated.    \n",
    "7. If the stored value $v$ is a lower bound and this lower bound is less or equal than $\\alpha$, then the stored value isn't of any help.\n",
    "   \n",
    "   $$\\texttt{gCache[State]} = (\\texttt{'≥'}, v) \\wedge v \\leq \\alpha \\rightarrow \n",
    "     \\texttt{evaluate}(\\texttt{State}, \\alpha, \\beta) = f(\\texttt{State}, \\alpha, \\beta).$$\n",
    "\n",
    "   In this case, the `gCache` needs to be updated."
   ]
  },
  {
   "cell_type": "code",
   "execution_count": null,
   "metadata": {},
   "outputs": [],
   "source": [
    "def evaluate(State, f, alpha=-1, beta=1):\n",
    "    global gCache\n",
    "    if State in gCache:\n",
    "        flag, v = gCache[State]\n",
    "        if flag == '=':\n",
    "            return v\n",
    "        if flag == '≤':\n",
    "            if v <= alpha:\n",
    "                return v\n",
    "            elif alpha < v < beta:\n",
    "                w = f(State, alpha, v)\n",
    "                store_cache(State, alpha, v, w)\n",
    "                return w\n",
    "            else: \n",
    "                w = f(State, alpha, beta)\n",
    "                store_cache(State, alpha, beta, w)\n",
    "                return w\n",
    "        if flag == '≥':\n",
    "            if beta <= v:\n",
    "                return v\n",
    "            elif alpha < v < beta:\n",
    "                w = f(State, v, beta)\n",
    "                store_cache(State, v, beta, w)\n",
    "                return w\n",
    "            else:\n",
    "                w = f(State, alpha, beta)\n",
    "                store_cache(State, alpha, beta, w)\n",
    "                return w\n",
    "    else: # no value stored in gCache for State\n",
    "        v = f(State, alpha, beta)\n",
    "        store_cache(State, alpha, beta, v)\n",
    "        return v"
   ]
  },
  {
   "cell_type": "markdown",
   "metadata": {},
   "source": [
    "The function `store_cache` is called with four arguments:\n",
    "* `State` is a state of the game,\n",
    "* `alpha` is a number,\n",
    "* `beta`  is a number, and\n",
    "* `v`     is a number such that:\n",
    "  $$\\texttt{evaluate(State, f, alpha, beta)} = v$$\n",
    "  \n",
    "The function stores the `value` in the dictionary `gCache` under the key `State`.\n",
    "It also stores an indicator that is either `'≤'`, `'='`, or `'≥'`.  The value that is stored \n",
    "satisfies the following conditions:\n",
    "* If `gCache[State] = ('≤', v)`, then `value(State) ≤ v`. \n",
    "* If `gCache[State] = ('=', v)`, then `value(State) = v`. \n",
    "* If `gCache[State] = ('≥', v)`, then `value(State) ≥ v`. "
   ]
  },
  {
   "cell_type": "code",
   "execution_count": null,
   "metadata": {},
   "outputs": [],
   "source": [
    "def store_cache(State, alpha, beta, v):\n",
    "    global gCache\n",
    "    if   v <= alpha:\n",
    "        gCache[State] = ('≤', v)\n",
    "    elif v <  beta: # alpha < v\n",
    "        gCache[State] = ('=', v)\n",
    "    else: # beta <= v\n",
    "        gCache[State] = ('≥', v)"
   ]
  },
  {
   "cell_type": "markdown",
   "metadata": {},
   "source": [
    "The function `maxValue` is called with three arguments:\n",
    "* `State` is a state of the game,\n",
    "* `alpha` is a number, and\n",
    "* `beta`  is a number.\n",
    "\n",
    "The function `maxValue` is only called if in the given `State` it is the turn of the maximizing player.\n",
    "\n",
    "The function `maxValue` satisfies the following specification:\n",
    "- $\\alpha \\leq \\texttt{value}(s) \\leq \\beta \\;\\rightarrow\\;\\texttt{maxValue}(s, \\alpha, \\beta) = \\texttt{value}(s)$\n",
    "- $\\texttt{value}(s) < \\alpha \\;\\rightarrow\\; \\texttt{maxValue}(s, \\alpha, \\beta) \\leq \\alpha$\n",
    "- $\\beta < \\texttt{value}(s) \\;\\rightarrow\\; \\beta \\leq \\texttt{maxValue}(s, \\alpha, \\beta)$"
   ]
  },
  {
   "cell_type": "code",
   "execution_count": null,
   "metadata": {},
   "outputs": [],
   "source": [
    "def maxValue(State, alpha, beta):\n",
    "    if finished(State):\n",
    "        return utility(State)\n",
    "    if alpha >= beta:\n",
    "        return alpha\n",
    "    v = alpha\n",
    "    for ns in next_states(State, gPlayers[0]):\n",
    "        v = max(v, evaluate(ns, minValue, v, beta))\n",
    "        if v >= beta:\n",
    "            return v\n",
    "    return v"
   ]
  },
  {
   "cell_type": "markdown",
   "metadata": {},
   "source": [
    "The function `minValue` is called with three arguments:\n",
    "* `State` is a state of the game,\n",
    "* `alpha` is a number, and\n",
    "* `beta`  is a number.\n",
    "\n",
    "The function `minValue` is only called if in the given `State` it is the turn of the minimizing player.\n",
    "\n",
    "The function `minValue` satisfies the following specification:\n",
    "- $\\alpha \\leq \\texttt{value}(s) \\leq \\beta \\;\\rightarrow\\;\\texttt{minValue}(s, \\alpha, \\beta) = \\texttt{value}(s)$\n",
    "- $\\texttt{value}(s) < \\alpha \\;\\rightarrow\\; \\texttt{minValue}(s, \\alpha, \\beta) \\leq \\alpha$\n",
    "- $\\beta < \\texttt{value}(s) \\;\\rightarrow\\; \\beta \\leq \\texttt{minValue}(s, \\alpha, \\beta)$"
   ]
  },
  {
   "cell_type": "code",
   "execution_count": null,
   "metadata": {},
   "outputs": [],
   "source": [
    "def minValue(State, alpha, beta):\n",
    "    if finished(State):\n",
    "        return utility(State)\n",
    "    if beta <= alpha:\n",
    "        return beta\n",
    "    v = beta\n",
    "    for ns in next_states(State, gPlayers[1]):\n",
    "        v = min(v, evaluate(ns, maxValue, alpha, v))\n",
    "        if v <= alpha:\n",
    "            return v\n",
    "    return v"
   ]
  },
  {
   "cell_type": "code",
   "execution_count": null,
   "metadata": {},
   "outputs": [],
   "source": [
    "%%capture\n",
    "%run Tic-Tac-Toe-Bitboard.ipynb"
   ]
  },
  {
   "cell_type": "markdown",
   "metadata": {},
   "source": [
    "$\\alpha$-$\\beta$ pruning with intelligent memoization takes 17 ms to compute the value of the state `gStart` for Tic-Tac-Toe. \n",
    "Hence, there is no big difference between intelligent memoization and naive memoization in this example.  However, if we implement\n",
    "a non-trivial game like Connect Four, the situation changes."
   ]
  },
  {
   "cell_type": "code",
   "execution_count": null,
   "metadata": {},
   "outputs": [],
   "source": [
    "%%time\n",
    "v = evaluate(gStart, maxValue, -1, 1)\n",
    "v"
   ]
  },
  {
   "cell_type": "markdown",
   "metadata": {},
   "source": [
    "We check how many different states are stored in the `Cache`.  Without alpha-beta pruning, we had to inspect $5478$ different states, but now there are only\n",
    "$2474$ different states in the cache."
   ]
  },
  {
   "cell_type": "code",
   "execution_count": null,
   "metadata": {},
   "outputs": [],
   "source": [
    "len(gCache)"
   ]
  },
  {
   "cell_type": "markdown",
   "metadata": {},
   "source": [
    "## Playing the Game"
   ]
  },
  {
   "cell_type": "markdown",
   "metadata": {},
   "source": [
    "The function `best_move` takes two arguments:\n",
    "- `State` is the current state of the game,\n",
    "- `player` is a player.\n",
    "\n",
    "The function `best_move` returns a pair of the form $(v, s)$ where $s$ is a state and $v$ is the value of this state.  The state $s$ is a state that is reached from `State` if `player` makes one of her optimal moves.  In order to have some variation in the game, the function randomly chooses any of the optimal moves."
   ]
  },
  {
   "cell_type": "code",
   "execution_count": null,
   "metadata": {},
   "outputs": [],
   "source": [
    "def best_move(State):\n",
    "    NS        = next_states(State, gPlayers[0])\n",
    "    bestValue = evaluate(State, maxValue, -1, 1)\n",
    "    BestMoves = [s for s in NS if evaluate(s, minValue, -1, 1) == bestValue]\n",
    "    BestState = random.choice(BestMoves)\n",
    "    return bestValue, BestState"
   ]
  },
  {
   "cell_type": "markdown",
   "metadata": {},
   "source": [
    "The next line is needed because we need the function `IPython.display.clear_output` to clear the output in a cell."
   ]
  },
  {
   "cell_type": "code",
   "execution_count": null,
   "metadata": {},
   "outputs": [],
   "source": [
    "import IPython.display "
   ]
  },
  {
   "cell_type": "markdown",
   "metadata": {},
   "source": [
    "The function `play_game` plays on the given `canvas`.  The game played is specified indirectly by specifying the following:\n",
    "- `Start` is a global variable defining the start state of the game.\n",
    "- `next_states` is a function such that $\\texttt{next_states}(s, p)$ computes the set of all possible states that can be reached from state $s$ if player $p$ is next to move.\n",
    "- `finished` is a function such that $\\texttt{finished}(s)$ is true for a state $s$ if the game is over in state $s$.\n",
    "- `utility` is a function such that $\\texttt{utility}(s, p)$ returns either `-1`, `0`, or `1` in the *terminal state* $s$.  We have that\n",
    "  - $\\texttt{utility}(s, p)= -1$ iff the game is lost for player $p$ in state $s$, \n",
    "  - $\\texttt{utility}(s, p)=  0$ iff the game is drawn, and \n",
    "  - $\\texttt{utility}(s, p)=  1$ iff the game is won for player $p$ in state $s$."
   ]
  },
  {
   "cell_type": "code",
   "execution_count": null,
   "metadata": {},
   "outputs": [],
   "source": [
    "def play_game(canvas):\n",
    "    State = gStart\n",
    "    while (True):\n",
    "        val, State = best_move(State);\n",
    "        draw(State, canvas, f'For me, the game has the value {val}.')\n",
    "        if finished(State):\n",
    "            final_msg(State)\n",
    "            break\n",
    "        IPython.display.clear_output(wait=True)\n",
    "        State = get_move(State)\n",
    "        draw(State, canvas, '')\n",
    "        if finished(State):\n",
    "            IPython.display.clear_output(wait=True)\n",
    "            final_msg(State)\n",
    "            break"
   ]
  },
  {
   "cell_type": "markdown",
   "metadata": {},
   "source": [
    "Let's draw the board."
   ]
  },
  {
   "cell_type": "code",
   "execution_count": null,
   "metadata": {},
   "outputs": [],
   "source": [
    "canvas = create_canvas()\n",
    "draw(gStart, canvas, f'Current value of game for \"X\": {v}')"
   ]
  },
  {
   "cell_type": "markdown",
   "metadata": {},
   "source": [
    "Now its time to play.  In the input window that will pop up later, enter your move in the format \"`row,col`\"  with no space between row and column.  Both `row` and `col` should be integers from the set `{0,1,2}`.  "
   ]
  },
  {
   "cell_type": "code",
   "execution_count": null,
   "metadata": {},
   "outputs": [],
   "source": [
    "play_game(canvas)"
   ]
  },
  {
   "cell_type": "code",
   "execution_count": null,
   "metadata": {},
   "outputs": [],
   "source": []
  }
 ],
 "metadata": {
  "kernelspec": {
   "display_name": "Python 3",
   "language": "python",
   "name": "python3"
  },
  "language_info": {
   "codemirror_mode": {
    "name": "ipython",
    "version": 3
   },
   "file_extension": ".py",
   "mimetype": "text/x-python",
   "name": "python",
   "nbconvert_exporter": "python",
   "pygments_lexer": "ipython3",
   "version": "3.9.1"
  },
  "toc": {
   "base_numbering": 1,
   "nav_menu": {},
   "number_sections": true,
   "sideBar": true,
   "skip_h1_title": false,
   "title_cell": "Table of Contents",
   "title_sidebar": "Contents",
   "toc_cell": false,
   "toc_position": {},
   "toc_section_display": true,
   "toc_window_display": false
  },
  "varInspector": {
   "cols": {
    "lenName": 16,
    "lenType": 16,
    "lenVar": 40
   },
   "kernels_config": {
    "python": {
     "delete_cmd_postfix": "",
     "delete_cmd_prefix": "del ",
     "library": "var_list.py",
     "varRefreshCmd": "print(var_dic_list())"
    },
    "r": {
     "delete_cmd_postfix": ") ",
     "delete_cmd_prefix": "rm(",
     "library": "var_list.r",
     "varRefreshCmd": "cat(var_dic_list()) "
    }
   },
   "types_to_exclude": [
    "module",
    "function",
    "builtin_function_or_method",
    "instance",
    "_Feature"
   ],
   "window_display": false
  }
 },
 "nbformat": 4,
 "nbformat_minor": 2
}
