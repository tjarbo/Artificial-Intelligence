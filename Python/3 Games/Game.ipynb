{
 "cells": [
  {
   "cell_type": "code",
   "execution_count": null,
   "metadata": {},
   "outputs": [],
   "source": [
    "from IPython.core.display import HTML\n",
    "with open('../style.css') as f:\n",
    "    css = f.read()\n",
    "HTML(css)"
   ]
  },
  {
   "cell_type": "markdown",
   "metadata": {},
   "source": [
    "# Utilities"
   ]
  },
  {
   "cell_type": "markdown",
   "metadata": {},
   "source": [
    "The global variable `gCache` is used as a cache for the function `evaluate` defined later.  Instead of just storing the values for a given `State`, the cache stores pairs of the form \n",
    "* `('=', v)`, \n",
    "* `('≤', v)`, or\n",
    "* `('≥', v)`.\n",
    "\n",
    "The first component of these pairs is a *flag* that specifies whether the stored value `v` is exact or whether it only is a lower or upper bound.  Concretely, provided `gCache[State]` is defined and `value(State)` computes the *value* of a given `State` from the perspective of the maximizing \n",
    "player, the following invariants are satisfied:\n",
    "* $\\texttt{gCache[State]} = (\\texttt{'='}, v) \\rightarrow \\texttt{value(State)} = v$.\n",
    "* $\\texttt{gCache[State]} = (\\texttt{'≤'}, v) \\rightarrow \\texttt{value(State)} \\leq v$.\n",
    "* $\\texttt{gCache[State]} = (\\texttt{'≥'}, v) \\rightarrow \\texttt{value(State)} \\geq v$."
   ]
  },
  {
   "cell_type": "code",
   "execution_count": null,
   "metadata": {},
   "outputs": [],
   "source": [
    "gCache = {}"
   ]
  },
  {
   "cell_type": "markdown",
   "metadata": {},
   "source": [
    "In order to have some variation in our game, we use random numbers to choose between optimal moves."
   ]
  },
  {
   "cell_type": "code",
   "execution_count": null,
   "metadata": {},
   "outputs": [],
   "source": [
    "import random\n",
    "random.seed(0)"
   ]
  },
  {
   "cell_type": "markdown",
   "metadata": {},
   "source": [
    "# Alpha-Beta Pruning with Progressive Deepening, Move Ordering, and Memoization"
   ]
  },
  {
   "cell_type": "markdown",
   "metadata": {},
   "source": [
    "The function `pd_evaluate` takes three arguments:\n",
    "- `State` is the current state of the game,\n",
    "- `limit` determines how deep the game tree is searched,\n",
    "- `f`     is either the function `maxValue` or the function `minValue`.\n",
    "\n",
    "The function `pd_evaluate` uses *progressive deepening* to compute the value of `State`.  The given `State` is evaluated for a depth of $0$, $1$, $\\cdots$, `limit`.  The values calculated for a depth of $l$ are stored and used to sort the states when `State` is next evaluated for a depth of $l+1$.  This is beneficial for *alpha-beta pruning* because alpha-beta pruning can cut off more branches from the search tree if we start be evaluating the best moves first.  "
   ]
  },
  {
   "cell_type": "markdown",
   "metadata": {},
   "source": [
    "We need to declare the function `maxValue` since we use it as a default value for the parameter `f` of the function `pd_evaluate`. "
   ]
  },
  {
   "cell_type": "code",
   "execution_count": null,
   "metadata": {},
   "outputs": [],
   "source": [
    "import time"
   ]
  },
  {
   "cell_type": "code",
   "execution_count": null,
   "metadata": {},
   "outputs": [],
   "source": [
    "def pd_evaluate(State, time_limit, f):\n",
    "    start = time.time()\n",
    "    limit = 0\n",
    "    while True:\n",
    "        value = evaluate(State, limit, f)\n",
    "        stop = time.time()\n",
    "        if value in [-1, 1] or stop - start > time_limit:\n",
    "            print(f'searched to depth {limit}, using {round(stop - start, 3)} seconds')\n",
    "            return value, limit\n",
    "        limit += 1"
   ]
  },
  {
   "cell_type": "markdown",
   "metadata": {},
   "source": [
    "The function `evaluate` takes five arguments:\n",
    "- `State` is the current state of the game,\n",
    "- `limit` determines the lookahead.  To be more precise, it is the number of *half-moves* that are investigated to compute the value.  If `limit` is 0 and the game has not ended, the game is evaluated via the function `heuristic`. This function is supposed to be defined in the notebook defining the game.\n",
    "- `f` is either the function `maxValue` or the function `minValue`.  \n",
    "\n",
    "   `f = maxValue` if it's the maximizing player's turn in `State`.  Otherwise,\n",
    "   `f = minValue`.\n",
    "- `alpha` and `beta` are the parameters from *alpha-beta pruning*.\n",
    "\n",
    "The function `evaluate` returns the *value* that the given `State` has if both players play their optimal game. \n",
    "- If the maximizing player can force a win, the return value is `1`.\n",
    "- If the maximizing player can at best force a draw, the return value is `0`.\n",
    "- If the maximizing player might loose even when playing optimal, the return value is `-1`.\n",
    "\n",
    "Otherwise, the value is calculated according to a *heuristic*.\n",
    "\n",
    "For reasons of efficiency, the function `evaluate` is *memoized* using the global variable `gCache`.   This work in the same way as described in the notebook `Alpha-Beta-Pruning-Memoization.ipynb`."
   ]
  },
  {
   "cell_type": "code",
   "execution_count": null,
   "metadata": {},
   "outputs": [],
   "source": [
    "def evaluate(State, limit, f, alpha=-1, beta=1):\n",
    "    global gCache\n",
    "    if (State, limit) in gCache:\n",
    "        flag, v = gCache[(State, limit)]    \n",
    "        if flag == '=':\n",
    "            return v\n",
    "        if flag == '≤':\n",
    "            if v <= alpha:\n",
    "                return v\n",
    "            elif alpha < v < beta:\n",
    "                w = f(State, limit, alpha, v)\n",
    "                store_cache(State, limit, alpha, v, w)\n",
    "                return w\n",
    "            else: # beta <= v:\n",
    "                w = f(State, limit, alpha, beta)\n",
    "                store_cache(State, limit, alpha, beta, w)\n",
    "                return w\n",
    "        if flag == '≥':\n",
    "            if beta <= v:\n",
    "                return v\n",
    "            elif alpha < v < beta:\n",
    "                w = f(State, limit, v, beta)\n",
    "                store_cache(State, limit, v, beta, w)\n",
    "                return w\n",
    "            else: # v <= alpha\n",
    "                w = f(State, limit, alpha, beta)\n",
    "                store_cache(State, limit, alpha, beta, w)\n",
    "                return w\n",
    "    else:\n",
    "        v = f(State, limit, alpha, beta)\n",
    "        store_cache(State, limit, alpha, beta, v)\n",
    "        return v"
   ]
  },
  {
   "cell_type": "markdown",
   "metadata": {},
   "source": [
    "The function `store_cache` is called with five arguments:\n",
    "* `State` is a state of the game,\n",
    "* `limit` is the search depth,\n",
    "* `alpha` is a number,\n",
    "* `beta`  is a number, and\n",
    "* `value` is a number such that:\n",
    "  $$\\texttt{evaluate(State, limit, f, alpha, beta)} = \\texttt{value}$$\n",
    "  \n",
    "The function stores the `value` in the dictionary `Cache` under the key `State`.\n",
    "It also stores an indicator that is either `'≤'`, `'='`, or `'≥'`.  The value that is stored \n",
    "satisfies the following conditions:\n",
    "* If `Cache[State, limit] = ('≤', value)`, then `evaluate(State, limit) ≤ value`. \n",
    "* If `Cache[State, limit] = ('=', value)`, then `evaluate(State, limit) = value`. \n",
    "* If `Cache[State, limit] = ('≥', value)`, then `evaluate(State, limit) ≥ value`. "
   ]
  },
  {
   "cell_type": "code",
   "execution_count": null,
   "metadata": {},
   "outputs": [],
   "source": [
    "def store_cache(State, limit, alpha, beta, value):\n",
    "    global gCache\n",
    "    if value <= alpha:\n",
    "        gCache[(State, limit)] = ('≤', value)\n",
    "    elif value < beta:\n",
    "        gCache[(State, limit)] = ('=', value)\n",
    "    else: # value >= beta\n",
    "        gCache[(State, limit)] = ('≥', value)"
   ]
  },
  {
   "cell_type": "markdown",
   "metadata": {},
   "source": [
    "The function `value_cache` receives a `State` and a `limit` as parameters.  If a *value* for `State` has been computed to the given evaluation depth, this value is returned. Otherwise, `0` is returned."
   ]
  },
  {
   "cell_type": "code",
   "execution_count": null,
   "metadata": {},
   "outputs": [],
   "source": [
    "def value_cache(State, limit):\n",
    "    flag, value = gCache.get((State, limit), ('=', 0))\n",
    "    return value"
   ]
  },
  {
   "cell_type": "markdown",
   "metadata": {},
   "source": [
    "The module [`heapq`](https://docs.python.org/3/library/heapq.html) implements [heaps](https://en.wikipedia.org/wiki/Heap_(data_structure)).  The implementation of `maxValue` and `minValue` use heaps as *priority queues* in order to sort the moves.  This improves the performance of *alpha-beta pruning*."
   ]
  },
  {
   "cell_type": "code",
   "execution_count": null,
   "metadata": {},
   "outputs": [],
   "source": [
    "import heapq"
   ]
  },
  {
   "cell_type": "markdown",
   "metadata": {},
   "source": [
    "The function `maxValue` satisfies the following specification:\n",
    "- $\\alpha \\leq \\texttt{value}(s) \\leq \\beta \\;\\rightarrow\\;\\texttt{maxValue}(s, l, \\alpha, \\beta) = \\texttt{value}(s)$\n",
    "- $\\texttt{value}(s) < \\alpha \\;\\rightarrow\\; \\texttt{maxValue}(s, l, \\alpha, \\beta) \\leq \\alpha$\n",
    "- $\\beta < \\texttt{value}(s) \\;\\rightarrow\\; \\beta \\leq \\texttt{maxValue}(s, \\alpha, \\beta)$\n",
    "\n",
    "It assumes that `gPlayers[0]` is the maximizing player.  This function implements *alpha-beta pruning*.  After searching up to a depth of `limit`, the value is approximated using the function `heuristic`. "
   ]
  },
  {
   "cell_type": "code",
   "execution_count": null,
   "metadata": {},
   "outputs": [],
   "source": [
    "def maxValue(State, limit, alpha=-1, beta=1):\n",
    "    if finished(State):\n",
    "        return utility(State)\n",
    "    if limit == 0:\n",
    "        return heuristic(State)\n",
    "    value      = alpha\n",
    "    NextStates = next_states(State, gPlayers[0])\n",
    "    if len(NextStates) == 1:  # singular value extension\n",
    "        return evaluate(NextStates[0], limit, minValue, value, beta)\n",
    "    Moves      = []  # empty priority queue\n",
    "    for ns in NextStates:\n",
    "        # heaps are sorted ascendingly, hence the minus\n",
    "        heapq.heappush(Moves, (-value_cache(ns, limit-1), ns))\n",
    "    while Moves != []:\n",
    "        _, ns = heapq.heappop(Moves)\n",
    "        value = max(value, evaluate(ns, limit-1, minValue, value, beta))\n",
    "        if value >= beta:\n",
    "            return value\n",
    "    return value"
   ]
  },
  {
   "cell_type": "markdown",
   "metadata": {},
   "source": [
    "The function `minValue` satisfies the following specification:\n",
    "- $\\alpha \\leq \\texttt{value}(s) \\leq \\beta \\;\\rightarrow\\;\\texttt{minValue}(s, l, \\alpha, \\beta) = \\texttt{value}(s)$\n",
    "- $\\texttt{value}(s) < \\alpha \\;\\rightarrow\\; \\texttt{minValue}(s, l, \\alpha, \\beta) \\leq \\alpha$\n",
    "- $\\beta < \\texttt{value}(s) \\;\\rightarrow\\; \\beta \\leq \\texttt{minValue}(s, \\alpha, \\beta)$\n",
    "\n",
    "It assumes that `gPlayers[1]` is the minimizing player.  This function implements *alpha-beta pruning*.  After searching up to a depth of `limit`, the value is approximated using the function `heuristic`. "
   ]
  },
  {
   "cell_type": "code",
   "execution_count": null,
   "metadata": {},
   "outputs": [],
   "source": [
    "def minValue(State, limit, alpha=-1, beta=1):\n",
    "    if finished(State):\n",
    "        return utility(State)\n",
    "    if limit == 0:\n",
    "        return heuristic(State)\n",
    "    value      = beta\n",
    "    NextStates = next_states(State, gPlayers[1])\n",
    "    if len(NextStates) == 1:\n",
    "        return evaluate(NextStates[0], limit, maxValue, alpha, value)\n",
    "    Moves      = []  # empty priority queue\n",
    "    for ns in NextStates:\n",
    "        heapq.heappush(Moves, (value_cache(ns, limit-1), ns))\n",
    "    while Moves != []:\n",
    "        _, ns = heapq.heappop(Moves)\n",
    "        value = min(value, evaluate(ns, limit-1, maxValue, alpha, value))\n",
    "        if value <= alpha:\n",
    "            return value\n",
    "    return value"
   ]
  },
  {
   "cell_type": "code",
   "execution_count": null,
   "metadata": {},
   "outputs": [],
   "source": [
    "%%capture\n",
    "%run Connect-Four.ipynb"
   ]
  },
  {
   "cell_type": "markdown",
   "metadata": {},
   "source": [
    "In the state shown below, `Red` can force a win by pushing his stones in the 6th row.  Due to this fact, *alpha-beta pruning is able to prune large parts of the search path and hence the evaluation is fast."
   ]
  },
  {
   "cell_type": "code",
   "execution_count": null,
   "metadata": {},
   "outputs": [],
   "source": [
    "canvas = create_canvas()\n",
    "draw(gTestState, canvas, '?')"
   ]
  },
  {
   "cell_type": "code",
   "execution_count": null,
   "metadata": {},
   "outputs": [],
   "source": [
    "gCache = {}"
   ]
  },
  {
   "cell_type": "code",
   "execution_count": null,
   "metadata": {
    "scrolled": false
   },
   "outputs": [],
   "source": [
    "%%time\n",
    "value, limit = pd_evaluate(gTestState, 5, maxValue)\n",
    "value"
   ]
  },
  {
   "cell_type": "code",
   "execution_count": null,
   "metadata": {},
   "outputs": [],
   "source": [
    "len(gCache)"
   ]
  },
  {
   "cell_type": "code",
   "execution_count": null,
   "metadata": {},
   "outputs": [],
   "source": [
    "gCache = {}"
   ]
  },
  {
   "cell_type": "code",
   "execution_count": null,
   "metadata": {},
   "outputs": [],
   "source": [
    "%%time\n",
    "value, limit = pd_evaluate(gStart, 5, maxValue)\n",
    "value"
   ]
  },
  {
   "cell_type": "code",
   "execution_count": null,
   "metadata": {},
   "outputs": [],
   "source": [
    "len(gCache)"
   ]
  },
  {
   "cell_type": "markdown",
   "metadata": {},
   "source": [
    "In order to evaluate the effect of *progressive deepening*, we reset the cache and can then evaluate the test state without progressive deepening."
   ]
  },
  {
   "cell_type": "code",
   "execution_count": null,
   "metadata": {},
   "outputs": [],
   "source": [
    "gCache = {}"
   ]
  },
  {
   "cell_type": "code",
   "execution_count": null,
   "metadata": {},
   "outputs": [],
   "source": [
    "%%time\n",
    "value = evaluate(gTestState, 8, maxValue)\n",
    "value"
   ]
  },
  {
   "cell_type": "code",
   "execution_count": null,
   "metadata": {},
   "outputs": [],
   "source": [
    "len(gCache)"
   ]
  },
  {
   "cell_type": "markdown",
   "metadata": {},
   "source": [
    "## Playing the Game"
   ]
  },
  {
   "cell_type": "markdown",
   "metadata": {},
   "source": [
    "The function `best_move` takes two arguments:\n",
    "- `State` is the current state of the game,\n",
    "- `limit` is the depth limit of the recursion.\n",
    "\n",
    "The function `best_move` returns a pair of the form $(v, s)$ where $s$ is a state and $v$ is the value of this state.  The state $s$ is a state that is reached from `State` if the player makes one of her optimal moves.  In order to have some variation in the game, the function randomly chooses any of the optimal moves."
   ]
  },
  {
   "cell_type": "code",
   "execution_count": null,
   "metadata": {},
   "outputs": [],
   "source": [
    "def best_move(State, time_limit):\n",
    "    NextStates = next_states(State, gPlayers[0])\n",
    "    bestValue, limit = pd_evaluate(State, time_limit, maxValue)\n",
    "    BestMoves  = [s for s in NextStates \n",
    "                    if evaluate(s, limit-1, minValue) == bestValue\n",
    "                 ]\n",
    "    BestState  = random.choice(BestMoves)\n",
    "    return bestValue, BestState"
   ]
  },
  {
   "cell_type": "markdown",
   "metadata": {},
   "source": [
    "The next line is needed because we need the function `IPython.display.clear_output` to clear the output in a cell."
   ]
  },
  {
   "cell_type": "code",
   "execution_count": null,
   "metadata": {},
   "outputs": [],
   "source": [
    "import IPython.display "
   ]
  },
  {
   "cell_type": "markdown",
   "metadata": {},
   "source": [
    "The function `play_game` plays on the given `canvas`.  The game played is specified indirectly by specifying the following:\n",
    "- `Start` is a global variable defining the start state of the game.\n",
    "- `next_states` is a function such that $\\texttt{next_states}(s, p)$ computes the set of all possible states that can be reached from state $s$ if player $p$ is next to move.\n",
    "- `finished` is a function such that $\\texttt{finished}(s)$ is true for a state $s$ if the game is over in state $s$.\n",
    "- `utility` is a function such that $\\texttt{utility}(s, p)$ returns either `-1`, `0`, or `1` in the *terminal state* $s$.  We have that\n",
    "  - $\\texttt{utility}(s, p)= -1$ iff the game is lost for player $p$ in state $s$, \n",
    "  - $\\texttt{utility}(s, p)=  0$ iff the game is drawn, and \n",
    "  - $\\texttt{utility}(s, p)=  1$ iff the game is won for player $p$ in state $s$."
   ]
  },
  {
   "cell_type": "code",
   "execution_count": null,
   "metadata": {},
   "outputs": [],
   "source": [
    "def play_game(canvas, time_limit):\n",
    "    global gCache, gMoveCounter\n",
    "    State   = gStart\n",
    "    while (True):\n",
    "        gCache = {}\n",
    "        firstPlayer = gPlayers[0]\n",
    "        val, State  = best_move(State, time_limit)\n",
    "        draw(State, canvas, f'value = {round(val, 2)}.')\n",
    "        if finished(State):\n",
    "            final_msg(State)\n",
    "            break\n",
    "        IPython.display.clear_output(wait=True)\n",
    "        State = get_move(State)\n",
    "        draw(State, canvas, '')\n",
    "        if finished(State):\n",
    "            IPython.display.clear_output(wait=True)\n",
    "            final_msg(State)\n",
    "            break"
   ]
  },
  {
   "cell_type": "code",
   "execution_count": null,
   "metadata": {},
   "outputs": [],
   "source": [
    "canvas = create_canvas()\n",
    "draw(gStart, canvas, f'Current value of game for \"X\": {round(value, 2)}')"
   ]
  },
  {
   "cell_type": "code",
   "execution_count": null,
   "metadata": {},
   "outputs": [],
   "source": [
    "play_game(canvas, 2)"
   ]
  },
  {
   "cell_type": "code",
   "execution_count": null,
   "metadata": {},
   "outputs": [],
   "source": [
    "len(gCache)"
   ]
  },
  {
   "cell_type": "code",
   "execution_count": null,
   "metadata": {},
   "outputs": [],
   "source": []
  }
 ],
 "metadata": {
  "kernelspec": {
   "display_name": "Python 3",
   "language": "python",
   "name": "python3"
  },
  "language_info": {
   "codemirror_mode": {
    "name": "ipython",
    "version": 3
   },
   "file_extension": ".py",
   "mimetype": "text/x-python",
   "name": "python",
   "nbconvert_exporter": "python",
   "pygments_lexer": "ipython3",
   "version": "3.9.5"
  },
  "toc": {
   "base_numbering": 1,
   "nav_menu": {},
   "number_sections": true,
   "sideBar": true,
   "skip_h1_title": false,
   "title_cell": "Table of Contents",
   "title_sidebar": "Contents",
   "toc_cell": false,
   "toc_position": {},
   "toc_section_display": true,
   "toc_window_display": false
  },
  "varInspector": {
   "cols": {
    "lenName": 16,
    "lenType": 16,
    "lenVar": 40
   },
   "kernels_config": {
    "python": {
     "delete_cmd_postfix": "",
     "delete_cmd_prefix": "del ",
     "library": "var_list.py",
     "varRefreshCmd": "print(var_dic_list())"
    },
    "r": {
     "delete_cmd_postfix": ") ",
     "delete_cmd_prefix": "rm(",
     "library": "var_list.r",
     "varRefreshCmd": "cat(var_dic_list()) "
    }
   },
   "types_to_exclude": [
    "module",
    "function",
    "builtin_function_or_method",
    "instance",
    "_Feature"
   ],
   "window_display": false
  }
 },
 "nbformat": 4,
 "nbformat_minor": 2
}
