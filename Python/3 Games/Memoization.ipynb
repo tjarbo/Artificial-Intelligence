{
 "cells": [
  {
   "cell_type": "code",
   "execution_count": null,
   "metadata": {},
   "outputs": [],
   "source": [
    "from IPython.core.display import HTML\n",
    "with open('../style.css', 'r') as f:\n",
    "    css = f.read()\n",
    "HTML(css)"
   ]
  },
  {
   "cell_type": "markdown",
   "metadata": {},
   "source": [
    "# Memoization\n",
    "\n",
    "This notebook discusses the technique of [https://en.wikipedia.org/wiki/Memoization](memoization) via the Fibonacci numbers.\n",
    "The [Fibonacci numbers](https://en.wikipedia.org/wiki/Fibonacci_number) $F_n$ are defined inductively for all $n\\in\\mathbb{N}$:\n",
    "- $F_0 := 0$,\n",
    "- $F_1 := 1$, and\n",
    "- $F_{n+2} := F_{n+1} + F_n$ for all $n \\in \\mathbb{N}$."
   ]
  },
  {
   "cell_type": "markdown",
   "metadata": {},
   "source": [
    "The function `fib` takes a natural number $n$ as argument. The expression $\\texttt{fib}(n)$ computes the $n$-th *Fibonacci number* $F_n$ in a naive way."
   ]
  },
  {
   "cell_type": "code",
   "execution_count": null,
   "metadata": {},
   "outputs": [],
   "source": [
    "def fib(n):\n",
    "    #print(f'computing f({n})')\n",
    "    if n < 2:\n",
    "        return n\n",
    "    return fib(n-1) + fib(n-2)"
   ]
  },
  {
   "cell_type": "markdown",
   "metadata": {},
   "source": [
    "The problem with this definition of the function `fib` is that in order to compute e.g. $F_5$ we compute both $F_4$ and $F_3$.  However, in order to compute $F_4$, we compute $F_3$ and $F_2$.  Hence $F_3$ is computed twice.  Even worse, $F_2$ is computed twice for the two computations of $F_3$ and then it is also computed when computing $F_4$.  Hence, it is computed a total of $3$ times.  In general, it can be shown that when the above definition of `fib` is used to compute $F_n$, the number of times that $F_2$ needs to be computed grows as $\\mathcal{O}\\bigl(\\varphi^n\\bigr)$ where $\\varphi = \\frac{1}{2}\\cdot\\bigl(1 + \\sqrt{5}\\bigr)$."
   ]
  },
  {
   "cell_type": "code",
   "execution_count": null,
   "metadata": {},
   "outputs": [],
   "source": [
    "import time"
   ]
  },
  {
   "cell_type": "code",
   "execution_count": null,
   "metadata": {
    "scrolled": false
   },
   "outputs": [],
   "source": [
    "N  = 30\n",
    "Ns = []\n",
    "Ts = []\n",
    "for n in range(1, N):\n",
    "    start = time.time()\n",
    "    Fn    = fib(n)\n",
    "    #print(Fn)\n",
    "    stop  = time.time()\n",
    "    #print(f'elapsed time: {\"{:.2e}\".format(stop-start)}, fib({n}) = {Fn}')\n",
    "    Ns.append(n)\n",
    "    Ts.append(stop - start)"
   ]
  },
  {
   "cell_type": "markdown",
   "metadata": {},
   "source": [
    "Let us plot the times."
   ]
  },
  {
   "cell_type": "code",
   "execution_count": null,
   "metadata": {},
   "outputs": [],
   "source": [
    "import matplotlib.pyplot as plt "
   ]
  },
  {
   "cell_type": "code",
   "execution_count": null,
   "metadata": {},
   "outputs": [],
   "source": [
    "plt.plot(Ns, Ts)\n",
    "plt.xlabel('n')\n",
    "plt.ylabel('time')\n",
    "plt.title('Time to compute fib(n).')\n",
    "plt.show()"
   ]
  },
  {
   "cell_type": "markdown",
   "metadata": {},
   "source": [
    "In order to verify that the running times are increasing exponentially, we plot the logarithms of the times."
   ]
  },
  {
   "cell_type": "code",
   "execution_count": null,
   "metadata": {},
   "outputs": [],
   "source": [
    "import math"
   ]
  },
  {
   "cell_type": "code",
   "execution_count": null,
   "metadata": {},
   "outputs": [],
   "source": [
    "LogTs = [math.log(t) for t in Ts]\n",
    "plt.plot(Ns, LogTs)\n",
    "plt.xlabel('n')\n",
    "plt.ylabel('log(time)')\n",
    "plt.title('Time to compute fib(n), logarithmic plot.')\n",
    "plt.show()"
   ]
  },
  {
   "cell_type": "code",
   "execution_count": null,
   "metadata": {},
   "outputs": [],
   "source": [
    "for n in range(1, N-1):\n",
    "    print(Ts[n]/Ts[n-1])"
   ]
  },
  {
   "cell_type": "markdown",
   "metadata": {},
   "source": [
    "Compare these ratios with the [golden ratio](https://en.wikipedia.org/wiki/Golden_ratio) \n",
    "$\\phi = \\frac{1}{2}\\cdot\\bigl(1 + \\sqrt{5}\\bigr)$:  "
   ]
  },
  {
   "cell_type": "code",
   "execution_count": null,
   "metadata": {},
   "outputs": [],
   "source": [
    "print((1+math.sqrt(5)) / 2)"
   ]
  },
  {
   "cell_type": "markdown",
   "metadata": {},
   "source": [
    "The function `memoize` takes a function `f` as its argument.  It returns a <em style=\"color:blue\">memoized</em> version of the function `f`.  This memoized version will store all results in a cache and look them up instead of recomputing them.  \n",
    "\n",
    "Note that the function object `f_memoized` that is returned by the function `memoize` is a so called \n",
    "[closure](https://en.wikipedia.org/wiki/Closure_(computer_programming)).  The reason is that the variable\n",
    "`Cache`, which is created in the scope where `f_memoized` is defined, is stored inside the function object\n",
    "`f_memoized`."
   ]
  },
  {
   "cell_type": "code",
   "execution_count": null,
   "metadata": {},
   "outputs": [],
   "source": [
    "def memoize(f):\n",
    "    Cache = {}\n",
    "    \n",
    "    def f_memoized(*args):\n",
    "        if (f, args) in Cache:\n",
    "            return Cache[(f, args)]\n",
    "        result = f(*args)\n",
    "        Cache[(f, args)] = result\n",
    "        return result\n",
    "    \n",
    "    return f_memoized"
   ]
  },
  {
   "cell_type": "code",
   "execution_count": null,
   "metadata": {},
   "outputs": [],
   "source": [
    "fib = memoize(fib)"
   ]
  },
  {
   "cell_type": "markdown",
   "metadata": {},
   "source": [
    "Let's plot the times of the *memoized* version of `fib`.  This time, there should be no exponential increase."
   ]
  },
  {
   "cell_type": "code",
   "execution_count": null,
   "metadata": {},
   "outputs": [],
   "source": [
    "N  = 35\n",
    "Ns = []\n",
    "Ts = []\n",
    "for n in range(1, N):\n",
    "    start = time.time()\n",
    "    Fn    = fib(n)\n",
    "    stop  = time.time()\n",
    "    Ns.append(n)\n",
    "    Ts.append(stop - start)\n",
    "    \n",
    "plt.plot(Ns, Ts)\n",
    "plt.xlabel('n')\n",
    "plt.ylabel('time')\n",
    "plt.title('Time to compute fib(n).')\n",
    "plt.show()"
   ]
  },
  {
   "cell_type": "markdown",
   "metadata": {},
   "source": [
    "We can achieve the same effect using a *decorator*:"
   ]
  },
  {
   "cell_type": "code",
   "execution_count": null,
   "metadata": {},
   "outputs": [],
   "source": [
    "@memoize\n",
    "def fib2(n):\n",
    "    if n < 2:\n",
    "        return n\n",
    "    return fib2(n-2) + fib2(n-1)"
   ]
  },
  {
   "cell_type": "code",
   "execution_count": null,
   "metadata": {},
   "outputs": [],
   "source": [
    "N  = 35\n",
    "Ns = []\n",
    "Ts = []\n",
    "for n in range(1, N):\n",
    "    start = time.time()\n",
    "    Fn    = fib2(n)\n",
    "    stop  = time.time()\n",
    "    Ns.append(n)\n",
    "    Ts.append(stop - start)\n",
    "    \n",
    "plt.plot(Ns, Ts)\n",
    "plt.xlabel('n')\n",
    "plt.ylabel('time')\n",
    "plt.title('Time to compute fib(n).')\n",
    "plt.show()"
   ]
  },
  {
   "cell_type": "markdown",
   "metadata": {},
   "source": [
    "Since `fib2` is a *closure*, the dictionary `Cache` is stored inside `fib2`.  We can even inspect this dictionary manually."
   ]
  },
  {
   "cell_type": "code",
   "execution_count": null,
   "metadata": {},
   "outputs": [],
   "source": [
    "fib2.__closure__[0].cell_contents"
   ]
  },
  {
   "cell_type": "code",
   "execution_count": null,
   "metadata": {},
   "outputs": [],
   "source": []
  }
 ],
 "metadata": {
  "kernelspec": {
   "display_name": "Python 3",
   "language": "python",
   "name": "python3"
  },
  "language_info": {
   "codemirror_mode": {
    "name": "ipython",
    "version": 3
   },
   "file_extension": ".py",
   "mimetype": "text/x-python",
   "name": "python",
   "nbconvert_exporter": "python",
   "pygments_lexer": "ipython3",
   "version": "3.9.5"
  },
  "toc": {
   "base_numbering": 1,
   "nav_menu": {},
   "number_sections": true,
   "sideBar": true,
   "skip_h1_title": false,
   "title_cell": "Table of Contents",
   "title_sidebar": "Contents",
   "toc_cell": false,
   "toc_position": {},
   "toc_section_display": true,
   "toc_window_display": false
  },
  "varInspector": {
   "cols": {
    "lenName": 16,
    "lenType": 16,
    "lenVar": 40
   },
   "kernels_config": {
    "python": {
     "delete_cmd_postfix": "",
     "delete_cmd_prefix": "del ",
     "library": "var_list.py",
     "varRefreshCmd": "print(var_dic_list())"
    },
    "r": {
     "delete_cmd_postfix": ") ",
     "delete_cmd_prefix": "rm(",
     "library": "var_list.r",
     "varRefreshCmd": "cat(var_dic_list()) "
    }
   },
   "types_to_exclude": [
    "module",
    "function",
    "builtin_function_or_method",
    "instance",
    "_Feature"
   ],
   "window_display": false
  }
 },
 "nbformat": 4,
 "nbformat_minor": 2
}
