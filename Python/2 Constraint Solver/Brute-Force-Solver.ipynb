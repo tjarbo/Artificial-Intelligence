{
 "cells": [
  {
   "cell_type": "code",
   "execution_count": null,
   "metadata": {},
   "outputs": [],
   "source": [
    "from IPython.core.display import HTML\n",
    "with open('../style.css') as f:\n",
    "    css = f.read()\n",
    "HTML(css)"
   ]
  },
  {
   "cell_type": "markdown",
   "metadata": {},
   "source": [
    "# Brute Force CSP Solver"
   ]
  },
  {
   "cell_type": "markdown",
   "metadata": {},
   "source": [
    "## Utility Functions"
   ]
  },
  {
   "cell_type": "markdown",
   "metadata": {},
   "source": [
    "The function `arb(S)` takes a set `S` as input and returns an arbitrary element from \n",
    "this set.  The set `S` is not changed."
   ]
  },
  {
   "cell_type": "code",
   "execution_count": null,
   "metadata": {},
   "outputs": [],
   "source": [
    "def arb(S):\n",
    "    for x in S:\n",
    "        return x"
   ]
  },
  {
   "cell_type": "markdown",
   "metadata": {},
   "source": [
    "The procedure `solve(P)` takes a *constraint satisfaction problem* \n",
    "`P` as input.  Here `P` is a triple of the form \n",
    "$$ \\mathcal{P} = \\langle \\mathtt{Vars}, \\mathtt{Values}, \\mathtt{Constraints} \\rangle $$\n",
    "where \n",
    "- $\\mathtt{Vars}$ is a set of strings which serve as *variables*,\n",
    "- $\\mathtt{Values}$ is a set of *values* that can be assigned \n",
    "  to the variables in $\\mathtt{Vars}$.\n",
    "- $\\mathtt{Constraints}$ is a set of formulas that are represented as *Boolean expressions*.  \n",
    "  Each of these formulas is  called a *constraint* of $\\mathcal{P}$.\n",
    "  \n",
    "The sole purpose of the function `solve` is to call the function `brute_force_search`, which needs an additional argument.  This argument is a *partial variable assignment* that is initially empty.  Every recursive iteration of the function `brute_force_search` assigns one additional variable."
   ]
  },
  {
   "cell_type": "code",
   "execution_count": null,
   "metadata": {},
   "outputs": [],
   "source": [
    "gCounter = 0"
   ]
  },
  {
   "cell_type": "code",
   "execution_count": null,
   "metadata": {},
   "outputs": [],
   "source": [
    "def solve(P):\n",
    "    return brute_force_search({}, P)"
   ]
  },
  {
   "cell_type": "markdown",
   "metadata": {},
   "source": [
    "The function `brute_force_search` takes two arguments:\n",
    "- `Assignment` is a <em style=\"color:blue\">partial variable assignment</em> that is\n",
    "   represented as a dictionary.  Initially, this assignment will be the  empty\n",
    "   dictionary.  Every recursive call of `brute_force_search` adds the assignment of one \n",
    "   variable to  the given assignment. \n",
    "- `csp` is a constraint satisfaction problem.\n",
    "\n",
    "The implementation of `brute_force_search` works as follows:\n",
    "- If all variables have been assigned a value, the dictionary `Assignment` will have the same number of entries as the set `Variables` has elements.  Hence, in that case `Assignment` is a complete assignment of all variables and we have to test whether    all constraints are satisfied.  This is done using the auxiliary procedure `check_all_constraints`.\n",
    "- Otherwise, we pick a variable that has not been assigned and recursively try to assign all possible \n",
    "  values for this variable."
   ]
  },
  {
   "cell_type": "code",
   "execution_count": null,
   "metadata": {},
   "outputs": [],
   "source": [
    "def brute_force_search(Assignment, csp):\n",
    "    Variables, Values, Constraints = csp\n",
    "    if len(Assignment) == len(Variables): # all variables have been assigned\n",
    "        global gCounter\n",
    "        gCounter += 1\n",
    "        if check_all_constraints(Assignment, Constraints):\n",
    "            return Assignment             # Assignment is a solution\n",
    "        else:\n",
    "            return None                   # Assignment does not solve the problem\n",
    "    var = arb(Variables - Assignment.keys())\n",
    "    for value in Values:\n",
    "        NewAss      = Assignment.copy()\n",
    "        NewAss[var] = value\n",
    "        result      = brute_force_search(NewAss, csp)\n",
    "        if result != None:\n",
    "            return result\n",
    "    return None"
   ]
  },
  {
   "cell_type": "markdown",
   "metadata": {},
   "source": [
    "The function `check_all_constraints` takes two arguments:\n",
    "- `Assignment` is a variable assignment that is represented as a dictionary.\n",
    "- `Constraints` is a set of Boolean Python expressions.\n",
    "The function returns `True` iff all these expressions evaluate as `True` using\n",
    "the given `Assignment`.\n",
    "\n",
    "Below, we have to create a copy of `Assignment` since the function `eval` modifies the assignment given to it."
   ]
  },
  {
   "cell_type": "code",
   "execution_count": null,
   "metadata": {},
   "outputs": [],
   "source": [
    "def check_all_constraints(Assignment, Constraints):\n",
    "    A = Assignment.copy()\n",
    "    return all(eval(f, A) for f in Constraints)"
   ]
  },
  {
   "cell_type": "markdown",
   "metadata": {},
   "source": [
    "## Map Coloring"
   ]
  },
  {
   "cell_type": "code",
   "execution_count": null,
   "metadata": {},
   "outputs": [],
   "source": [
    "%%capture\n",
    "%run Map-Coloring.ipynb"
   ]
  },
  {
   "cell_type": "code",
   "execution_count": null,
   "metadata": {},
   "outputs": [],
   "source": [
    "P = map_coloring_csp()\n",
    "P"
   ]
  },
  {
   "cell_type": "code",
   "execution_count": null,
   "metadata": {},
   "outputs": [],
   "source": [
    "solve(P)"
   ]
  },
  {
   "cell_type": "code",
   "execution_count": null,
   "metadata": {},
   "outputs": [],
   "source": [
    "gCounter"
   ]
  },
  {
   "cell_type": "markdown",
   "metadata": {},
   "source": [
    "## N Queens Problem "
   ]
  },
  {
   "cell_type": "markdown",
   "metadata": {},
   "source": [
    "The notebook `N-Queens-Problem-CSP.ipynb` provides the function\n",
    "`create_csp(n)` that returns a CSP encoding the \n",
    "*n queens puzzle*."
   ]
  },
  {
   "cell_type": "code",
   "execution_count": null,
   "metadata": {},
   "outputs": [],
   "source": [
    "%%capture\n",
    "%run N-Queens-Problem-CSP.ipynb"
   ]
  },
  {
   "cell_type": "code",
   "execution_count": null,
   "metadata": {},
   "outputs": [],
   "source": [
    "P = create_csp(8)\n",
    "P"
   ]
  },
  {
   "cell_type": "markdown",
   "metadata": {},
   "source": [
    "Brute force search takes about 30 seconds on my desktop to solve the eight queens puzzle."
   ]
  },
  {
   "cell_type": "code",
   "execution_count": null,
   "metadata": {},
   "outputs": [],
   "source": [
    "%%time\n",
    "gCounter = 0\n",
    "Solution = solve(P)\n",
    "print(f'Solution = {Solution}')\n",
    "gCounter"
   ]
  },
  {
   "cell_type": "code",
   "execution_count": null,
   "metadata": {},
   "outputs": [],
   "source": [
    "8 ** 8"
   ]
  },
  {
   "cell_type": "code",
   "execution_count": null,
   "metadata": {},
   "outputs": [],
   "source": [
    "show_solution(Solution)"
   ]
  },
  {
   "cell_type": "markdown",
   "metadata": {},
   "source": [
    "In the $8$ queens problem we have to test $8^8$ different assignments.  The $7$ queens problem only has $7^7$ assignments."
   ]
  },
  {
   "cell_type": "code",
   "execution_count": null,
   "metadata": {},
   "outputs": [],
   "source": [
    "8**8 / 7**7"
   ]
  },
  {
   "cell_type": "markdown",
   "metadata": {},
   "source": [
    "Therefore, the time needed to solve the $7$ queens problem should be smaller by a factor of $\\displaystyle\\frac{8^8}{7^7}$:"
   ]
  },
  {
   "cell_type": "code",
   "execution_count": null,
   "metadata": {},
   "outputs": [],
   "source": [
    "30 / (8**8 / 7**7)"
   ]
  },
  {
   "cell_type": "code",
   "execution_count": null,
   "metadata": {},
   "outputs": [],
   "source": [
    "P = create_csp(7)"
   ]
  },
  {
   "cell_type": "code",
   "execution_count": null,
   "metadata": {},
   "outputs": [],
   "source": [
    "%%time\n",
    "gCounter = 0\n",
    "Solution = solve(P)\n",
    "print(f'Solution = {Solution}')\n",
    "gCounter"
   ]
  },
  {
   "cell_type": "markdown",
   "metadata": {},
   "source": [
    "The ratio is not exact as *brute force search* does not check all $n^n$ different valuations but rather stops as soon as a solution is found."
   ]
  }
 ],
 "metadata": {
  "kernelspec": {
   "display_name": "Python 3 (ipykernel)",
   "language": "python",
   "name": "python3"
  },
  "language_info": {
   "codemirror_mode": {
    "name": "ipython",
    "version": 3
   },
   "file_extension": ".py",
   "mimetype": "text/x-python",
   "name": "python",
   "nbconvert_exporter": "python",
   "pygments_lexer": "ipython3",
   "version": "3.10.2"
  },
  "toc": {
   "base_numbering": 1,
   "nav_menu": {},
   "number_sections": true,
   "sideBar": true,
   "skip_h1_title": false,
   "title_cell": "Table of Contents",
   "title_sidebar": "Contents",
   "toc_cell": false,
   "toc_position": {},
   "toc_section_display": true,
   "toc_window_display": false
  },
  "varInspector": {
   "cols": {
    "lenName": 16,
    "lenType": 16,
    "lenVar": 40
   },
   "kernels_config": {
    "python": {
     "delete_cmd_postfix": "",
     "delete_cmd_prefix": "del ",
     "library": "var_list.py",
     "varRefreshCmd": "print(var_dic_list())"
    },
    "r": {
     "delete_cmd_postfix": ") ",
     "delete_cmd_prefix": "rm(",
     "library": "var_list.r",
     "varRefreshCmd": "cat(var_dic_list()) "
    }
   },
   "types_to_exclude": [
    "module",
    "function",
    "builtin_function_or_method",
    "instance",
    "_Feature"
   ],
   "window_display": false
  }
 },
 "nbformat": 4,
 "nbformat_minor": 2
}
