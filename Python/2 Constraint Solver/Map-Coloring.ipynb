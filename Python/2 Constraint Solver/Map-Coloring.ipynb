{
 "cells": [
  {
   "cell_type": "code",
   "execution_count": null,
   "metadata": {},
   "outputs": [],
   "source": [
    "from IPython.core.display import HTML\n",
    "with open('../style.css') as f:\n",
    "    css = f.read()\n",
    "HTML(css)"
   ]
  },
  {
   "cell_type": "markdown",
   "metadata": {},
   "source": [
    "# Map Coloring\n",
    "\n",
    "This short notebook shows how *map coloring* can be formulated as a *constraint satisfaction problem*.\n",
    "In map coloring, the goal is to color the states shown in a given map such that no two bordering states \n",
    "share the same color.  As an example, consider the map of Australia that is shown below.  Australia\n",
    "has seven different states:\n",
    "* Western Australia,\n",
    "* Northern Territory,\n",
    "* South Australia,\n",
    "* Queensland,\n",
    "* New South Wales,\n",
    "* Victoria, and\n",
    "* Tasmania.\n",
    "\n",
    "As Tasmania is an island that does not share a border with any of the other states, it can be colored with any given color.\n",
    "\n",
    "<img src=\"australia.png\" alt=\"map of australia\" width=\"600\">"
   ]
  },
  {
   "cell_type": "markdown",
   "metadata": {},
   "source": [
    "The function $\\texttt{map_coloring_csp}()$ returns a CSP that encodes the map coloring problem for Australia."
   ]
  },
  {
   "cell_type": "code",
   "execution_count": null,
   "metadata": {},
   "outputs": [],
   "source": [
    "def map_coloring_csp(): \n",
    "    Variables = [ 'WA', 'NSW', 'V', 'NT', 'SA', 'Q' ]\n",
    "    Values    = { 'red', 'blue', 'green' }\n",
    "    Constraints = { 'WA != NT', 'WA != SA', \n",
    "                    'NT != SA', 'NT != Q', \n",
    "                    'SA != Q',  'SA != NSW',  'SA != V',\n",
    "                    'Q != NSW', 'NSW != V'\n",
    "                  }\n",
    "    return Variables, Values, Constraints"
   ]
  },
  {
   "cell_type": "code",
   "execution_count": null,
   "metadata": {},
   "outputs": [],
   "source": [
    "csp = map_coloring_csp()\n",
    "csp"
   ]
  },
  {
   "cell_type": "markdown",
   "metadata": {},
   "source": [
    "As there are $3$ different values and $6$ different variables, there are $3^6 = 729$ different ways to assign values to the variables."
   ]
  },
  {
   "cell_type": "code",
   "execution_count": null,
   "metadata": {},
   "outputs": [],
   "source": [
    "print(3 ** 6)"
   ]
  },
  {
   "cell_type": "code",
   "execution_count": null,
   "metadata": {},
   "outputs": [],
   "source": []
  }
 ],
 "metadata": {
  "kernelspec": {
   "display_name": "Python 3",
   "language": "python",
   "name": "python3"
  },
  "language_info": {
   "codemirror_mode": {
    "name": "ipython",
    "version": 3
   },
   "file_extension": ".py",
   "mimetype": "text/x-python",
   "name": "python",
   "nbconvert_exporter": "python",
   "pygments_lexer": "ipython3",
   "version": "3.9.5"
  },
  "toc": {
   "base_numbering": 1,
   "nav_menu": {},
   "number_sections": true,
   "sideBar": true,
   "skip_h1_title": false,
   "title_cell": "Table of Contents",
   "title_sidebar": "Contents",
   "toc_cell": false,
   "toc_position": {},
   "toc_section_display": true,
   "toc_window_display": false
  },
  "varInspector": {
   "cols": {
    "lenName": 16,
    "lenType": 16,
    "lenVar": 40
   },
   "kernels_config": {
    "python": {
     "delete_cmd_postfix": "",
     "delete_cmd_prefix": "del ",
     "library": "var_list.py",
     "varRefreshCmd": "print(var_dic_list())"
    },
    "r": {
     "delete_cmd_postfix": ") ",
     "delete_cmd_prefix": "rm(",
     "library": "var_list.r",
     "varRefreshCmd": "cat(var_dic_list()) "
    }
   },
   "types_to_exclude": [
    "module",
    "function",
    "builtin_function_or_method",
    "instance",
    "_Feature"
   ],
   "window_display": false
  }
 },
 "nbformat": 4,
 "nbformat_minor": 2
}
