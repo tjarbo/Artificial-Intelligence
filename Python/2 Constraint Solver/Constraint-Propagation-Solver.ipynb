{
 "cells": [
  {
   "cell_type": "code",
   "execution_count": null,
   "metadata": {},
   "outputs": [],
   "source": [
    "from IPython.core.display import HTML\n",
    "with open('../style.css') as f:\n",
    "    css = f.read()\n",
    "HTML(css)"
   ]
  },
  {
   "cell_type": "markdown",
   "metadata": {},
   "source": [
    "If we want to have **reproducible results**, the environment variable `PYTHONHASHSEED` has to be set to a fixed value, for example to `0`.\n",
    "Below we check that this environment is set so that results are reproducible.\n",
    "In order to set this variable we have to use the following sequence of commands in the anaconda shell.  \n",
    "```\n",
    "conda activate ai\n",
    "conda env config vars set PYTHONHASHSEED=0\n",
    "conda activate ai\n",
    "```\n",
    "It is necessary to reactivate the environment `ai` for the setting to take effect."
   ]
  },
  {
   "cell_type": "code",
   "execution_count": null,
   "metadata": {},
   "outputs": [],
   "source": [
    "import os\n",
    "os.getenv('PYTHONHASHSEED')"
   ]
  },
  {
   "cell_type": "markdown",
   "metadata": {},
   "source": [
    "# A Backtracking Solver with Constraint Propagation"
   ]
  },
  {
   "cell_type": "markdown",
   "metadata": {},
   "source": [
    "## Utility Functions"
   ]
  },
  {
   "cell_type": "markdown",
   "metadata": {},
   "source": [
    "The module `extractVariables` implements the function $\\texttt{extractVars}(e)$ that takes a *Python* expression $e$ as its argument and returns the set of all variables and function names occurring in $e$."
   ]
  },
  {
   "cell_type": "code",
   "execution_count": null,
   "metadata": {},
   "outputs": [],
   "source": [
    "import extractVariables as ev"
   ]
  },
  {
   "cell_type": "markdown",
   "metadata": {},
   "source": [
    "The function `collect_variables(expr)` takes a string `expr` that can be interpreted as a Python expression as input and collects all variables occurring in `expr`.  It takes care to eliminate the function symbols from the names returned by `extract_variables`."
   ]
  },
  {
   "cell_type": "code",
   "execution_count": null,
   "metadata": {},
   "outputs": [],
   "source": [
    "def collect_variables(expr):\n",
    "    return frozenset(var for var in ev.extractVars(expr)\n",
    "                         if  var not in dir(__builtins__)\n",
    "                         if  var not in ['and', 'or', 'not']\n",
    "                    )"
   ]
  },
  {
   "cell_type": "markdown",
   "metadata": {},
   "source": [
    "The function `arb(S)` takes a set `S` as input and returns an arbitrary element from \n",
    "this set."
   ]
  },
  {
   "cell_type": "code",
   "execution_count": null,
   "metadata": {},
   "outputs": [],
   "source": [
    "def arb(S):\n",
    "    for x in S:\n",
    "        return x"
   ]
  },
  {
   "cell_type": "markdown",
   "metadata": {},
   "source": [
    "Backtracking is simulated by raising the `Backtrack` exception.  We define this new class of exceptions so that we can distinguish `Backtrack` exceptions from ordinary exceptions.  This is done by creating a new, empty class that is derived from the class `Exception`.  "
   ]
  },
  {
   "cell_type": "code",
   "execution_count": null,
   "metadata": {},
   "outputs": [],
   "source": [
    "class Backtrack(Exception):\n",
    "    pass"
   ]
  },
  {
   "cell_type": "markdown",
   "metadata": {},
   "source": [
    "Given a list of sets `L`, the function `union(L)` returns the set of all elements occurring in some set $S$ that is itself a member of the list `L`, i.e. we have\n",
    "$$ \\texttt{union}(L) = \\{ x \\mid \\exists S \\in L : x \\in L \\}. $$ "
   ]
  },
  {
   "cell_type": "code",
   "execution_count": null,
   "metadata": {},
   "outputs": [],
   "source": [
    "def union(L):\n",
    "    return { x for S in L\n",
    "               for x in S\n",
    "           }"
   ]
  },
  {
   "cell_type": "code",
   "execution_count": null,
   "metadata": {},
   "outputs": [],
   "source": [
    "union([ {1, 2}, {'a', 'b'}, {1, 'a'} ])"
   ]
  },
  {
   "cell_type": "markdown",
   "metadata": {},
   "source": [
    "## The Constraint Propagation Solver"
   ]
  },
  {
   "cell_type": "markdown",
   "metadata": {},
   "source": [
    "The procedure `solve(P, lcv=False)` takes two arguments:\n",
    "* `P` is a *constraint satisfaction problem*, i.e. `P` is a triple of the form \n",
    "   $$ \\mathtt{P} = \\langle \\mathtt{Variables}, \\mathtt{Values}, \\mathtt{Constraints} \\rangle $$\n",
    "   where \n",
    "   - `Variables` is a set of strings which serve as *variables*,\n",
    "   - `Values` is a set of *values* that can be assigned to the variables in the set `Variables`.\n",
    "   - `Constraints` is a set of *formulas* from first order logic.  \n",
    "     Each of these formulas is  called a *constraint* of `P`.\n",
    "     The formulas are represented as strings.\n",
    "* `lcv` is a Boolean flag.  If this flag is set to `True`, the *least constraining value* heuristic is used when choosing values. \n",
    "  Otherwise, the values are chosen arbitrarily.   \n",
    "\n",
    "Initially, the function `solve` checks that the set `Constraints` does not contain any variables that are not \n",
    "elements of the set `Variables`.  Furthermore, it checks that all variables in `Variables` do indeed occur \n",
    "in one of the constraints.  These two checks are useful to capture spelling mistakes.\n",
    "\n",
    "Then, the function `solve` converts the CSP `P` into an *augmented CSP* where every constraint $f$ is annotated with the variables occurring in $f$.  \n",
    "\n",
    "The most important data structure maintained by `solve` is the dictionary `ValuesPerVar`.  For every variable $x$ occurring in a constraint of `P`, the expression $\\texttt{ValuesPerVar}[x]$ is the set of values that can be used to instantiate the variable $x$.  Initially, \n",
    "$\\texttt{ValuesPerVar}[x]$ is set to `Values`, but as the search for a solution proceeds, the sets $\\texttt{ValuesPerVar}[x]$ are reduced by removing any values that cannot be part of a solution.\n",
    "This way, the consequences of binding one variable to a value are *propagated* to the other variables.\n",
    "\n",
    "Next, the function `solve` divides the constraints into two groups:\n",
    "- The *unary* constraints are those constraint that contain only a single variable.\n",
    "\n",
    "  The unary constraints can be solved immediately: \n",
    "  If $f$ is a unary constraint containing only the variable $x$, the set $\\texttt{ValuesPerVar}(x)$ \n",
    "  is reduced to the set of those values $v$ such that $\\texttt{eval}(f, \\{x\\mapsto v\\})$ is true.\n",
    "- The remaining constraints contain at least two different variables.\n",
    "\n",
    "After the unary constraints have been taken care of, `backtrack_search` is called to solve the remaining constraint satisfaction problem.  The function `backtrack_search` uses both *backtracking* and *constraint propagation* to solve the remaining constraints.\n",
    "Furthermore, the *most constrained variable* heuristic and, if `lvc` is set to `True`, the *least constraining value* heuristic are used."
   ]
  },
  {
   "cell_type": "code",
   "execution_count": null,
   "metadata": {},
   "outputs": [],
   "source": [
    "def solve(P, lcv=False):\n",
    "    Variables, Values, Constraints = P\n",
    "    VarsInConstrs  = union([ collect_variables(f) for f in Constraints ])\n",
    "    MisspelledVars = (VarsInConstrs - Variables) | (Variables - VarsInConstrs)\n",
    "    if len(MisspelledVars) > 0:\n",
    "        print('Did you misspell any of the following Variables?')\n",
    "        for v in MisspelledVars:\n",
    "            print(v)\n",
    "    Annotated    = { (f, collect_variables(f)) for f in Constraints }\n",
    "    ValuesPerVar = { v: Values for v in Variables }\n",
    "    UnaryConstrs = { (f, V) for f, V in Annotated if  len(V) == 1 }\n",
    "    OtherConstrs = { (f, V) for f, V in Annotated if  len(V) >= 2 }\n",
    "    try:\n",
    "        for f, V in UnaryConstrs:\n",
    "            var = arb(V)\n",
    "            ValuesPerVar[var] = solve_unary(f, var, ValuesPerVar[var])\n",
    "        return backtrack_search({}, ValuesPerVar, OtherConstrs, lcv)\n",
    "    except Backtrack:\n",
    "        return None"
   ]
  },
  {
   "cell_type": "markdown",
   "metadata": {},
   "source": [
    "The function `solve_unary` takes three arguments:\n",
    "* `f` is a unary constraint, i.e. a constraint that contains only one variable,\n",
    "* `x` is the variable occurring in `f`, and \n",
    "* `Values` is the the set of values that can be assigned to the variable `x`.  \n",
    "\n",
    "The function returns the subset of those values `v` from the set `Values` that can be substituted for `x` such that $\\texttt{eval}(f, \\{ x \\mapsto v \\})$ evaluates as `True`.  If the unary constraint `f` is unsolvable, then the given CSP is unsolvable and an exception is raised. "
   ]
  },
  {
   "cell_type": "code",
   "execution_count": null,
   "metadata": {},
   "outputs": [],
   "source": [
    "def solve_unary(f, x, Values):\n",
    "    Legal = { value for value in Values if eval(f, { x: value }) }\n",
    "    if len(Legal) == 0:\n",
    "        raise Backtrack()\n",
    "    return Legal"
   ]
  },
  {
   "cell_type": "markdown",
   "metadata": {},
   "source": [
    "The function `backtrack_search` takes four arguments:\n",
    "- `Assignment` is a partial variable assignment that is represented as a\n",
    "   dictionary.  Initially, this assignment will be the  empty dictionary.     \n",
    "   Every recursive call of `backtrack_search` adds the assignment of one \n",
    "   variable to  the given assignment. \n",
    "- `ValuesPerVar` is a dictionary.  For every variable `x`, `ValuesPerVar[x]` is the set of values \n",
    "   that still might be assigned to `x`.\n",
    "- `Constraints` is a set of pairs of the form `(F, V)` where `F` is a constraint and `V` is the \n",
    "   set of variables occurring in `V`.\n",
    "- `lcv` is a Boolean flag.  If this flag is set to true, the *least constraining value* heuristic is used.\n",
    "\n",
    "The function tries to solve the given CSP via backtracking.  Instead of picking the variables arbitrarily, it uses \n",
    "the *most constraint variable* heuristic and therefore instantiates those variables first, that have the least\n",
    "remaing values.  This way, a dead end in the search is discovered sooner."
   ]
  },
  {
   "cell_type": "code",
   "execution_count": null,
   "metadata": {},
   "outputs": [],
   "source": [
    "def backtrack_search(Assignment, ValuesPerVar, Constraints, lcv):\n",
    "    if len(Assignment) == len(ValuesPerVar):\n",
    "        return Assignment\n",
    "    x = most_constrained_variable(Assignment, ValuesPerVar)\n",
    "    if lcv and len(ValuesPerVar[x]) > 1:\n",
    "        ValueList = least_constraining(x, ValuesPerVar, Assignment, Constraints)\n",
    "    else:\n",
    "        ValueList = ValuesPerVar[x]\n",
    "    for v in ValueList: \n",
    "        try:\n",
    "            NewValues    = propagate(x, v, Assignment, Constraints, ValuesPerVar)\n",
    "            NewAssign    = Assignment.copy()\n",
    "            NewAssign[x] = v\n",
    "            return backtrack_search(NewAssign, NewValues, Constraints, lcv)\n",
    "        except Backtrack:\n",
    "            continue\n",
    "    raise Backtrack()"
   ]
  },
  {
   "cell_type": "markdown",
   "metadata": {},
   "source": [
    "The function `most_constrained_variable` takes two parameters:\n",
    "- `Assignment` is a *partial variable assignment* that assigns values to variables.  It is represented as a dictionary.\n",
    "- `ValuesPerVar` is a dictionary that maps variables to the set of values that may be assigned to these variables,\n",
    "  i.e. for every variable `x`, `ValuesPerVar[x]` is the set of values that can be assigned to the variable `x`\n",
    "  without violating a constraint.\n",
    "  \n",
    "The function returns an unassigned variable `x` such that the number of values in `ValuesPerVar[x]` is minimal among all other unassigned variables."
   ]
  },
  {
   "cell_type": "code",
   "execution_count": null,
   "metadata": {},
   "outputs": [],
   "source": [
    "def most_constrained_variable(Assignment, ValuesPerVar):\n",
    "    Unassigned = { (x, len(U)) for x, U in ValuesPerVar.items()\n",
    "                               if  x not in Assignment\n",
    "                 }\n",
    "    minSize = min(lenU for _, lenU in Unassigned)\n",
    "    return arb({ x for x, lenU in Unassigned if lenU == minSize })"
   ]
  },
  {
   "cell_type": "markdown",
   "metadata": {},
   "source": [
    "We import `math` because this gives us access to the infinite value $\\infty$, which is available as `math.inf`. "
   ]
  },
  {
   "cell_type": "code",
   "execution_count": null,
   "metadata": {},
   "outputs": [],
   "source": [
    "import math"
   ]
  },
  {
   "cell_type": "markdown",
   "metadata": {},
   "source": [
    "The function `least_constraining` takes four arguments:\n",
    "* `x` is a variable. \n",
    "* `ValuesPerVar` is a dictionary.  For every variable `var`, `ValuesPerVar[var]` is the set of values that can be assigned to `var`.\n",
    "* `Assignment` is a partial variable assignment.\n",
    "* `Constraints` is a set of annotated constraints.\n",
    "\n",
    "This function returns a list of values that can be substituted for the variable `x`.  \n",
    "This list is sorted so that the *least constraining* values are at the beginning of this list. "
   ]
  },
  {
   "cell_type": "code",
   "execution_count": null,
   "metadata": {},
   "outputs": [],
   "source": [
    "def least_constraining(x, ValuesPerVar, Assignment, Constraints):\n",
    "    NumbersValues = []\n",
    "    for value in ValuesPerVar[x]:\n",
    "        num_removed = shrinkage(x, value, Assignment, ValuesPerVar, Constraints)\n",
    "        if num_removed != math.inf:\n",
    "            NumbersValues.append( (num_removed, value) )\n",
    "    NumbersValues.sort(key=lambda p: p[0])\n",
    "    return [val for _, val in NumbersValues]"
   ]
  },
  {
   "cell_type": "markdown",
   "metadata": {},
   "source": [
    "The function `shrinkage` takes 5 arguments:\n",
    "- `x` is a variable that has not yet been assigned a value.\n",
    "- `value` is a value that is to be assigned to the variable `x`.\n",
    "- `Assignment` is a partial variable assignment that does not assign a value to `x`.\n",
    "- `ValuesPerVar` is a dictionary that has variables as keys.  For every variable `z`, `ValuesPerVar[z]` is the set of values that \n",
    "  can still be assigned to the variable `z`.\n",
    "- `Constraints` is a set of pairs of the form `(f, V)` where `f` is a constraint and `V` is the set of variables occurring in `f`.\n",
    "\n",
    "This function returns the *shrinkage number*, which is number of values that need to be removed from the set \n",
    "`ValuesPerVar[y]` for those variables `y` that are different from `x` if we assign `value` to the variable `x`. \n",
    "If the assignment `{ x: value }` results in any of the sets `ValuesPerVar[y]`\n",
    "becomming empty, then the function returns `math.inf` in order to signal that the the assignment `{ x: value }` leads to an unsolvable problem."
   ]
  },
  {
   "cell_type": "code",
   "execution_count": null,
   "metadata": {},
   "outputs": [],
   "source": [
    "def shrinkage(x, value, Assignment, ValuesPerVar, Constraints):\n",
    "    count     = 0   # number of values removed from ValuesPerVar\n",
    "    BoundVars = set(Assignment.keys())\n",
    "    for f, Vars in Constraints:\n",
    "        if x in Vars:\n",
    "            UnboundVars = Vars - BoundVars - { x }\n",
    "            if len(UnboundVars) == 1:\n",
    "                y = arb(UnboundVars)\n",
    "                Legal = set()\n",
    "                for w in ValuesPerVar[y]:\n",
    "                    NewAssign    = Assignment.copy()\n",
    "                    NewAssign[x] = value\n",
    "                    NewAssign[y] = w\n",
    "                    if eval(f, NewAssign):\n",
    "                        Legal.add(w)\n",
    "                    else:\n",
    "                        count += 1\n",
    "                if len(Legal) == 0:\n",
    "                    return math.inf\n",
    "    return count           "
   ]
  },
  {
   "cell_type": "markdown",
   "metadata": {},
   "source": [
    "The function `propagate` takes five arguments:\n",
    "- `x` is a variable,\n",
    "- `v` is a value that is supposed to be assigned to `x`.\n",
    "- `Assignment` is a partial assignment that contains assignments for variables that are different from `x`.\n",
    "- `Constraints` is a set of annotated constraints.\n",
    "- `ValuesPerVar` is a dictionary assigning sets of values to all variables.  For every unassigned variable `z`,  `ValuesPerVar[z]` is the set of values that still might be assigned to `z`.\n",
    "\n",
    "The purpose of the function  `propagate` is to compute how the sets `ValuesPerVar[z]` can be shrunk when the value `v` is assigned to the variable `x`.  The dictionary `ValuesPerVar` with appropriately reduced sets `ValuesPerVar[z]` is returned.  In particular, the consequences of assigning the value `v` to the variable `x` are *propagated*:\n",
    "If there is a constraint `f` such that `x` occurs in `f` and there is just one variable `y` left that occurs in \n",
    "`f` and that is not yet bound in `Assignment`, then the values that can still be assigned to `y` are computed\n",
    "and the dictionary `ValuesDict` is updated accordingly.  If there are no values left that can be assigned to \n",
    "`y` without violating the constraint `f`, the function backtracks."
   ]
  },
  {
   "cell_type": "code",
   "execution_count": null,
   "metadata": {},
   "outputs": [],
   "source": [
    "def propagate(x, v, Assignment, Constraints, ValuesPerVar):\n",
    "    ValuesDict    = ValuesPerVar.copy()\n",
    "    ValuesDict[x] = { v }\n",
    "    BoundVars     = set(Assignment.keys())\n",
    "    for f, Vars in Constraints:\n",
    "        if x in Vars:\n",
    "            UnboundVars = Vars - BoundVars - { x }\n",
    "            if len(UnboundVars) == 1:\n",
    "                y = arb(UnboundVars)\n",
    "                Legal = set()\n",
    "                for w in ValuesDict[y]:\n",
    "                    NewAssign = Assignment.copy()\n",
    "                    NewAssign[x] = v\n",
    "                    NewAssign[y] = w\n",
    "                    if eval(f, NewAssign):\n",
    "                        Legal.add(w)\n",
    "                if not Legal:\n",
    "                    raise Backtrack()\n",
    "                ValuesDict[y] = Legal\n",
    "    return ValuesDict"
   ]
  },
  {
   "cell_type": "markdown",
   "metadata": {},
   "source": [
    "## Solving the *Eight-Queens-Puzzle*"
   ]
  },
  {
   "cell_type": "code",
   "execution_count": null,
   "metadata": {},
   "outputs": [],
   "source": [
    "%%capture\n",
    "%run N-Queens-Problem-CSP.ipynb"
   ]
  },
  {
   "cell_type": "code",
   "execution_count": null,
   "metadata": {},
   "outputs": [],
   "source": [
    "P = create_csp(8)"
   ]
  },
  {
   "cell_type": "markdown",
   "metadata": {},
   "source": [
    "Constraint Propagation with the *least constraining value heuristic* takes about 23 milliseconds on my Windows desktop to solve the eight queens puzzle."
   ]
  },
  {
   "cell_type": "code",
   "execution_count": null,
   "metadata": {},
   "outputs": [],
   "source": [
    "%%time\n",
    "Solution = solve(P, lcv=True)\n",
    "print(f'Solution = {Solution}')"
   ]
  },
  {
   "cell_type": "code",
   "execution_count": null,
   "metadata": {},
   "outputs": [],
   "source": [
    "show_solution(Solution)"
   ]
  },
  {
   "cell_type": "markdown",
   "metadata": {},
   "source": [
    "Constraint Propagation without the *least constraining value heuristic* takes only 12 milliseconds on my desktop to solve the eight queens puzzle."
   ]
  },
  {
   "cell_type": "code",
   "execution_count": null,
   "metadata": {},
   "outputs": [],
   "source": [
    "%%time\n",
    "Solution = solve(P)\n",
    "print(f'Solution = {Solution}')"
   ]
  },
  {
   "cell_type": "code",
   "execution_count": null,
   "metadata": {},
   "outputs": [],
   "source": [
    "P = create_csp(32)"
   ]
  },
  {
   "cell_type": "markdown",
   "metadata": {},
   "source": [
    "Constraint propagation can solve the 32 queens problem in less than $2.6$ seconds, if the *least constraining value heuristic* is used."
   ]
  },
  {
   "cell_type": "code",
   "execution_count": null,
   "metadata": {},
   "outputs": [],
   "source": [
    "%%time\n",
    "Solution = solve(P, True)\n",
    "print(f'Solution = {Solution}')"
   ]
  },
  {
   "cell_type": "markdown",
   "metadata": {},
   "source": [
    "Constraint propagation can solve the 32 queens problem in less than $312$ milliseconds, if the *least constraining value heuristic* is not used.\n",
    "The $n$-queens problem is a relatively easy CSP and hence the *least constraining value* is not useful."
   ]
  },
  {
   "cell_type": "code",
   "execution_count": null,
   "metadata": {},
   "outputs": [],
   "source": [
    "%%time\n",
    "Solution = solve(P)\n",
    "print(f'Solution = {Solution}')"
   ]
  },
  {
   "cell_type": "markdown",
   "metadata": {},
   "source": [
    "## Solving the *Zebra Puzzle*"
   ]
  },
  {
   "cell_type": "code",
   "execution_count": null,
   "metadata": {},
   "outputs": [],
   "source": [
    "%run Zebra.ipynb"
   ]
  },
  {
   "cell_type": "code",
   "execution_count": null,
   "metadata": {},
   "outputs": [],
   "source": [
    "zebra = zebra_csp()"
   ]
  },
  {
   "cell_type": "markdown",
   "metadata": {},
   "source": [
    "Constraint propagation with the *least constraining value* heuristic takes about 18 milliseconds to solve the *Zebra Puzzle*."
   ]
  },
  {
   "cell_type": "code",
   "execution_count": null,
   "metadata": {
    "scrolled": true
   },
   "outputs": [],
   "source": [
    "%%time\n",
    "Solution = solve(zebra, True)"
   ]
  },
  {
   "cell_type": "code",
   "execution_count": null,
   "metadata": {},
   "outputs": [],
   "source": [
    "show_solution(Solution)"
   ]
  },
  {
   "cell_type": "markdown",
   "metadata": {},
   "source": [
    "If the *least constraining value* heuristic is not used, it takes about 15 milliseconds to solve the *Zebra Puzzle*."
   ]
  },
  {
   "cell_type": "code",
   "execution_count": null,
   "metadata": {
    "scrolled": true
   },
   "outputs": [],
   "source": [
    "%%time\n",
    "Solution = solve(zebra)"
   ]
  },
  {
   "cell_type": "markdown",
   "metadata": {},
   "source": [
    "## Solving a Sudoku Puzzle"
   ]
  },
  {
   "cell_type": "code",
   "execution_count": null,
   "metadata": {},
   "outputs": [],
   "source": [
    "%run Sudoku.ipynb"
   ]
  },
  {
   "cell_type": "code",
   "execution_count": null,
   "metadata": {
    "scrolled": true
   },
   "outputs": [],
   "source": [
    "csp = sudoku_csp(Sudoku)\n",
    "csp"
   ]
  },
  {
   "cell_type": "markdown",
   "metadata": {},
   "source": [
    "Constraint propagation with the *least constraining value* heuristic takes about 98 milliseconds to solve \n",
    "the given sudoku."
   ]
  },
  {
   "cell_type": "code",
   "execution_count": null,
   "metadata": {
    "scrolled": true
   },
   "outputs": [],
   "source": [
    "%%time\n",
    "Solution = solve(csp, True)"
   ]
  },
  {
   "cell_type": "code",
   "execution_count": null,
   "metadata": {
    "scrolled": false
   },
   "outputs": [],
   "source": [
    "show_solution(Solution)"
   ]
  },
  {
   "cell_type": "markdown",
   "metadata": {},
   "source": [
    "Constraint propagation without the *least constraining value* heuristic takes 128 milliseconds to solve \n",
    "the given sudoku. Hence, in this case the *least constraining value* heuristic is useful. "
   ]
  },
  {
   "cell_type": "code",
   "execution_count": null,
   "metadata": {},
   "outputs": [],
   "source": [
    "%%time\n",
    "Solution = solve(csp, False)"
   ]
  },
  {
   "cell_type": "markdown",
   "metadata": {},
   "source": [
    "Let's check whether the solution is unique."
   ]
  },
  {
   "cell_type": "code",
   "execution_count": null,
   "metadata": {
    "scrolled": true
   },
   "outputs": [],
   "source": [
    "csp = find_alternative(csp, Solution)\n",
    "csp"
   ]
  },
  {
   "cell_type": "code",
   "execution_count": null,
   "metadata": {},
   "outputs": [],
   "source": [
    "%%time\n",
    "Solution = solve(csp)\n",
    "if Solution:\n",
    "    print('There is another solution.')\n",
    "else:\n",
    "    print('The solution is unique!')"
   ]
  },
  {
   "cell_type": "markdown",
   "metadata": {},
   "source": [
    "## Solving the Crypto-Arithmetic Puzzle"
   ]
  },
  {
   "cell_type": "code",
   "execution_count": null,
   "metadata": {},
   "outputs": [],
   "source": [
    "%run Crypto-Arithmetic.ipynb"
   ]
  },
  {
   "cell_type": "code",
   "execution_count": null,
   "metadata": {},
   "outputs": [],
   "source": [
    "csp = crypto_csp()\n",
    "csp"
   ]
  },
  {
   "cell_type": "markdown",
   "metadata": {},
   "source": [
    "Constraint propagation takes about 138 milliseconds to solve the crypto-arithmetic puzzle if the \n",
    "*least constraining value* heuristic is used."
   ]
  },
  {
   "cell_type": "code",
   "execution_count": null,
   "metadata": {
    "scrolled": true
   },
   "outputs": [],
   "source": [
    "%%time\n",
    "Solution = solve(csp, True)"
   ]
  },
  {
   "cell_type": "code",
   "execution_count": null,
   "metadata": {},
   "outputs": [],
   "source": [
    "show_solution(Solution)"
   ]
  },
  {
   "cell_type": "markdown",
   "metadata": {},
   "source": [
    "Constraint propagation takes about 1.4 seconds if the *least constraining value* heuristic is not used."
   ]
  },
  {
   "cell_type": "code",
   "execution_count": null,
   "metadata": {},
   "outputs": [],
   "source": [
    "%%time\n",
    "Solution = solve(csp)"
   ]
  },
  {
   "cell_type": "markdown",
   "metadata": {},
   "source": [
    "Let us try the hard version of the puzzle."
   ]
  },
  {
   "cell_type": "code",
   "execution_count": null,
   "metadata": {},
   "outputs": [],
   "source": [
    "csp = crypto_csp_hard()"
   ]
  },
  {
   "cell_type": "code",
   "execution_count": null,
   "metadata": {},
   "outputs": [],
   "source": [
    "%%time\n",
    "Solution = solve(csp, True)"
   ]
  },
  {
   "cell_type": "code",
   "execution_count": null,
   "metadata": {},
   "outputs": [],
   "source": [
    "%%time\n",
    "Solution = solve(csp)"
   ]
  },
  {
   "cell_type": "code",
   "execution_count": null,
   "metadata": {},
   "outputs": [],
   "source": []
  }
 ],
 "metadata": {
  "kernelspec": {
   "display_name": "Python 3 (ipykernel)",
   "language": "python",
   "name": "python3"
  },
  "language_info": {
   "codemirror_mode": {
    "name": "ipython",
    "version": 3
   },
   "file_extension": ".py",
   "mimetype": "text/x-python",
   "name": "python",
   "nbconvert_exporter": "python",
   "pygments_lexer": "ipython3",
   "version": "3.9.6"
  },
  "toc": {
   "base_numbering": 1,
   "nav_menu": {},
   "number_sections": true,
   "sideBar": true,
   "skip_h1_title": false,
   "title_cell": "Table of Contents",
   "title_sidebar": "Contents",
   "toc_cell": false,
   "toc_position": {},
   "toc_section_display": true,
   "toc_window_display": false
  },
  "varInspector": {
   "cols": {
    "lenName": 16,
    "lenType": 16,
    "lenVar": 40
   },
   "kernels_config": {
    "python": {
     "delete_cmd_postfix": "",
     "delete_cmd_prefix": "del ",
     "library": "var_list.py",
     "varRefreshCmd": "print(var_dic_list())"
    },
    "r": {
     "delete_cmd_postfix": ") ",
     "delete_cmd_prefix": "rm(",
     "library": "var_list.r",
     "varRefreshCmd": "cat(var_dic_list()) "
    }
   },
   "types_to_exclude": [
    "module",
    "function",
    "builtin_function_or_method",
    "instance",
    "_Feature"
   ],
   "window_display": false
  }
 },
 "nbformat": 4,
 "nbformat_minor": 2
}
