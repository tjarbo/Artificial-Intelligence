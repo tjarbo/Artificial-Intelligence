{
 "cells": [
  {
   "cell_type": "code",
   "execution_count": null,
   "metadata": {},
   "outputs": [],
   "source": [
    "from IPython.core.display import HTML\n",
    "with open('../style.css') as f:\n",
    "    css = f.read()\n",
    "HTML(css)"
   ]
  },
  {
   "cell_type": "markdown",
   "metadata": {},
   "source": [
    "# Sudoku"
   ]
  },
  {
   "cell_type": "markdown",
   "metadata": {},
   "source": [
    "The sudoku we want to solve is shown below:\n",
    "    <img src=\"sudoku.png\">"
   ]
  },
  {
   "cell_type": "markdown",
   "metadata": {},
   "source": [
    "This sudoku can be represented by the following list of lists:"
   ]
  },
  {
   "cell_type": "code",
   "execution_count": null,
   "metadata": {},
   "outputs": [],
   "source": [
    "Sudoku = [ [\"*\",  3 ,  9 , \"*\", \"*\", \"*\", \"*\", \"*\",  7 ], \n",
    "           [\"*\", \"*\", \"*\",  7 , \"*\", \"*\",  4 ,  9 ,  2 ],\n",
    "           [\"*\", \"*\", \"*\", \"*\",  6 ,  5 , \"*\",  8 ,  3 ],\n",
    "           [\"*\", \"*\", \"*\",  6 , \"*\",  3 ,  2 ,  7 , \"*\"],\n",
    "           [\"*\", \"*\", \"*\", \"*\",  4 , \"*\",  8 , \"*\", \"*\"],\n",
    "           [ 5 ,  6 , \"*\", \"*\", \"*\", \"*\", \"*\", \"*\", \"*\"],\n",
    "           [\"*\", \"*\",  5 ,  2 , \"*\",  9 , \"*\", \"*\",  1 ],\n",
    "           [\"*\",  2 ,  1 , \"*\", \"*\", \"*\", \"*\",  4 , \"*\"],\n",
    "           [ 7 , \"*\", \"*\", \"*\", \"*\", \"*\",  5 , \"*\", \"*\"]\n",
    "         ]"
   ]
  },
  {
   "cell_type": "markdown",
   "metadata": {},
   "source": [
    "The function `sudoku_csp(Puzzle)` takes a given sudoku `Puzzle` as its argument and returns a CSP that encodes the given sudoku as a CSP.  The variables should have names like $\\texttt{V}ij$ where $i,j \\in \\{1,\\cdots,9\\}$.  For example, `V21` would be the variable describing the first cell in the second row."
   ]
  },
  {
   "cell_type": "code",
   "execution_count": null,
   "metadata": {},
   "outputs": [],
   "source": [
    "def all_different(S):\n",
    "    return { f'{x} != {y}' for x in S for y in S if x < y }"
   ]
  },
  {
   "cell_type": "code",
   "execution_count": null,
   "metadata": {},
   "outputs": [],
   "source": [
    "all_different({'a', 'b', 'c'})"
   ]
  },
  {
   "cell_type": "code",
   "execution_count": null,
   "metadata": {},
   "outputs": [],
   "source": [
    "def specific_constraints(Puzzle):\n",
    "    Constraints = set()\n",
    "    row = 0\n",
    "    for Row in Puzzle:\n",
    "        row += 1\n",
    "        col  = 0\n",
    "        for number in Row:\n",
    "            col += 1\n",
    "            if number != '*':\n",
    "                Constraints.add(f'V{row}{col} == {number}')\n",
    "    return Constraints"
   ]
  },
  {
   "cell_type": "code",
   "execution_count": null,
   "metadata": {},
   "outputs": [],
   "source": [
    "specific_constraints(Sudoku)"
   ]
  },
  {
   "cell_type": "code",
   "execution_count": null,
   "metadata": {},
   "outputs": [],
   "source": [
    "def sudoku_csp(Puzzle): \n",
    "    R = range(1, 9+1)\n",
    "    S = range(2+1)\n",
    "    Variables = { f'V{c}{r}' for c in R for r in R }\n",
    "    Values = set(R)\n",
    "    Constraints = specific_constraints(Puzzle)\n",
    "    for row in R:\n",
    "        Constraints |= all_different({f'V{row}{col}' for col in R})\n",
    "    for col in R:\n",
    "        Constraints |= all_different({f'V{row}{col}' for row in R})\n",
    "    for rb in S:\n",
    "        for cb in S:\n",
    "            Constraints |= all_different({f'V{3*rb+r+1}{3*cb+c+1}' for r in S for c in S})\n",
    "    return Variables, Values, Constraints"
   ]
  },
  {
   "cell_type": "code",
   "execution_count": null,
   "metadata": {
    "scrolled": true
   },
   "outputs": [],
   "source": [
    "sudoku_csp(Sudoku)"
   ]
  },
  {
   "cell_type": "markdown",
   "metadata": {},
   "source": [
    "Given a sudoku `Puzzle` and a `Solution` for this puzzle, the function `find_alternative` computes a CSP\n",
    "that is solvable iff the puzzle has a second solution that is different from `Solution`."
   ]
  },
  {
   "cell_type": "code",
   "execution_count": null,
   "metadata": {},
   "outputs": [],
   "source": [
    "def find_alternative(csp, Solution):\n",
    "    Variables, Values, Constraints = csp\n",
    "    formula = ' or '.join({ f'{var} != {Solution[var]}' for var in Variables })\n",
    "    return Variables, Values, Constraints | { formula }"
   ]
  },
  {
   "cell_type": "markdown",
   "metadata": {},
   "source": [
    "---\n",
    "## Code to Display the Solution\n",
    "---"
   ]
  },
  {
   "cell_type": "code",
   "execution_count": null,
   "metadata": {},
   "outputs": [],
   "source": [
    "import ipycanvas as cnv"
   ]
  },
  {
   "cell_type": "code",
   "execution_count": null,
   "metadata": {},
   "outputs": [],
   "source": [
    "size = 100"
   ]
  },
  {
   "cell_type": "markdown",
   "metadata": {},
   "source": [
    "The function `show_solution` prints the solution."
   ]
  },
  {
   "cell_type": "code",
   "execution_count": null,
   "metadata": {},
   "outputs": [],
   "source": [
    "def show_solution(Solution):\n",
    "    canvas = cnv.Canvas(size=(size * 9, size * 9))\n",
    "    canvas.font = '20px sans-serif'\n",
    "    canvas.text_align    = 'center'\n",
    "    canvas.text_baseline = 'middle'\n",
    "    for row in range(9):\n",
    "        for col in range(9):\n",
    "            x = col * size\n",
    "            y = row * size\n",
    "            canvas.line_width = 1.0\n",
    "            canvas.stroke_rect(x, y, size, size)\n",
    "            entry = Sudoku[row][col]\n",
    "            if entry == '*':\n",
    "                key = f'V{row+1}{col+1}'\n",
    "                symbol = str(Solution[key])\n",
    "                canvas.fill_style = 'blue'\n",
    "            else:\n",
    "                symbol = str(entry)\n",
    "                canvas.fill_style = 'black'\n",
    "            x += size // 2\n",
    "            y += size // 2\n",
    "            canvas.fill_text(symbol, x, y)\n",
    "    canvas.line_width = 3.0\n",
    "    for row in range(3):\n",
    "        for col in range(3):\n",
    "            x = 3 * col * size\n",
    "            y = 3 * row * size\n",
    "            canvas.stroke_rect(x, y, 3 * size, 3 * size)\n",
    "    canvas.stroke_style = 'black'\n",
    "    canvas.line_width = 6.0\n",
    "    canvas.stroke_rect(0, 0, 9 * size, 9 * size) \n",
    "    display(canvas)"
   ]
  }
 ],
 "metadata": {
  "kernelspec": {
   "display_name": "Python 3 (ipykernel)",
   "language": "python",
   "name": "python3"
  },
  "language_info": {
   "codemirror_mode": {
    "name": "ipython",
    "version": 3
   },
   "file_extension": ".py",
   "mimetype": "text/x-python",
   "name": "python",
   "nbconvert_exporter": "python",
   "pygments_lexer": "ipython3",
   "version": "3.9.7"
  },
  "toc": {
   "base_numbering": 1,
   "nav_menu": {},
   "number_sections": true,
   "sideBar": true,
   "skip_h1_title": false,
   "title_cell": "Table of Contents",
   "title_sidebar": "Contents",
   "toc_cell": false,
   "toc_position": {},
   "toc_section_display": true,
   "toc_window_display": false
  },
  "varInspector": {
   "cols": {
    "lenName": 16,
    "lenType": 16,
    "lenVar": 40
   },
   "kernels_config": {
    "python": {
     "delete_cmd_postfix": "",
     "delete_cmd_prefix": "del ",
     "library": "var_list.py",
     "varRefreshCmd": "print(var_dic_list())"
    },
    "r": {
     "delete_cmd_postfix": ") ",
     "delete_cmd_prefix": "rm(",
     "library": "var_list.r",
     "varRefreshCmd": "cat(var_dic_list()) "
    }
   },
   "types_to_exclude": [
    "module",
    "function",
    "builtin_function_or_method",
    "instance",
    "_Feature"
   ],
   "window_display": false
  }
 },
 "nbformat": 4,
 "nbformat_minor": 2
}
