{
 "cells": [
  {
   "cell_type": "code",
   "execution_count": null,
   "metadata": {},
   "outputs": [],
   "source": [
    "from IPython.core.display import HTML\n",
    "with open (\"../style.css\", \"r\") as file:\n",
    "    css = file.read()\n",
    "HTML(css)"
   ]
  },
  {
   "cell_type": "markdown",
   "metadata": {},
   "source": [
    "# Introduction to Tensor Flow"
   ]
  },
  {
   "cell_type": "markdown",
   "metadata": {},
   "source": [
    "In this notebook we show how to find the minimum of the function\n",
    "$$ x \\mapsto \\exp(x) - 2 \\cdot x^2 + 1 $$\n",
    "using the <a href=\"https://en.wikipedia.org/wiki/TensorFlow\">TensorFlow</a> library. \n",
    "We plot this function using `numpy`, `matplotlib`, and `seaborn`."
   ]
  },
  {
   "cell_type": "code",
   "execution_count": null,
   "metadata": {},
   "outputs": [],
   "source": [
    "import numpy             as np\n",
    "import matplotlib.pyplot as plt\n",
    "import seaborn           as sns"
   ]
  },
  {
   "cell_type": "markdown",
   "metadata": {},
   "source": [
    "First, we define the function $x \\mapsto \\exp(x) - 2 \\cdot x^2 + 1$ as a Python function that can take a \n",
    "`numpy` array as its argument."
   ]
  },
  {
   "cell_type": "code",
   "execution_count": null,
   "metadata": {},
   "outputs": [],
   "source": [
    "def fm(x):\n",
    "    return np.exp(x) - 2 * x**2 + 1"
   ]
  },
  {
   "cell_type": "markdown",
   "metadata": {},
   "source": [
    "Next, we plot this function for all $x$ such that $-1 \\leq x \\leq 3$."
   ]
  },
  {
   "cell_type": "code",
   "execution_count": null,
   "metadata": {},
   "outputs": [],
   "source": [
    "Xs = np.arange(-1.0, 3, 0.01)\n",
    "Ys = fm(Xs)\n",
    "plt.figure(figsize=(12,12))\n",
    "sns.set(style='whitegrid')\n",
    "sns.lineplot(x=Xs, y=Ys, color='b')\n",
    "plt.axvline(x=0.0, c='k')\n",
    "plt.axhline(y=0.0, c='k')\n",
    "plt.ylim(-0.5, 3.0)\n",
    "plt.xlim(-1.0, 3,0)\n",
    "plt.xlabel('x')\n",
    "plt.ylabel('y')\n",
    "plt.title('x |-> exp(x) - 2 * x**2 + 1')"
   ]
  },
  {
   "cell_type": "markdown",
   "metadata": {},
   "source": [
    "For $x \\geq 0$, the function $f$ seems to have a minimum somewhere between $2.0$ and $2.5$.  We want to compute this minimum numerically using <font style=\"color:blue;\">gradient descent</font> via \n",
    "<a href=\"https://www.tensorflow.org\">TensorFlow</a>, but we do not want to compute the gradient of \n",
    "$f$ ourselves.  In order to install `tensorflow`, the following command can be used:\n",
    "```\n",
    "    conda install -c conda-forge tensorflow\n",
    "```"
   ]
  },
  {
   "cell_type": "code",
   "execution_count": null,
   "metadata": {},
   "outputs": [],
   "source": [
    "import tensorflow as tf"
   ]
  },
  {
   "cell_type": "markdown",
   "metadata": {},
   "source": [
    "We start by defining a variable $x$.  Later, we will define the function \n",
    "$$ f(x) := \\exp(x) - 2 \\cdot x^2 + 1 $$\n",
    "and compute the value $x_0$ such that $f(x_0) \\leq f(x)$ for all $x \\geq 0$.  The variable $x$ is a single precision variable, hence we use <tt>tf.float32</tt> as its data type.  The variable is initialized to the value $1$.  We also assign a *name* to it, but this name is completely optional, since this name is only used when we \n",
    "print the variable.  Hence it is only useful for debugging."
   ]
  },
  {
   "cell_type": "code",
   "execution_count": null,
   "metadata": {},
   "outputs": [],
   "source": [
    "x = tf.Variable(1)\n",
    "x"
   ]
  },
  {
   "cell_type": "markdown",
   "metadata": {},
   "source": [
    "Since this is a variable that contains only a single number and not an array or a matrix, its shape is \n",
    "<tt>()</tt>.  The string `'var_x:0'` is an internal name used by TensorFlow to manage this variable. \n",
    "Note that TensorFlow has appended the string <tt>':0'</tt> at the end of the string `var_x` in order to ensure that this name is unique."
   ]
  },
  {
   "cell_type": "markdown",
   "metadata": {},
   "source": [
    "Let us define a <font style=\"color:blue;\">cost function</font> $f$ using `tensorflow` next.  Mathematically, \n",
    "this cost function is the function $f$ from above:\n",
    "$$ f(x) = \\exp(x) - 2 \\cdot x^2 + 1 $$\n",
    "Note that we have used the variable `x` defined above in the right hand side of this definition."
   ]
  },
  {
   "cell_type": "code",
   "execution_count": null,
   "metadata": {},
   "outputs": [],
   "source": [
    "def f_and_fs(t):\n",
    "    x = tf.Variable(t)\n",
    "    with tf.GradientTape() as tape:\n",
    "        y = tf.exp(x) - 2 * x * x + 1\n",
    "    ys = tape.gradient(y, x) \n",
    "    return y.numpy(), ys.numpy()"
   ]
  },
  {
   "cell_type": "code",
   "execution_count": null,
   "metadata": {},
   "outputs": [],
   "source": [
    "y, ys = f_and_fs(4.0)\n",
    "y, ys"
   ]
  },
  {
   "cell_type": "code",
   "execution_count": null,
   "metadata": {},
   "outputs": [],
   "source": [
    "def findMinimum(start, eps):\n",
    "    t     = start\n",
    "    f, fs = f_and_fs(t)\n",
    "    print(f'cnt = 0, f({t}) = {f}, fs = {fs}')\n",
    "    alpha = 0.1   # learning rate\n",
    "    cnt   = 0     # number of iterations\n",
    "    while True:\n",
    "        cnt += 1\n",
    "        tOld, fOld = t, f\n",
    "        t    -= alpha * fs\n",
    "        f, fs = f_and_fs(t)\n",
    "        print(f'cnt = {cnt}, f({t}) = {f}, fs = {fs}')\n",
    "        if abs(t - tOld) <= abs(t) * eps:\n",
    "            return t, f, fs, cnt            \n",
    "        if f >= fOld:     # f didn't decrease, learning rate is too high\n",
    "            alpha *= 0.5  # decrease the learning rate\n",
    "            print(f'decrementing: alpha = {alpha}')\n",
    "            t, f = tOld, fOld    # reset t\n",
    "            continue\n",
    "        else:             # f has decreased\n",
    "            alpha *= 1.2  # increase the learning rate\n",
    "            print(f'incrementing: alpha = {alpha}')"
   ]
  },
  {
   "cell_type": "code",
   "execution_count": null,
   "metadata": {},
   "outputs": [],
   "source": [
    "findMinimum(1.0, 1e-15)"
   ]
  },
  {
   "cell_type": "markdown",
   "metadata": {},
   "source": [
    "Note that although we have used <font style=\"color:blue;\">gradient descent</font>, we never had to calculate the \n",
    "<font style=\"color:blue;\">derivative</font> of the function $f$.  This derivative has been calculated by TensorFlow instead. "
   ]
  }
 ],
 "metadata": {
  "kernelspec": {
   "display_name": "Python 3 (ipykernel)",
   "language": "python",
   "name": "python3"
  },
  "language_info": {
   "codemirror_mode": {
    "name": "ipython",
    "version": 3
   },
   "file_extension": ".py",
   "mimetype": "text/x-python",
   "name": "python",
   "nbconvert_exporter": "python",
   "pygments_lexer": "ipython3",
   "version": "3.9.7"
  }
 },
 "nbformat": 4,
 "nbformat_minor": 2
}
