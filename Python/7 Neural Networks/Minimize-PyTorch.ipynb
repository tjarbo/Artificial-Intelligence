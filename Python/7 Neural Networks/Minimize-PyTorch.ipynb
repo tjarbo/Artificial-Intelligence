{
 "cells": [
  {
   "cell_type": "code",
   "execution_count": null,
   "id": "3ab56590",
   "metadata": {},
   "outputs": [],
   "source": [
    "from IPython.core.display import HTML\n",
    "with open (\"../style.css\", \"r\") as file:\n",
    "    css = file.read()\n",
    "HTML(css)"
   ]
  },
  {
   "cell_type": "markdown",
   "id": "d7958f8b",
   "metadata": {},
   "source": [
    "# Minimization in PyTorch"
   ]
  },
  {
   "cell_type": "code",
   "execution_count": null,
   "id": "ec4544c6",
   "metadata": {},
   "outputs": [],
   "source": [
    "import torch"
   ]
  },
  {
   "cell_type": "code",
   "execution_count": null,
   "id": "cdefe8a6",
   "metadata": {},
   "outputs": [],
   "source": [
    "def f_and_fs(t):\n",
    "    # declare x to be a tensor with value t that keeps track of its gradient\n",
    "    x = torch.tensor(t, requires_grad=True, dtype=torch.double)\n",
    "    y = torch.exp(x) - 2 * x * x + 1\n",
    "    # use backpropagation to compute the gradient of y w.r.t. x\n",
    "    y.backward()\n",
    "    # the gradient is stored in x.grad\n",
    "    # the function item returns the value stored in a tensor\n",
    "    return y.item(), x.grad.item()"
   ]
  },
  {
   "cell_type": "code",
   "execution_count": null,
   "id": "7dde3803",
   "metadata": {},
   "outputs": [],
   "source": [
    "def findMinimum(start, eps):\n",
    "    t     = start\n",
    "    f, fs = f_and_fs(t)\n",
    "    print(f'cnt = 0, f({t}) = {f}, fs = {fs}')\n",
    "    alpha = 0.1   # learning rate\n",
    "    cnt   = 0     # number of iterations\n",
    "    while True:\n",
    "        cnt += 1\n",
    "        tOld, fOld = t, f\n",
    "        t    -= alpha * fs\n",
    "        f, fs = f_and_fs(t)\n",
    "        print(f'cnt = {cnt}, f({t}) = {f}, fs = {fs}')\n",
    "        if abs(t - tOld) <= abs(t) * eps:\n",
    "            return t, f, fs, cnt            \n",
    "        if f >= fOld:     # f didn't decrease, learning rate is too high\n",
    "            alpha *= 0.5  # decrease the learning rate\n",
    "            t, f = tOld, fOld    # reset t\n",
    "            continue\n",
    "        else:             # f has decreased\n",
    "            alpha *= 1.2  # increase the learning rate"
   ]
  },
  {
   "cell_type": "code",
   "execution_count": null,
   "id": "1cfdbb2b",
   "metadata": {
    "scrolled": false
   },
   "outputs": [],
   "source": [
    "findMinimum(1.0, 1e-12)"
   ]
  },
  {
   "cell_type": "code",
   "execution_count": null,
   "id": "6f00e3d2",
   "metadata": {},
   "outputs": [],
   "source": [
    "torch.cuda.is_available()"
   ]
  },
  {
   "cell_type": "code",
   "execution_count": null,
   "id": "2630cbbf",
   "metadata": {},
   "outputs": [],
   "source": []
  }
 ],
 "metadata": {
  "kernelspec": {
   "display_name": "Python 3 (ipykernel)",
   "language": "python",
   "name": "python3"
  },
  "language_info": {
   "codemirror_mode": {
    "name": "ipython",
    "version": 3
   },
   "file_extension": ".py",
   "mimetype": "text/x-python",
   "name": "python",
   "nbconvert_exporter": "python",
   "pygments_lexer": "ipython3",
   "version": "3.9.7"
  }
 },
 "nbformat": 4,
 "nbformat_minor": 5
}
