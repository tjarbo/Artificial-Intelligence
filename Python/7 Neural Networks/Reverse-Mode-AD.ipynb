{
 "cells": [
  {
   "cell_type": "code",
   "execution_count": null,
   "id": "3ab56590",
   "metadata": {},
   "outputs": [],
   "source": [
    "from IPython.core.display import HTML\n",
    "with open (\"../style.css\", \"r\") as file:\n",
    "    css = file.read()\n",
    "HTML(css)"
   ]
  },
  {
   "cell_type": "markdown",
   "id": "d7958f8b",
   "metadata": {},
   "source": [
    "# Reverse Mode Automatic Differentiation"
   ]
  },
  {
   "cell_type": "markdown",
   "id": "29328608",
   "metadata": {},
   "source": [
    "We demonstrate reverse mode AD with the function\n",
    "$$ f(x_1, x_2) = \\sin(x_1 + x_2) \\cdot \\cos(x_1 - x_2) + (x_1 + x_2) \\cdot (x_1 - x_2) $$\n",
    "To compute the function step by step, we introduce the following auxiliary variables:\n",
    "* $v_1 := x_1 + x_2$,\n",
    "* $v_2 := x_1 - x_2$,\n",
    "* $v_3 := \\sin(v_1)$,\n",
    "* $v_4 := \\cos(v_2)$,\n",
    "* $v_5 := v_3 \\cdot v_4$,\n",
    "* $v_6 := v_1 \\cdot v_2$,\n",
    "* $y   := v_5 + v_6$."
   ]
  },
  {
   "cell_type": "code",
   "execution_count": null,
   "id": "a7aa66dd",
   "metadata": {},
   "outputs": [],
   "source": [
    "def f(x1, x2):\n",
    "    return sin(x1 + x2) * cos(x1 - x2) + (x1 + x2) * (x1 - x2)"
   ]
  },
  {
   "cell_type": "code",
   "execution_count": null,
   "id": "d8755c49",
   "metadata": {},
   "outputs": [],
   "source": [
    "CG = [ ('v1', '+',   'x1', 'x2'),\n",
    "       ('v2', '-',   'x1', 'x2'),\n",
    "       ('v3', 'sin', 'v1'),\n",
    "       ('v4', 'cos', 'v2'),\n",
    "       ('v5', '*',   'v3', 'v4'),\n",
    "       ('v6', '*',   'v1', 'v2'),\n",
    "       ('y',  '+',   'v5', 'v6')\n",
    "     ]"
   ]
  },
  {
   "cell_type": "code",
   "execution_count": null,
   "id": "b7d145bd",
   "metadata": {},
   "outputs": [],
   "source": [
    "import graphviz as gv"
   ]
  },
  {
   "cell_type": "code",
   "execution_count": null,
   "id": "6e8f2f28",
   "metadata": {},
   "outputs": [],
   "source": [
    "def all_variables(CG):\n",
    "    Variables = set()\n",
    "    for node in CG:\n",
    "        match node:\n",
    "            case (v, _, a1, a2):\n",
    "                if a1[0] == 'x':\n",
    "                    Variables.add(a1)\n",
    "                if a2[0] == 'x':\n",
    "                     Variables.add(a2)       \n",
    "            case (v, _, a):\n",
    "                if a[0] == 'x':\n",
    "                    Variables.add(a)\n",
    "    return Variables"
   ]
  },
  {
   "cell_type": "code",
   "execution_count": null,
   "id": "2bba8916",
   "metadata": {},
   "outputs": [],
   "source": [
    "all_variables(CG)"
   ]
  },
  {
   "cell_type": "code",
   "execution_count": null,
   "id": "96073036",
   "metadata": {},
   "outputs": [],
   "source": [
    "def render(CG):\n",
    "    cg = gv.Graph()\n",
    "    cg.attr(rankdir='LR', splines='false')\n",
    "    Variables = all_variables(CG)\n",
    "    for x in Variables:\n",
    "        cg.node(x, label=x, shape='circle')\n",
    "    for node in CG:\n",
    "        match node:\n",
    "            case (v, op, a1, a2):\n",
    "                l = f'{v} := {a1} {op} {a2}'\n",
    "            case (v, f, a):\n",
    "                l = f'{v} :=  {f}({a})'\n",
    "        cg.node(v, label=l, shape='rectangle')\n",
    "    for node in CG:\n",
    "        match node:\n",
    "            case (v, _, a1, a2):\n",
    "                cg.edge(a1, v)\n",
    "                cg.edge(a2, v)\n",
    "            case (v, _, a):\n",
    "                cg.edge(a, v)\n",
    "    return cg"
   ]
  },
  {
   "cell_type": "code",
   "execution_count": null,
   "id": "07d67713",
   "metadata": {},
   "outputs": [],
   "source": [
    "render(CG)"
   ]
  },
  {
   "cell_type": "code",
   "execution_count": null,
   "id": "8a8be405",
   "metadata": {},
   "outputs": [],
   "source": [
    "import math"
   ]
  },
  {
   "cell_type": "markdown",
   "id": "228a411f",
   "metadata": {},
   "source": [
    "The function `eval_graph` takes two arguments:\n",
    "* `CG` is a computational graph,\n",
    "* `Values` is a dictionary assigning values to variable names."
   ]
  },
  {
   "cell_type": "code",
   "execution_count": null,
   "id": "a8507a45",
   "metadata": {},
   "outputs": [],
   "source": [
    "def eval_graph(CG, Values):\n",
    "    for node in CG:\n",
    "        match node:\n",
    "            case (v, '+', a1, a2):\n",
    "                Values[v] = Values[a1] + Values[a2]\n",
    "            case (v, '-', a1, a2):\n",
    "                Values[v] = Values[a1] - Values[a2]\n",
    "            case (v, '*', a1, a2):\n",
    "                Values[v] = Values[a1] * Values[a2]\n",
    "            case (v, '/', a1, a2):\n",
    "                Values[v] = Values[a1] / Values[a2]\n",
    "            case (v, 'exp', a):\n",
    "                Values[v] = math.exp(Values[a])\n",
    "            case (v, 'log', a):\n",
    "                Values[v] = math.log(Values[a])\n",
    "            case (v, 'sin', a):\n",
    "                Values[v] = math.sin(Values[a])\n",
    "            case (v, 'cos', a):\n",
    "                Values[v] = math.cos(Values[a])\n",
    "            case (v, 'atan', a):\n",
    "                Values[v] = math.atan(Values[a])\n",
    "            case (v, r):\n",
    "                Values[v] = r\n",
    "    return Values['y']"
   ]
  },
  {
   "cell_type": "code",
   "execution_count": null,
   "id": "70ae9d00",
   "metadata": {},
   "outputs": [],
   "source": [
    "eval_graph(CG, {'x1': 0, 'x2': 1})"
   ]
  },
  {
   "cell_type": "code",
   "execution_count": null,
   "id": "42553f25",
   "metadata": {},
   "outputs": [],
   "source": [
    "def add_to_dictionary(D, key, value):\n",
    "    if key in D:\n",
    "        D[key] |= { value }\n",
    "    else:\n",
    "        D[key]  = { value }"
   ]
  },
  {
   "cell_type": "markdown",
   "id": "069a9e91",
   "metadata": {},
   "source": [
    "Given a *computational graph* `CG`, the function `parents` returns a dictionary `Parents` such that\n",
    "for every node name `n` occurring in `CG` we have that `Parents[n]` is the set of nodes that are parents \n",
    "of the node labeled with `n`. "
   ]
  },
  {
   "cell_type": "code",
   "execution_count": null,
   "id": "b9896947",
   "metadata": {},
   "outputs": [],
   "source": [
    "def parents(CG):\n",
    "    Parents = {}\n",
    "    for node in CG:\n",
    "        match node:\n",
    "            case (p, _, a):\n",
    "                add_to_dictionary(Parents, a, p)\n",
    "            case (p, _, a1, a2):\n",
    "                add_to_dictionary(Parents, a1, p)\n",
    "                add_to_dictionary(Parents, a2, p)\n",
    "    return Parents"
   ]
  },
  {
   "cell_type": "code",
   "execution_count": null,
   "id": "e2e07b85",
   "metadata": {},
   "outputs": [],
   "source": [
    "parents(CG)"
   ]
  },
  {
   "cell_type": "code",
   "execution_count": null,
   "id": "32b3ba23",
   "metadata": {},
   "outputs": [],
   "source": [
    "def node_dictionary(CG):\n",
    "    D = {}\n",
    "    for node in CG:\n",
    "        name    = node[0]\n",
    "        D[name] = node\n",
    "    return D"
   ]
  },
  {
   "cell_type": "code",
   "execution_count": null,
   "id": "0cf38206",
   "metadata": {},
   "outputs": [],
   "source": [
    "node_dictionary(CG)"
   ]
  },
  {
   "cell_type": "markdown",
   "id": "38072e91",
   "metadata": {},
   "source": [
    "The function `partial_derivative` takes three arguments:\n",
    "* `Node` is a computational node,\n",
    "* `arg` is the name of a node occurring as argument in `Node`, \n",
    "* `Values` is a dictionary that stores a value for every node name.\n",
    "It computes the partial derivative of `Node` w.r.t. `arg`."
   ]
  },
  {
   "cell_type": "code",
   "execution_count": null,
   "id": "6f267482",
   "metadata": {},
   "outputs": [],
   "source": [
    "def partial_derivative(Node, arg, Values):\n",
    "    result = 0\n",
    "    match Node:\n",
    "        case n, '+', a1, a2:\n",
    "            if arg == a1 == a2:\n",
    "                return 2\n",
    "            if arg == a1 or arg == a2:\n",
    "                return 1\n",
    "            else:\n",
    "                assert False, f'partial_derivative({Node}, {arg})'\n",
    "        case n, '-', a1, a2:\n",
    "            if arg == a1 == a2:\n",
    "                return 0\n",
    "            if arg == a1:\n",
    "                return 1\n",
    "            if arg == a2:\n",
    "                return -1\n",
    "            else:\n",
    "                assert False, f'partial_derivative({Node}, {arg})'\n",
    "        case n, '*', a1, a2:\n",
    "            if arg == a1 == a2:\n",
    "                return 2 * Values[a1]\n",
    "            if arg == a1:\n",
    "                return Values[a2]\n",
    "            if arg == a2:\n",
    "                return Values[a1]\n",
    "            else:\n",
    "                assert False, f'partial_derivative({Node}, {arg})'\n",
    "        case n, '/', a1, a2:\n",
    "            if arg == a1 == a2:\n",
    "                return 0\n",
    "            if arg == a1:\n",
    "                return 1 / Values[a2]\n",
    "            if arg == a2:\n",
    "                return -Values[a1] / Values[a2] ** 2\n",
    "            else:\n",
    "                assert False, f'partial_derivative({Node}, {arg})'\n",
    "        case n, 'exp', a:\n",
    "            return math.exp(Values[a])\n",
    "        case n, 'log', a:\n",
    "            return math.log(Values[a])\n",
    "        case n, 'sin', a:\n",
    "            return math.cos(Values[a])\n",
    "        case n, 'cos', a:\n",
    "            return -math.sin(Values[a])\n",
    "        case n, 'atan', a:\n",
    "            return 1 / (1 + Values[a]**2)\n",
    "    return result"
   ]
  },
  {
   "cell_type": "code",
   "execution_count": null,
   "id": "01356ba4",
   "metadata": {},
   "outputs": [],
   "source": [
    "def adjoints(CG, Values, Variables):\n",
    "    eval_graph(CG, Values)\n",
    "    NodeDict = node_dictionary(CG)\n",
    "    Parents  = parents(CG)\n",
    "    n = len(CG)\n",
    "    Adjoints = {}\n",
    "    Adjoints['y'] = 1\n",
    "    for k in range(2, n+1):\n",
    "        Node   = CG[-k]\n",
    "        print(f'inspecting {Node}')\n",
    "        name   = Node[0]\n",
    "        result = 0\n",
    "        for parent_name in Parents[name]:\n",
    "            parent_node = NodeDict[parent_name]\n",
    "            result += Adjoints[parent_name] * partial_derivative(parent_node, name, Values)\n",
    "        Adjoints[name] = result\n",
    "    for x in Variables:\n",
    "        result = 0\n",
    "        for parent_name in Parents[x]:\n",
    "            parent_node = NodeDict[parent_name]\n",
    "            result += Adjoints[parent_name] * partial_derivative(parent_node, x, Values)\n",
    "        Adjoints[x] = result\n",
    "    return Adjoints"
   ]
  },
  {
   "cell_type": "code",
   "execution_count": null,
   "id": "47bb6a03",
   "metadata": {},
   "outputs": [],
   "source": [
    "adjoints(CG, { 'x1': 0, 'x2': 1 }, { 'x1', 'x2' })"
   ]
  },
  {
   "cell_type": "code",
   "execution_count": null,
   "id": "0dd57b15",
   "metadata": {},
   "outputs": [],
   "source": [
    "CG"
   ]
  },
  {
   "cell_type": "code",
   "execution_count": null,
   "id": "84a6ddb2",
   "metadata": {},
   "outputs": [],
   "source": [
    "import ast"
   ]
  },
  {
   "cell_type": "code",
   "execution_count": null,
   "id": "d343290c",
   "metadata": {},
   "outputs": [],
   "source": [
    "t = ast.parse('x1 + x2')"
   ]
  },
  {
   "cell_type": "code",
   "execution_count": null,
   "id": "81d80c00",
   "metadata": {},
   "outputs": [],
   "source": [
    "ast.dump(t)"
   ]
  },
  {
   "cell_type": "code",
   "execution_count": null,
   "id": "cfeaad23",
   "metadata": {},
   "outputs": [],
   "source": [
    "ast.dump(t.body[0])"
   ]
  },
  {
   "cell_type": "code",
   "execution_count": null,
   "id": "d50e8b0d",
   "metadata": {},
   "outputs": [],
   "source": [
    "t.body."
   ]
  }
 ],
 "metadata": {
  "kernelspec": {
   "display_name": "Python 3 (ipykernel)",
   "language": "python",
   "name": "python3"
  },
  "language_info": {
   "codemirror_mode": {
    "name": "ipython",
    "version": 3
   },
   "file_extension": ".py",
   "mimetype": "text/x-python",
   "name": "python",
   "nbconvert_exporter": "python",
   "pygments_lexer": "ipython3",
   "version": "3.10.0"
  }
 },
 "nbformat": 4,
 "nbformat_minor": 5
}
