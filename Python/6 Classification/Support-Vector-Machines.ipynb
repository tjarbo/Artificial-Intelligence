{
 "cells": [
  {
   "cell_type": "code",
   "execution_count": null,
   "metadata": {},
   "outputs": [],
   "source": [
    "from IPython.core.display import HTML\n",
    "with open (\"../style.css\", \"r\") as file:\n",
    "    css = file.read()\n",
    "HTML(css)"
   ]
  },
  {
   "cell_type": "markdown",
   "metadata": {},
   "source": [
    "# Support Vector Machines"
   ]
  },
  {
   "cell_type": "markdown",
   "metadata": {},
   "source": [
    "This notebook discusses <em style=\"color:blue;\">support vector machines</em>.  In order to understand why we need support vector machines (abbreviated as SVMs), we \n",
    "will first demonstrate that classifiers constructed with <em style=\"color:blue;\">logistic regression</em> sometimes behave unintuitively."
   ]
  },
  {
   "cell_type": "markdown",
   "metadata": {},
   "source": [
    "## The Problem with Logistic Regression"
   ]
  },
  {
   "cell_type": "markdown",
   "metadata": {},
   "source": [
    "In this section of the notebook we discuss an example that demonstrates that logistic regression is not necessarily the best classifier we can get. "
   ]
  },
  {
   "cell_type": "code",
   "execution_count": null,
   "metadata": {},
   "outputs": [],
   "source": [
    "import numpy                as np\n",
    "import matplotlib.pyplot    as plt\n",
    "import seaborn              as sns\n",
    "import sklearn.linear_model as lm"
   ]
  },
  {
   "cell_type": "markdown",
   "metadata": {},
   "source": [
    "We construct a small data set containing just three points."
   ]
  },
  {
   "cell_type": "code",
   "execution_count": null,
   "metadata": {},
   "outputs": [],
   "source": [
    "X = np.array([[1.00, 2.00],\n",
    "              [2.00, 1.00],\n",
    "              [3.50, 3.50]])\n",
    "Y = np.array([0, \n",
    "              0, \n",
    "              1])"
   ]
  },
  {
   "cell_type": "markdown",
   "metadata": {},
   "source": [
    "To proceed, we will plot the data points using a scatter plot.  Furthermore, we plot a green line that intuitively make the best decision boundary."
   ]
  },
  {
   "cell_type": "code",
   "execution_count": null,
   "metadata": {},
   "outputs": [],
   "source": [
    "plt.figure(figsize=(12, 12))\n",
    "Corner = np.array([[0.0, 5.0], [5.0, 0.0]])\n",
    "X_pass = X[Y == 1]\n",
    "X_fail = X[Y == 0]\n",
    "sns.set(style='darkgrid')\n",
    "plt.title('A Simple Classification Problem')\n",
    "plt.axvline(x=0.0, c='k')\n",
    "plt.axhline(y=0.0, c='k')\n",
    "plt.xlabel('x1')\n",
    "plt.ylabel('x2')\n",
    "plt.xticks(np.arange(0.0, 5.1, step=0.5))\n",
    "plt.yticks(np.arange(0.0, 5.1, step=0.5))\n",
    "X1 = np.arange(0, 5.05, 0.05)\n",
    "X2 = 5 - X1\n",
    "plt.plot(X1, X2, color='green', linestyle='-')\n",
    "X1 = np.arange(0, 3.05, 0.05)\n",
    "X2 = 3 - X1\n",
    "plt.plot(X1, X2, color='cyan', linestyle=':')\n",
    "X1 = np.arange(2.0, 5.05, 0.05)\n",
    "X2 = 7 - X1\n",
    "plt.plot(X1, X2, color='cyan', linestyle=':')\n",
    "plt.scatter(Corner[:,0], Corner[:,1], color='white', marker='.')\n",
    "plt.scatter(X_pass[:,0], X_pass[:,1], color='b', marker='o') # class 1 is blue\n",
    "plt.scatter(X_fail[:,0], X_fail[:,1], color='r', marker='x') # class 2 is red"
   ]
  },
  {
   "cell_type": "markdown",
   "metadata": {},
   "source": [
    "If we want to separate the two red crosses at $(1,2)$ and $(2,1)$  from the blue bullet at $(3.5, 3.5)$, then the decision boundary that would create the \n",
    "widest margin between these points would be given by the green line.  The *road* separating these points would have a width of $4 \\cdot \\sqrt{2}$. "
   ]
  },
  {
   "cell_type": "markdown",
   "metadata": {},
   "source": [
    "Let us classify these data using logistic regression and see what we get.  We will plot the <b style=\"color:blue;\">decision boundary</b>.  If $\\vartheta_0$, $\\vartheta_1$, and $\\vartheta_2$ are the parameters of the logistic model, then the decision boundary is given by the linear equation\n",
    "$$ \\vartheta_0 + \\vartheta_1 \\cdot x_1 + \\vartheta_2 \\cdot x_2 = 0. $$\n",
    "This can be rewritten as\n",
    "$$ x_2 = - \\frac{\\vartheta_0 + \\vartheta_1 \\cdot x_1}{\\vartheta_2}. $$\n",
    "The function $\\texttt{plot_data_and_boundary}(X, Y, \\vartheta_0, \\vartheta_1, \\vartheta_2)$ takes the data $X$, their classes $Y$ and the parameters \n",
    "$\\vartheta_0$, $\\vartheta_1$, and $\\vartheta_2$ of the logistic model as inputs and plots the data and the decision boundary.     "
   ]
  },
  {
   "cell_type": "code",
   "execution_count": null,
   "metadata": {},
   "outputs": [],
   "source": [
    "def plot_data_and_boundary(X, Y, ϑ0, ϑ1, ϑ2):\n",
    "    Corner = np.array([[0.0, 5.0], [5.0, 0.0]])\n",
    "    X_pass = X[Y == 1]\n",
    "    X_fail = X[Y == 0]\n",
    "    plt.figure(figsize=(12, 12))\n",
    "    sns.set(style='darkgrid')\n",
    "    plt.title('A Simple Classification Problem')\n",
    "    plt.axvline(x=0.0, c='k')\n",
    "    plt.axhline(y=0.0, c='k')\n",
    "    plt.xlabel('x1')\n",
    "    plt.ylabel('x2')\n",
    "    plt.xticks(np.arange(0.0, 5.1, step=0.5))\n",
    "    plt.yticks(np.arange(0.0, 5.1, step=0.5))\n",
    "    plt.scatter(Corner[:,0], Corner[:,1], color='white', marker='.')\n",
    "    plt.scatter(X_pass[:,0], X_pass[:,1], color='blue' , marker='o') \n",
    "    plt.scatter(X_fail[:,0], X_fail[:,1], color='red'  , marker='x')  \n",
    "    a  = max(- (ϑ0 + ϑ2 * 5)/ϑ1, 0.0)\n",
    "    b  = min(- ϑ0/ϑ1           , 5.0)\n",
    "    a, b = min(a, b), max(a, b)\n",
    "    X1 = np.arange(a-0.1, b+0.02, 0.05)\n",
    "    X2 = -(ϑ0 + ϑ1 * X1)/ϑ2\n",
    "    print('slope of decision boundary', -ϑ1/ϑ2)\n",
    "    plt.plot(X1, X2, color='green')"
   ]
  },
  {
   "cell_type": "markdown",
   "metadata": {},
   "source": [
    "The function $\\texttt{train_and_plot}(X, Y)$ takes a design matrix $X$ and a vector $Y$ containing zeros and ones.  It builds a regression model and plots the data together with the decision boundary."
   ]
  },
  {
   "cell_type": "code",
   "execution_count": null,
   "metadata": {},
   "outputs": [],
   "source": [
    "def train_and_plot(X, Y):\n",
    "    M = lm.LogisticRegression(C=1, solver='lbfgs')\n",
    "    M.fit(X, Y)\n",
    "    ϑ0     = M.intercept_[0]\n",
    "    ϑ1, ϑ2 = M.coef_[0]\n",
    "    plot_data_and_boundary(X, Y, ϑ0, ϑ1, ϑ2)"
   ]
  },
  {
   "cell_type": "code",
   "execution_count": null,
   "metadata": {},
   "outputs": [],
   "source": [
    "train_and_plot(X, Y)"
   ]
  },
  {
   "cell_type": "markdown",
   "metadata": {},
   "source": [
    "We decision boundary is closer to the blue data point than to the red data points.  This is not optimal."
   ]
  },
  {
   "cell_type": "markdown",
   "metadata": {},
   "source": [
    "The function $\\texttt{gen_X_Y}(n)$ take a natural number $n$ and generates additional data.  The number $n$ is the number of blue data points.\n",
    "Concretely, it will add $n-1$ data points to the right of the blue dot shown above.  This should not really change the decision boundary as the data \n",
    "do not provide any new information.  After all, these data are to the right of the first blue dot and hence should share the class of this data point."
   ]
  },
  {
   "cell_type": "code",
   "execution_count": null,
   "metadata": {},
   "outputs": [],
   "source": [
    "def gen_X_Y(n):\n",
    "    X = np.array([[1.0, 2.0], [2.0, 1.0]] +\n",
    "                 [[3.5 + k*0.0015, 3.5] for k in range(n)])\n",
    "    Y = np.array([0, 0] + [1] * n)\n",
    "    return X, Y"
   ]
  },
  {
   "cell_type": "code",
   "execution_count": null,
   "metadata": {},
   "outputs": [],
   "source": [
    "X, Y = gen_X_Y(1000)\n",
    "train_and_plot(X, Y)"
   ]
  },
  {
   "cell_type": "markdown",
   "metadata": {},
   "source": [
    "When we test logistic regression with this data set, we see that the slope of the decision boundary is much steeper now and the separation of the blue dots from the red crosses is far worse than it needs to be, had the optimal decision boundary been computed."
   ]
  },
  {
   "cell_type": "markdown",
   "metadata": {},
   "source": [
    "Let us see how <em style=\"color:blue;\">support vector machines</em> deal with these data."
   ]
  },
  {
   "cell_type": "code",
   "execution_count": null,
   "metadata": {},
   "outputs": [],
   "source": [
    "import sklearn.svm as svm"
   ]
  },
  {
   "cell_type": "markdown",
   "metadata": {},
   "source": [
    "First, we construct a support vector machine with a linear kernel and next to no regularization and train it with the data."
   ]
  },
  {
   "cell_type": "code",
   "execution_count": null,
   "metadata": {},
   "outputs": [],
   "source": [
    "M = svm.SVC(kernel='linear', C=10000)\n",
    "M.fit(X, Y)\n",
    "M.score(X, Y)"
   ]
  },
  {
   "cell_type": "markdown",
   "metadata": {},
   "source": [
    "The following function is used for plotting."
   ]
  },
  {
   "cell_type": "code",
   "execution_count": null,
   "metadata": {},
   "outputs": [],
   "source": [
    "def plot_data_and_boundary(X, Y, M, title):\n",
    "    Corner = np.array([[0.0, 5.0], [5.0, 0.0]])\n",
    "    X0, X1 = X[:, 0], X[:, 1]\n",
    "    XX, YY = np.meshgrid(np.arange(0, 5, 0.005), np.arange(0, 5, 0.005))\n",
    "    Z = M.predict(np.c_[XX.ravel(), YY.ravel()])\n",
    "    Z = Z.reshape(XX.shape)\n",
    "    plt.figure(figsize=(10, 10))\n",
    "    sns.set(style='darkgrid')\n",
    "    plt.contour(XX, YY, Z)\n",
    "    plt.scatter(Corner[:,0], Corner[:,1], color='black', marker='.')\n",
    "    plt.scatter(X0, X1, c=Y, edgecolors='k')\n",
    "    plt.xlim(XX.min(), XX.max())\n",
    "    plt.ylim(YY.min(), YY.max())\n",
    "    plt.xlabel('x1')\n",
    "    plt.ylabel('x2')\n",
    "    plt.xticks()\n",
    "    plt.yticks()\n",
    "    plt.title(title)"
   ]
  },
  {
   "cell_type": "code",
   "execution_count": null,
   "metadata": {},
   "outputs": [],
   "source": [
    "plot_data_and_boundary(X, Y, M, 'some data')"
   ]
  },
  {
   "cell_type": "markdown",
   "metadata": {},
   "source": [
    "The decision boundary separates the data perfectly because it maximizes the distance of the data from the boundary."
   ]
  },
  {
   "cell_type": "code",
   "execution_count": null,
   "metadata": {},
   "outputs": [],
   "source": [
    "X = np.array([[1.00, 2.00],\n",
    "              [2.00, 1.00],\n",
    "              [3.50, 3.50]])\n",
    "Y = np.array([0, \n",
    "              0, \n",
    "              1])"
   ]
  },
  {
   "cell_type": "code",
   "execution_count": null,
   "metadata": {},
   "outputs": [],
   "source": [
    "plot_data_and_boundary(X, Y, M, 'three points')"
   ]
  },
  {
   "cell_type": "code",
   "execution_count": null,
   "metadata": {},
   "outputs": [],
   "source": [
    "import pandas as pd"
   ]
  },
  {
   "cell_type": "markdown",
   "metadata": {},
   "source": [
    "Let's load some strange data that I have found somewhere."
   ]
  },
  {
   "cell_type": "code",
   "execution_count": null,
   "metadata": {},
   "outputs": [],
   "source": [
    "DF = pd.read_csv('strange-data.csv')\n",
    "DF.head()"
   ]
  },
  {
   "cell_type": "code",
   "execution_count": null,
   "metadata": {},
   "outputs": [],
   "source": [
    "X = np.array(DF[['x1', 'x2']])\n",
    "Y = np.array(DF['y'])\n",
    "Red  = X[Y == 1]\n",
    "Blue = X[Y == 0]"
   ]
  },
  {
   "cell_type": "code",
   "execution_count": null,
   "metadata": {},
   "outputs": [],
   "source": [
    "M = svm.SVC(kernel='rbf', gamma=400.0, C=10000)\n",
    "M.fit(X, Y)\n",
    "M.score(X, Y)"
   ]
  },
  {
   "cell_type": "code",
   "execution_count": null,
   "metadata": {},
   "outputs": [],
   "source": [
    "X0, X1 = X[:, 0], X[:, 1]\n",
    "XX, YY = np.meshgrid(np.arange(0.0, 1.1, 0.001), np.arange(0.3, 1.0, 0.001))\n",
    "Z = M.predict(np.c_[XX.ravel(), YY.ravel()])\n",
    "Z = Z.reshape(XX.shape)\n",
    "plt.figure(figsize=(12, 12))\n",
    "plt.contour(XX, YY, Z, colors='green')\n",
    "plt.scatter(Blue[:, 0], Blue[:, 1], color='blue')\n",
    "plt.scatter(Red [:, 0], Red [:, 1], color='red')\n",
    "plt.xlabel('x1')\n",
    "plt.ylabel('x2')\n",
    "plt.title('Strange Data')"
   ]
  },
  {
   "cell_type": "markdown",
   "metadata": {},
   "source": [
    "This example shows that support vector machines with Gaussian kernel can describe very complicated structures."
   ]
  }
 ],
 "metadata": {
  "kernelspec": {
   "display_name": "Python 3",
   "language": "python",
   "name": "python3"
  },
  "language_info": {
   "codemirror_mode": {
    "name": "ipython",
    "version": 3
   },
   "file_extension": ".py",
   "mimetype": "text/x-python",
   "name": "python",
   "nbconvert_exporter": "python",
   "pygments_lexer": "ipython3",
   "version": "3.10.2"
  }
 },
 "nbformat": 4,
 "nbformat_minor": 2
}
