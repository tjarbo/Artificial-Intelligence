{
 "cells": [
  {
   "cell_type": "code",
   "execution_count": null,
   "metadata": {},
   "outputs": [],
   "source": [
    "from IPython.core.display import HTML\n",
    "with open (\"../style.css\", \"r\") as file:\n",
    "    css = file.read()\n",
    "HTML(css)"
   ]
  },
  {
   "cell_type": "markdown",
   "metadata": {},
   "source": [
    "# Spam Detection  Using the Naive Bayes Algorithm"
   ]
  },
  {
   "cell_type": "markdown",
   "metadata": {},
   "source": [
    "The process of creating a spam detector using the naive Bayes algorithm is split up into four steps.\n",
    "\n",
    "  - Create a set of the most common words occurring in spam and ham (i.e. non-spam) emails.\n",
    "  - For every word occurring in this set, compute the conditional probability that this words occurs in a spam or ham email.\n",
    "  - Create a function that takes an email and the conditional probabilities computed before and that then computes the probability\n",
    "    that the given email is spam.\n",
    "  - Evaluate the <em style='color:blue;'>precision</em> and the <em style='color:blue;'>recall</em> of the spam classifier."
   ]
  },
  {
   "cell_type": "markdown",
   "metadata": {},
   "source": [
    "## Step 1: Create Word Dictionary"
   ]
  },
  {
   "cell_type": "markdown",
   "metadata": {},
   "source": [
    "We need the module `os` for reading directories and the module `re` for \n",
    "<em style='color:blue;'>regular expressions</em>."
   ]
  },
  {
   "cell_type": "code",
   "execution_count": null,
   "metadata": {},
   "outputs": [],
   "source": [
    "import os\n",
    "import re\n",
    "import math"
   ]
  },
  {
   "cell_type": "markdown",
   "metadata": {},
   "source": [
    "An object of class <a href='https://docs.python.org/2/library/collections.html#counter-objects'>`Counter`</a> is a special form of a `dictionary` that is used for counting.  We need a counter to figure out what the most common words are."
   ]
  },
  {
   "cell_type": "code",
   "execution_count": null,
   "metadata": {},
   "outputs": [],
   "source": [
    "from collections import Counter"
   ]
  },
  {
   "cell_type": "markdown",
   "metadata": {},
   "source": [
    "The directory \n",
    "https://github.com/karlstroetmann/Artificial-Intelligence/tree/master/Python/EmailData\n",
    "contains 960 emails that are divided into four subdirectories:\n",
    "\n",
    "  - `spam-train` contains 350 spam emails for training,\n",
    "  - `ham-train`  contains 350 non-spam emails for training,\n",
    "  - `spam-test`  contains 130 spam emails for testing,\n",
    "  - `ham-test`   contains 130 non-spam emails for testing.\n",
    "\n",
    "Originally, this data has been collected by **Ion Androutsopoulos**.  I have found this data on the page \n",
    "http://openclassroom.stanford.edu/MainFolder/DocumentPage.php?course=MachineLearning&doc=exercises/ex6/ex6.html provided by Andrew Ng."
   ]
  },
  {
   "cell_type": "markdown",
   "metadata": {},
   "source": [
    "We declare some variables so this notebook can be adapted to other data sets."
   ]
  },
  {
   "cell_type": "code",
   "execution_count": null,
   "metadata": {},
   "outputs": [],
   "source": [
    "spam_dir_train = 'EmailData/spam-train/'\n",
    "ham__dir_train = 'EmailData/ham-train/'\n",
    "spam_dir_test  = 'EmailData/spam-test/'\n",
    "ham__dir_test  = 'EmailData/ham-test/'\n",
    "Directories    = [spam_dir_train, ham__dir_train, spam_dir_test, ham__dir_test]"
   ]
  },
  {
   "cell_type": "markdown",
   "metadata": {},
   "source": [
    "In order to compute the <em style='color:blue;'>prior probability</em> that an email is ham or spam we need to count the number of spam and ham emails."
   ]
  },
  {
   "cell_type": "code",
   "execution_count": null,
   "metadata": {},
   "outputs": [],
   "source": [
    "no_spam    = len(os.listdir(spam_dir_train))\n",
    "no_ham     = len(os.listdir(ham__dir_train))\n",
    "spam_prior = no_spam / (no_spam + no_ham)\n",
    "ham__prior = no_ham  / (no_spam + no_ham)\n",
    "spam_prior, ham__prior"
   ]
  },
  {
   "cell_type": "markdown",
   "metadata": {},
   "source": [
    "I have checked that the proportion of spam and ham emails in the test directory is also $1:1$.  If the proportion of spam and ham emails in life is different from $1:1$, then we would have to use this proportion in the spam filter to be developed."
   ]
  },
  {
   "cell_type": "markdown",
   "metadata": {},
   "source": [
    "The function $\\texttt{get_words}(\\texttt{fn})$ takes a filename $\\texttt{fn}$ as its argument.  It reads the file and returns a set of all words that are found in this file.  The words are transformed to lower case."
   ]
  },
  {
   "cell_type": "code",
   "execution_count": null,
   "metadata": {},
   "outputs": [],
   "source": [
    "def get_words(fn):\n",
    "    file = open(fn)\n",
    "    text = file.read()\n",
    "    text = text.lower()\n",
    "    return set(re.findall(r\"[\\w']+\", text))"
   ]
  },
  {
   "cell_type": "markdown",
   "metadata": {},
   "source": [
    "Let us test this function with a small example mail."
   ]
  },
  {
   "cell_type": "code",
   "execution_count": null,
   "metadata": {},
   "outputs": [],
   "source": [
    "get_words('EmailData/ham-train/3-380msg4.txt')"
   ]
  },
  {
   "cell_type": "markdown",
   "metadata": {},
   "source": [
    "The function `read_all_files` reads all files contained in those directories that are stored in the list `Directories`. \n",
    "It returns a `Counter`.  For every word $w$ this counter contains the number of files that contain $w$. "
   ]
  },
  {
   "cell_type": "code",
   "execution_count": null,
   "metadata": {},
   "outputs": [],
   "source": [
    "def read_all_files():\n",
    "    Words = Counter()\n",
    "    for directory in Directories:\n",
    "        for file_name in os.listdir(directory):\n",
    "            Words.update(get_words(directory + file_name))\n",
    "    return Words"
   ]
  },
  {
   "cell_type": "markdown",
   "metadata": {},
   "source": [
    "`Common_Words` is a list of the 2500 most common words found in all of our emails."
   ]
  },
  {
   "cell_type": "code",
   "execution_count": null,
   "metadata": {},
   "outputs": [],
   "source": [
    "N            = 2500             # number of the most common words to use\n",
    "Word_Counter = read_all_files()\n",
    "Word_Counter"
   ]
  },
  {
   "cell_type": "code",
   "execution_count": null,
   "metadata": {},
   "outputs": [],
   "source": [
    "Common_Words = { w for w, _ in Word_Counter.most_common(N) }\n",
    "Common_Words"
   ]
  },
  {
   "cell_type": "markdown",
   "metadata": {},
   "source": [
    "## Computing the Conditional Probabilities"
   ]
  },
  {
   "cell_type": "markdown",
   "metadata": {},
   "source": [
    "Having computed the most common words, we are now ready to compute the conditional probability that a given word occurs in a spam email."
   ]
  },
  {
   "cell_type": "markdown",
   "metadata": {},
   "source": [
    "The function $\\texttt{get_common_words}(\\texttt{fn})$ takes a filename $\\texttt{fn}$ \n",
    "as its argument.  It reads the file and returns the set of all words in `Common_Words` that are found in the given file.  "
   ]
  },
  {
   "cell_type": "code",
   "execution_count": null,
   "metadata": {},
   "outputs": [],
   "source": [
    "def get_common_words(fn):\n",
    "    return get_words(fn) & Common_Words"
   ]
  },
  {
   "cell_type": "markdown",
   "metadata": {},
   "source": [
    "We test this function for a small email."
   ]
  },
  {
   "cell_type": "code",
   "execution_count": null,
   "metadata": {},
   "outputs": [],
   "source": [
    "get_common_words('EmailData/ham-train/3-380msg4.txt')"
   ]
  },
  {
   "cell_type": "markdown",
   "metadata": {},
   "source": [
    "The function `count_common_words` takes a string specifying a `directory`.  It returns a \n",
    "`Counter` that counts how often the words in `Common_Words` occur in any of the files in `directory`."
   ]
  },
  {
   "cell_type": "code",
   "execution_count": null,
   "metadata": {},
   "outputs": [],
   "source": [
    "def count_commmon_words(directory):\n",
    "    Words = Counter()\n",
    "    for file_name in os.listdir(directory):\n",
    "        Words.update(get_common_words(directory + file_name))\n",
    "    return Words"
   ]
  },
  {
   "cell_type": "markdown",
   "metadata": {},
   "source": [
    "Next, we compute dictionaries that store the number of occurrences in emails for every common word."
   ]
  },
  {
   "cell_type": "code",
   "execution_count": null,
   "metadata": {},
   "outputs": [],
   "source": [
    "Spam_Counter = count_commmon_words(spam_dir_train)\n",
    "Spam_Counter"
   ]
  },
  {
   "cell_type": "code",
   "execution_count": null,
   "metadata": {},
   "outputs": [],
   "source": [
    "Ham__Counter = count_commmon_words(ham__dir_train)\n",
    "Ham__Counter"
   ]
  },
  {
   "cell_type": "markdown",
   "metadata": {},
   "source": [
    " For every common word $w$  we compute the probability that $w$ occurs in a spam or ham email.  The formula for spam is:\n",
    " $$ P(w \\in\\texttt{Spam}) = \\frac{\\mbox{number of spam emails containing $w$}}{\\mbox{number of all spam emails}} $$\n",
    " The formula for ham is similar:\n",
    " $$ P(w \\in\\texttt{Ham}) = \\frac{\\mbox{number of ham emails containing $w$}}{\\mbox{number of all ham emails}} $$\n",
    " However, if we would use this formular, than a common word $w$ that, for some reason, hasn't yet occurred in any spam email, would have a \n",
    " probability of $0$ of occurring in spam email.  Hence, our classifier would never classify an email with the word $w$ as spam.  As this\n",
    " cannot be right, we assume that there is one further spam email that contains every common word.  This \n",
    " <em style='color:blue;'>Laplace smoothing</em> assumption changes the formula for $P(w \\in\\texttt{Spam})$ as follows:\n",
    " $$ P(w \\in\\texttt{Spam}) = \\frac{\\mbox{number of spam emails containing $w$ + 1}}{\\mbox{number of all spam emails + 1}} $$"
   ]
  },
  {
   "cell_type": "code",
   "execution_count": null,
   "metadata": {},
   "outputs": [],
   "source": [
    "Spam_Probability = {}\n",
    "Ham__Probability = {}\n",
    "for w in Common_Words:\n",
    "    Spam_Probability[w] = (Spam_Counter[w] + 1) / (no_spam + 1) \n",
    "    Ham__Probability[w] = (Ham__Counter[w] + 1) / (no_ham  + 1) \n",
    "Spam_Probability"
   ]
  },
  {
   "cell_type": "markdown",
   "metadata": {},
   "source": [
    "According to our computation, the probability that a spam email contains the word `'consonant'` is about $0.28\\%$, while the probability that this word occurs in a ham email is $2.55\\%$."
   ]
  },
  {
   "cell_type": "code",
   "execution_count": null,
   "metadata": {},
   "outputs": [],
   "source": [
    "Spam_Probability['consonant'], Ham__Probability['consonant']"
   ]
  },
  {
   "cell_type": "markdown",
   "metadata": {},
   "source": [
    "For the word `'dollar'` the probability that a spam email contains this word is about $21.1\\%$, while the probability that this word occurs in a ham email is $1.99\\%$."
   ]
  },
  {
   "cell_type": "code",
   "execution_count": null,
   "metadata": {},
   "outputs": [],
   "source": [
    "Spam_Probability['dollar'], Ham__Probability['dollar']"
   ]
  },
  {
   "cell_type": "markdown",
   "metadata": {},
   "source": [
    "## Deciding whether an Email is Spam"
   ]
  },
  {
   "cell_type": "markdown",
   "metadata": {},
   "source": [
    "Given a file name `fn`, this function returns the probability that the message contained in the given file is spam.  \n",
    "\n",
    "When implementing the formula \n",
    "$$\\arg\\max\\limits_{C \\in \\mathcal{C}}  \\left(\\prod\\limits_{i=1}^m P(f_i \\;|\\; C)\\right) \\cdot P(C) $$\n",
    "we have to be careful, because a naive implementation will eveluate the product\n",
    "$$\\prod\\limits_{i=1}^m P(f_i \\;|\\; C)$$\n",
    "as the number $0$ due to numerical underflow.  The trick to compute this product is to remember that\n",
    "$$ \\ln(a \\cdot b) = \\ln(a) + \\ln(b) $$\n",
    "and therefore transform the product into a sum of logarithms:\n",
    "$$ \\prod\\limits_{i=1}^m P(f_i \\;|\\; C) = \\exp\\left(\\alpha + \\sum\\limits_{i=1}^m \\ln\\bigl(P(f_i \\;|\\; C)\\bigr) \\right) \\cdot \\exp(-\\alpha)$$\n",
    "Here, the constant $\\alpha$ has to be chosen such that the application of the function `exp` to the value\n",
    "$$ \\alpha + \\sum\\limits_{i=1}^m \\ln\\bigl(P(f_i \\;|\\; C)\\bigr) $$\n",
    "does not lead to an underflow error.\n",
    "\n",
    "As we want to compute a probability, we have to be aware that the term\n",
    "$$ \\left(\\prod\\limits_{i=1}^m P(f_i \\;|\\; C)\\right) \\cdot P(C) $$\n",
    "is not the probability that the object is of class $C$ but rather is only *proportional* to this probability.  The fact that the probability\n",
    "of an email being spam + the probability that the email is ham must be $1$ enables us to compute the probability."
   ]
  },
  {
   "cell_type": "code",
   "execution_count": null,
   "metadata": {},
   "outputs": [],
   "source": [
    "def spam_probability(fn):\n",
    "    log_p_spam = 0.0\n",
    "    log_p_ham  = 0.0\n",
    "    words = get_common_words(fn)\n",
    "    for w in Common_Words:\n",
    "        if w in words:\n",
    "            log_p_spam += math.log(Spam_Probability[w])\n",
    "            log_p_ham  += math.log(Ham__Probability[w])\n",
    "        else:\n",
    "            log_p_spam += math.log(1.0 - Spam_Probability[w])\n",
    "            log_p_ham  += math.log(1.0 - Ham__Probability[w])\n",
    "    alpha  = abs(max(log_p_spam, log_p_ham))\n",
    "    p_spam = math.exp(log_p_spam + alpha) * spam_prior\n",
    "    p_ham  = math.exp(log_p_ham  + alpha) * ham__prior\n",
    "    return p_spam / (p_spam + p_ham)"
   ]
  },
  {
   "cell_type": "markdown",
   "metadata": {},
   "source": [
    "Let us test this with a ham email."
   ]
  },
  {
   "cell_type": "code",
   "execution_count": null,
   "metadata": {},
   "outputs": [],
   "source": [
    "spam_probability('EmailData/ham-train/3-430msg1.txt')"
   ]
  },
  {
   "cell_type": "markdown",
   "metadata": {},
   "source": [
    "Ok, we got this one right.  Let us check the general performance."
   ]
  },
  {
   "cell_type": "markdown",
   "metadata": {},
   "source": [
    "## Evaluate Precision and Recall"
   ]
  },
  {
   "cell_type": "markdown",
   "metadata": {},
   "source": [
    "In order to evaluate the performance of this algorithm, we need to define two new concepts: <em style='color:blue;'>precision</em> and \n",
    "<em style='color:blue;'>recall</em>.  Let us call the ham emails the <em style='color:blue;'>positives</em>, while the spam emails are called the\n",
    "<em style='color:blue;'>negatives</em>.  Then we define\n",
    "\n",
    "  - <em style='color:blue;'>true positives</em>: ham emails that are classified as ham,\n",
    "  - <em style='color:blue;'>false positives</em>: spam emails that are classified as ham,\n",
    "  - <em style='color:blue;'>true negatives</em>: spam emails that are classified as spam,\n",
    "  - <em style='color:blue;'>false negatives</em>: ham emails that are classified as spam.\n",
    "  \n",
    "The <em style='color:blue;'>precision</em> of the spam classifier is then defined as\n",
    "$$ \\texttt{precision} = \\frac{\\mbox{number of true positives}}{\\mbox{number of true positives} + \\mbox{number of false positives}} $$\n",
    "Therefore, the **precision** measures the percentage of the ham emails in the set of all emails that are classified as ham.\n",
    "The <em style='color:blue;'>recall</em> of the spam classifier is defined as\n",
    "$$ \\texttt{recall} = \\frac{\\mbox{number of true positives}}{\\mbox{number of true positives} + \\mbox{number of false negatives}} $$\n",
    "Therefore, the **recall** measures the percentage of those ham emails that are indeed classified as ham.  \n",
    "\n",
    "Usually, it is very important that the recall is high as we don't want to miss a ham email because our classifier has incorrectly classified it as a spam email.  \n",
    "On the other hand, having a high precision is not that important.  After all, if $10\\%$ of the emails offered to us as ham are, in fact, spam, we might tolerate this.  However, we would certainly not tolerate missing $10\\%$ of our ham emails because they are incorrectly specified as spam."
   ]
  },
  {
   "cell_type": "markdown",
   "metadata": {},
   "source": [
    "The function `precission_recall` takes two directories as arguments: `spam_dir` is supposed to contain spam emails, while `ham_dir` contains ham emails.  It computes the **precision** and the **recall** of our spam classifier with respect to these test data."
   ]
  },
  {
   "cell_type": "code",
   "execution_count": null,
   "metadata": {},
   "outputs": [],
   "source": [
    "def precission_recall(spam_dir, ham_dir):\n",
    "    TN = 0 # true negatives\n",
    "    FP = 0 # false positives\n",
    "    for email in os.listdir(spam_dir):\n",
    "        if spam_probability(spam_dir + email) > 0.5:\n",
    "            TN += 1\n",
    "        else:\n",
    "            FP += 1\n",
    "    FN = 0 # false negatives\n",
    "    TP = 0 # true positives\n",
    "    for email in os.listdir(ham_dir):\n",
    "        if spam_probability(ham_dir + email) > 0.5:\n",
    "            FN += 1\n",
    "        else:\n",
    "            TP += 1\n",
    "    precision = TP / (TP + FP)\n",
    "    recall    = TP / (TP + FN)\n",
    "    accuracy  = (TN + TP) / (TN + TP + FN + FP)\n",
    "    return precision, recall, accuracy"
   ]
  },
  {
   "cell_type": "code",
   "execution_count": null,
   "metadata": {},
   "outputs": [],
   "source": [
    "precission_recall(spam_dir_train, ham__dir_train)"
   ]
  },
  {
   "cell_type": "code",
   "execution_count": null,
   "metadata": {},
   "outputs": [],
   "source": [
    "precission_recall(spam_dir_test, ham__dir_test)"
   ]
  }
 ],
 "metadata": {
  "kernelspec": {
   "display_name": "Python 3",
   "language": "python",
   "name": "python3"
  },
  "language_info": {
   "codemirror_mode": {
    "name": "ipython",
    "version": 3
   },
   "file_extension": ".py",
   "mimetype": "text/x-python",
   "name": "python",
   "nbconvert_exporter": "python",
   "pygments_lexer": "ipython3",
   "version": "3.10.2"
  }
 },
 "nbformat": 4,
 "nbformat_minor": 2
}
