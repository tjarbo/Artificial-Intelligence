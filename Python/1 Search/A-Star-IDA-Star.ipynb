{
 "cells": [
  {
   "cell_type": "code",
   "execution_count": null,
   "metadata": {},
   "outputs": [],
   "source": [
    "from IPython.core.display import HTML\n",
    "with open('../style.css') as f:\n",
    "    css = f.read()\n",
    "HTML(css)"
   ]
  },
  {
   "cell_type": "markdown",
   "metadata": {},
   "source": [
    "# A$^*$-IDA$^*$ Search"
   ]
  },
  {
   "cell_type": "code",
   "execution_count": null,
   "metadata": {},
   "outputs": [],
   "source": [
    "import heapq"
   ]
  },
  {
   "cell_type": "markdown",
   "metadata": {},
   "source": [
    "The function `search` takes four arguments to solve a *search problem*:\n",
    "- `start` is the start state of the search problem,\n",
    "- `goal` is the goal state, and\n",
    "- `next_states` is a function with signature $\\texttt{next_states}:Q \\rightarrow 2^Q$, where $Q$ is the set of states.\n",
    "  For every state $s \\in Q$, $\\texttt{next_states}(s)$ is the set of states that can be reached from $s$ in one step.\n",
    "- `heuristic` is a function that takes two states as arguments.  It \n",
    "  returns an estimate of the length of the shortest path between these\n",
    "  states.\n",
    "- `size` is the maximum number states that A$^*$ search is allowed \n",
    "   to explore.\n",
    "   \n",
    "If successful, `search` returns a path from `start` to `goal` that is a solution of the search problem\n",
    "$$ \\langle Q, \\texttt{next_states}, \\texttt{start}, \\texttt{goal} \\rangle. $$\n",
    "\n",
    "The function `search` implements A$^*$-IDA$^*$ search.\n",
    "The main idea of A$^*$-IDA$^*$ is to run an $\\mathrm{A}^*$ search from the node \n",
    "`start` until memory is more or less exhausted.  Then, we start $\\mathrm{IDA}^*$ from the node `goal` node and search towards the node \n",
    "`start` until we find any of the nodes discovered by the $\\mathrm{A}^*$ search \n",
    "that had been started from the node `start` node."
   ]
  },
  {
   "cell_type": "code",
   "execution_count": null,
   "metadata": {},
   "outputs": [],
   "source": [
    "def search(start, goal, next_states, heuristic, size):\n",
    "    Parent    = { start: start }\n",
    "    PrioQueue = [ (heuristic(start, goal), [start]) ]\n",
    "    while len(Parent) < size and PrioQueue:\n",
    "        _, Path = heapq.heappop(PrioQueue)\n",
    "        state   = Path[-1]\n",
    "        if state == goal:\n",
    "            return Path\n",
    "        for ns in next_states(state):\n",
    "            if ns not in Parent:\n",
    "                prio = heuristic(ns, goal) + len(Path)\n",
    "                Parent[ns] = state\n",
    "                heapq.heappush(PrioQueue, (prio, Path + [ns]))\n",
    "    Path = id_search(goal, start, next_states, heuristic, Parent)\n",
    "    return path_to(Path[-1], Parent) + Path[::-1][1:]"
   ]
  },
  {
   "cell_type": "code",
   "execution_count": null,
   "metadata": {},
   "outputs": [],
   "source": [
    "def id_search(goal, start, next_states, heuristic, Parent):\n",
    "    limit = heuristic(start, goal)\n",
    "    while True:\n",
    "        print(f'limit = {limit}')\n",
    "        Path = dl_search([goal], start, next_states, limit, heuristic, Parent)\n",
    "        if isinstance(Path, list):\n",
    "            return Path\n",
    "        limit = Path"
   ]
  },
  {
   "cell_type": "code",
   "execution_count": null,
   "metadata": {},
   "outputs": [],
   "source": [
    "def dl_search(Path, start, next_states, limit, heuristic, Parent):\n",
    "    state = Path[-1]\n",
    "    total = len(Path) - 1 + heuristic(state, start)\n",
    "    if total > limit:\n",
    "        return total\n",
    "    if state in Parent:\n",
    "        return Path\n",
    "    smallest = float('Inf')\n",
    "    for ns in next_states(state):\n",
    "        if ns not in Path:\n",
    "            result = dl_search( Path + [ns], start, next_states, \n",
    "                                limit, heuristic, Parent\n",
    "                              )\n",
    "            if isinstance(result, list):\n",
    "                return result\n",
    "            smallest = min(smallest, result)\n",
    "    return smallest"
   ]
  },
  {
   "cell_type": "markdown",
   "metadata": {},
   "source": [
    "Given a `state` and a parent dictionary `Parent`, the function `path_to` returns a path leading to the given `state`."
   ]
  },
  {
   "cell_type": "code",
   "execution_count": null,
   "metadata": {},
   "outputs": [],
   "source": [
    "def path_to(state, Parent):\n",
    "    p = Parent[state]\n",
    "    if p == state:\n",
    "        return [state]\n",
    "    return path_to(p, Parent) + [state]"
   ]
  },
  {
   "cell_type": "markdown",
   "metadata": {},
   "source": [
    "Let's draw the start state and animate the solution that has been found."
   ]
  },
  {
   "cell_type": "code",
   "execution_count": null,
   "metadata": {},
   "outputs": [],
   "source": [
    "%run Sliding-Puzzle.ipynb"
   ]
  },
  {
   "cell_type": "code",
   "execution_count": null,
   "metadata": {},
   "outputs": [],
   "source": [
    "%load_ext memory_profiler"
   ]
  },
  {
   "cell_type": "code",
   "execution_count": null,
   "metadata": {},
   "outputs": [],
   "source": [
    "%%time\n",
    "Path = search(start, goal, next_states, manhattan, 1000)\n",
    "print(len(Path)-1)"
   ]
  },
  {
   "cell_type": "code",
   "execution_count": null,
   "metadata": {},
   "outputs": [],
   "source": [
    "animation(Path)"
   ]
  },
  {
   "cell_type": "code",
   "execution_count": null,
   "metadata": {},
   "outputs": [],
   "source": [
    "%%time\n",
    "Path = search(start2, goal2, next_states, manhattan, 10000)\n",
    "print(len(Path)-1)"
   ]
  },
  {
   "cell_type": "code",
   "execution_count": null,
   "metadata": {},
   "outputs": [],
   "source": [
    "animation(Path)"
   ]
  }
 ],
 "metadata": {
  "kernelspec": {
   "display_name": "Python 3 (ipykernel)",
   "language": "python",
   "name": "python3"
  },
  "language_info": {
   "codemirror_mode": {
    "name": "ipython",
    "version": 3
   },
   "file_extension": ".py",
   "mimetype": "text/x-python",
   "name": "python",
   "nbconvert_exporter": "python",
   "pygments_lexer": "ipython3",
   "version": "3.9.6"
  },
  "toc": {
   "base_numbering": 1,
   "nav_menu": {},
   "number_sections": true,
   "sideBar": true,
   "skip_h1_title": false,
   "title_cell": "Table of Contents",
   "title_sidebar": "Contents",
   "toc_cell": false,
   "toc_position": {},
   "toc_section_display": true,
   "toc_window_display": false
  },
  "varInspector": {
   "cols": {
    "lenName": 16,
    "lenType": 16,
    "lenVar": 40
   },
   "kernels_config": {
    "python": {
     "delete_cmd_postfix": "",
     "delete_cmd_prefix": "del ",
     "library": "var_list.py",
     "varRefreshCmd": "print(var_dic_list())"
    },
    "r": {
     "delete_cmd_postfix": ") ",
     "delete_cmd_prefix": "rm(",
     "library": "var_list.r",
     "varRefreshCmd": "cat(var_dic_list()) "
    }
   },
   "types_to_exclude": [
    "module",
    "function",
    "builtin_function_or_method",
    "instance",
    "_Feature"
   ],
   "window_display": false
  }
 },
 "nbformat": 4,
 "nbformat_minor": 2
}
